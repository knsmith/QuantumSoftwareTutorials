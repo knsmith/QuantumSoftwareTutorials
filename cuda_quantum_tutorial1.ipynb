{
 "cells": [
  {
   "cell_type": "markdown",
   "metadata": {},
   "source": [
    "# CUDA Quantum\n",
    "\n",
    "[\"With a unified and open programming model, NVIDIA CUDA-Q is an open-source platform for integrating and programming quantum processing units (QPUs), GPUs, and CPUs in one system. CUDA-Q enables GPU-accelerated system scalability and performance across heterogeneous QPU, CPU, GPU, and emulated quantum system elements.\" - NVIDIA](https://developer.nvidia.com/cuda-q)\n",
    "\n",
    "\n",
    "## System Requirements \n",
    "(For version 0.7.0 as of 2024-04-30)\n",
    "\n",
    "-   x86-64 / ARM64\n",
    "-   Linux\n",
    "-   Python 3.8 - 3.11\n",
    "-   glibc 2.28+\n",
    "-   **GPU NOT REQUIRED** (although recommended)"
   ]
  },
  {
   "cell_type": "code",
   "execution_count": null,
   "metadata": {},
   "outputs": [],
   "source": [
    "!pip install cuda_quantum==0.7.0"
   ]
  },
  {
   "cell_type": "markdown",
   "metadata": {},
   "source": [
    "## [Kernels](https://nvidia.github.io/cuda-quantum/latest/using/basics/kernel_intro.html)\n",
    "\n",
    "A *CUDA quantum kernel* is a function that can be ran on a quantum device. It is a modular arrangement of quantum circuits and classical programs / control structures, facilitating hybrid quantum-classical programs (e.g. quantum machine learning)."
   ]
  },
  {
   "cell_type": "code",
   "execution_count": null,
   "metadata": {},
   "outputs": [],
   "source": [
    "import cudaq\n",
    "import numpy as np\n",
    "\n",
    "num_qubits = 3"
   ]
  },
  {
   "cell_type": "markdown",
   "metadata": {},
   "source": [
    "### Function Decorator\n",
    "\n",
    "Define a kernel as a Python function. Since kernels are compiled, note that `h` and `x`, representing the Hadamard and NOT gates, respectively, are not defined in the Python scope. However, this gets resolved and compiled by `cuda_quantum`.\n",
    "\n",
    "Supports dynamic generation of quantum circuits using runtime variables and classical structures (if statements, for loops)\n",
    "Decorator construction cannot be composited with other kernels."
   ]
  },
  {
   "cell_type": "code",
   "execution_count": null,
   "metadata": {},
   "outputs": [],
   "source": [
    "# Define our kernel.\n",
    "@cudaq.kernel\n",
    "def kernel(num_qubits: int):\n",
    "    # Allocate our qubits.\n",
    "    qvector = cudaq.qvector(num_qubits)\n",
    "    # Place the first qubit in the superposition state.\n",
    "    h(qvector[0])\n",
    "    # Loop through the allocated qubits and apply controlled-X,\n",
    "    # or CNOT, operations between them.\n",
    "    for qubit in range(num_qubits - 1):\n",
    "        x.ctrl(qvector[qubit], qvector[qubit + 1])\n",
    "    \n",
    "print(cudaq.draw(kernel, num_qubits))"
   ]
  },
  {
   "cell_type": "markdown",
   "metadata": {},
   "source": [
    "### Object Definition\n",
    "\n",
    "`cudaq.make_kernel` creates a `PyKernel` object the user can the interact with.\n",
    "Kernel objects are largely defined statically, meaning if a user wants to leverage passed dynamic arguments, they will raise errors if using the default Python implementations (`if/else` statements, `for` loops). Need to use the structures defined in `cudaq.PyKernel`."
   ]
  },
  {
   "cell_type": "code",
   "execution_count": null,
   "metadata": {},
   "outputs": [],
   "source": [
    "kernel, qubit_count = cudaq.make_kernel(int)\n",
    "\n",
    "qvector = kernel.qalloc(qubit_count)\n",
    "\n",
    "kernel.h(qvector[0])\n",
    "\n",
    "# for i in range(qubit_count - 1):\n",
    "#     kernel.cx(qvector[i], qvector[i + 1])\n",
    "kernel.for_loop(0, qubit_count-1, lambda i: kernel.cx(qvector[i], qvector[i + 1]))\n",
    "\n",
    "print(cudaq.draw(kernel, num_qubits))"
   ]
  },
  {
   "cell_type": "markdown",
   "metadata": {},
   "source": [
    "#### Creating composite kernels\n",
    "\n",
    "It is very difficult to create composite kernels since variables from the child kernel cannot be returns to the parent. For example, the child cannot create a `qvector` where the parent can also place gates on it.\n",
    "\n",
    "Passing a `qvector` as a parameter means that the child cannot exist independently."
   ]
  },
  {
   "cell_type": "code",
   "execution_count": null,
   "metadata": {},
   "outputs": [],
   "source": [
    "ghz, qvector, qubit_count = cudaq.make_kernel(cudaq.qvector, int)\n",
    "\n",
    "ghz.h(qvector[0])\n",
    "ghz.for_loop(0, qubit_count-1, lambda i: ghz.cx(qvector[i], qvector[i + 1]))"
   ]
  },
  {
   "cell_type": "code",
   "execution_count": null,
   "metadata": {},
   "outputs": [],
   "source": [
    "# print(cudaq.draw(ghz, cudaq.qvector(num_qubits), num_qubits))"
   ]
  },
  {
   "cell_type": "code",
   "execution_count": null,
   "metadata": {},
   "outputs": [],
   "source": [
    "measure, qubit_count = cudaq.make_kernel(int)\n",
    "\n",
    "qvector = measure.qalloc(qubit_count)\n",
    "\n",
    "# Insert ghz circuit\n",
    "measure.apply_call(ghz, qvector, qubit_count)\n",
    "\n",
    "# Apply measurement\n",
    "measure.mz(qvector)\n",
    "\n",
    "print(cudaq.draw(measure, num_qubits))"
   ]
  },
  {
   "cell_type": "markdown",
   "metadata": {},
   "source": [
    "## Sampling and Expectation Values\n",
    "\n",
    "Supports sampling the quantum circuit (reconstructing the statevector $\\ket{\\psi}$) and finding the expectation value of the quantum circuit ($\\langle \\psi \\rangle$) from some Hamiltonian $H$: \n",
    "$\\langle \\psi \\rangle = \\langle \\psi \\vert H \\vert \\psi \\rangle$."
   ]
  },
  {
   "cell_type": "code",
   "execution_count": null,
   "metadata": {},
   "outputs": [],
   "source": [
    "# Note: if no measurement (mz, mx, my) operation is provided, measures all qubits in z-basis (mz) by default\n",
    "results: cudaq.SampleResult = cudaq.sample(measure, num_qubits, shots_count=10000)\n",
    "results.dump()"
   ]
  },
  {
   "cell_type": "code",
   "execution_count": null,
   "metadata": {},
   "outputs": [],
   "source": [
    "hamiltonian = cudaq.spin.z(0)\n",
    "result: cudaq.ObserveResult = cudaq.observe(kernel, hamiltonian, num_qubits, shots_count=10000)\n",
    "result.expectation()"
   ]
  },
  {
   "cell_type": "markdown",
   "metadata": {},
   "source": [
    "### Targets / Backends\n",
    "\n",
    "Users can run a kernel on simulated or hardware backends or \"targets\". Target selection is done using the command below, where `identifier` is the string identifer of the target shown in the below table.\n",
    "\n",
    "```cudaq.set_target(\"identifier\")```\n",
    "\n",
    "| Name                          | Identifier        | Type       | Description                                                                             |\n",
    "| --------                      | -------           | -------    | -------                                                                                 |\n",
    "| Single-GPU                    | `\"nvidia\"`        | Simulation | A statevector simulator using the `cuStateVec` library.                                 |\n",
    "| Multi-Node, Multi-GPU         | `\"nvidia-mgpu\"`   | Simulation | `cuStateVec` statevector simulator with support for multi-Node, multi-GPU distribution. |\n",
    "| OpenMP CPU-only               | `\"qpp-cpu\"`       | Simulation | CPU-only statevector simulator that is OpenMP-threaded using `Q++`. |\n",
    "| Tensor Network                | `\"tensornet\"`     | Simulation | Represents quantum states as tensor networks. Supports multi-node, multi-GPU distribution of tensor operations and contractions. |\n",
    "| Matrix Product State          | `\"tensornet-mps\"` | Simulation | Single-GPU simulation of quantum circuits as matrix-product states. Exploits sparse tensor networks and numerical approximation. |\n",
    "| NVIDIA Multi-Processor        | `\"nvidia-mqpu\"`   | Simulation | Creates 1 simulated quantum processing unit for every GPU on the system. |\n",
    "| Remote Multi-Processor        | `\"remote-mqpu\"`   | Simulation | Like `\"nvidia-mqpu\"`, but wraps simulated QPUs into independent HTTP REST server instances. |\n",
    "| NVIDIA Quantum Cloud (NVQC)   | `\"nvqc\"`          | Simulation | Simulation on the NVIDIA Quantum Cloud platorm. Supports the other simulation methods above. |\n",
    "| Quantunuum                    | `\"quantinuum\"`    | Hardware   | Trapped-ion quantum computers. |\n",
    "| IonQ                          | `\"ionq\"`          | Hardware   | Trapped-ion quantum computers. |\n",
    "| Oxford Quantum Circuits (OQC) | `\"oqc\"`           | Hardware   | Supports the 8-qubit, ring-topology **Lucy** device and the 32-qubit, Kagome-lattice-topology **Toshiko** device. |\n",
    "| IQM                           | `\"iqm\"`           | Hardware   | **Under development.** |\n",
    "\n"
   ]
  },
  {
   "cell_type": "markdown",
   "metadata": {},
   "source": [
    "### [Noisy Simulation with Noise Models](https://nvidia.github.io/cuda-quantum/latest/examples/python/tutorials/noisy_simulations.html)"
   ]
  },
  {
   "cell_type": "code",
   "execution_count": null,
   "metadata": {},
   "outputs": [],
   "source": [
    "# First, we will define an out of the box noise channel. In this case,\n",
    "# we choose depolarization noise. This depolarization will result in\n",
    "# the qubit state decaying into a mix of the basis states, |0> and |1>,\n",
    "# with our provided probability.\n",
    "error_probability = 0.1\n",
    "depolarization_channel = cudaq.DepolarizationChannel(error_probability)\n",
    "\n",
    "# We can also define our own, custom noise channels through\n",
    "# Kraus operators. Here we will define two operators representing\n",
    "# bit flip errors.\n",
    "\n",
    "# Define the Kraus Error Operator as a complex ndarray.\n",
    "kraus_0 = np.sqrt(1 - error_probability) * np.array([[1.0, 0.0], [0.0, 1.0]], dtype=np.complex128)\n",
    "kraus_1 = np.sqrt(error_probability) * np.array([[0.0, 1.0], [1.0, 0.0]], dtype=np.complex128)\n",
    "\n",
    "# Add the Kraus Operator to create a quantum channel.\n",
    "bitflip_channel = cudaq.KrausChannel([kraus_0, kraus_1])\n",
    "\n",
    "# Add the two channels to our Noise Model.\n",
    "noise_model = cudaq.NoiseModel()\n",
    "\n",
    "# Apply the depolarization channel to any X-gate on the 0th qubit.\n",
    "noise_model.add_channel(\"x\", [0], depolarization_channel)\n",
    "# Apply the bitflip channel to any X-gate on the 1st qubit.\n",
    "noise_model.add_channel(\"x\", [1], bitflip_channel)"
   ]
  },
  {
   "cell_type": "code",
   "execution_count": null,
   "metadata": {},
   "outputs": [],
   "source": [
    "# Due to the impact of noise, our measurements will no longer be uniformly\n",
    "# in the |11> state.\n",
    "noisy_counts = cudaq.sample(kernel, num_qubits, noise_model=noise_model, shots_count=1000)\n",
    "noisy_counts.dump()"
   ]
  },
  {
   "cell_type": "markdown",
   "metadata": {},
   "source": [
    "## Quantum Machine Learning (QML)\n",
    "\n",
    "CUDA Quantum obviously places extreme emphasis on GPU-accelerated quantum simulation and QML. However, the platform is still immatures and QML would take too long to discuss. See tutorials below for sample QML implementations using CUDA Quantum.\n",
    "\n",
    "- [Variational Quantum Neural Network](https://nvidia.github.io/cuda-quantum/latest/examples/python/tutorials/hybrid_qnns.html)\n",
    "- [Variational Quantum Eigensolver](https://nvidia.github.io/cuda-quantum/latest/examples/python/tutorials/vqe.html)"
   ]
  }
 ],
 "metadata": {
  "kernelspec": {
   "display_name": "Python 3",
   "language": "python",
   "name": "python3"
  },
  "language_info": {
   "codemirror_mode": {
    "name": "ipython",
    "version": 3
   },
   "file_extension": ".py",
   "mimetype": "text/x-python",
   "name": "python",
   "nbconvert_exporter": "python",
   "pygments_lexer": "ipython3",
   "version": "3.11.9"
  }
 },
 "nbformat": 4,
 "nbformat_minor": 2
}
