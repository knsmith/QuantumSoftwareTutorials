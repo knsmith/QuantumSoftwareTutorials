{
 "cells": [
  {
   "cell_type": "markdown",
   "metadata": {},
   "source": [
    "# Braket Tutorial Notebook\n",
    "\n",
    "Braket is a quantum computing platform that is found on Amazon Web Services (AWS). It can be used to research and explore different types of quantum computers including superconducting, trapped ion, and neutral-atom based qubits without the need for long term subscriptions or complicated set ups. The pay-as-you-go model of AWS Braket ensures that individuals have access to physical quantum machines, but only pay for use time. Due to its integration with other AWS cloud tools, Braket is a great place to try [Hybrid quantum-classical algorithms](https://github.com/amazon-braket/amazon-braket-examples/tree/main/examples/hybrid_quantum_algorithms).\n",
    "\n",
    "Amazon provides a [detailed walkthrough](https://explore.skillbuilder.aws/learn/public/learning_plan/view/1986/amazon-braket-badge-knowledge-badge-readiness-path) of Braket through their AWS Skills Builder. Feel free to enroll in the free course to learn more about Braket's use cases. \n",
    "\n",
    "To run this notebook, [create or log into an AWS account](https://aws.amazon.com/). Once logged into the AWS Management Console, you will need to set up the AWS Command Line Interface (CLI) so we can run code to set up rather than navigate through the Management Console.\n",
    "\n",
    "Follow these steps in order to set up the necessary AWS environment:\n",
    "\n",
    "1. While in the Management Console, search for \"IAM\" and click \"Users\", then \"Create User\". Name your user (something like \"myBraketCLI\") and hit next. Select \"Attach policies directly\", then check the box corresponding to \"AdministratorAccess\" and hit next, then Create User. You should be redirected to the Users page, click on the User we just created. Under \"Security Credentials\", scroll down to \"Access Keys\" and click Create access key, then select \"Command Line Interface (CLI)\", check the confirmation box at the bottom, and hit next. A description tag is optional, then hit Create Access Key. ***IMPORTANT*** On the page that follows, we need the \"Access key\" and the \"Secret access key\", ***DO NOT CLICK DONE UNTIL AFTER STEP 2 or the keys will be lost and you will need to restart.***\n",
    "    \n",
    "2. Install the [AWS CLI SDK v2](https://docs.aws.amazon.com/cli/latest/userguide/getting-started-install.html). Once installed, open a terminal window and configure your machine by running \"aws configure\". Enter the access and secret keys from step 1. For the region, we will need to select a region with access to Braket, here we will use \"us-east-1\", and use \"json\" for the default format. Test your installation with the command \"aws --version\", and if it works, you can click \"Done\" for step 1.\n",
    "\n",
    "3. In the Management Console, search for \"Amazon Braket\". Make sure your region is set to one of the available regions (such as \"us-east-1\"). We will assume that you are a new Amazon Braket user, but if not follow [these instructions](https://docs.aws.amazon.com/braket/latest/developerguide/braket-get-started-create-notebook.html). Click on \"Get Started\" and follow the setup, clicking Accept for each window. This creates a service-linked role for Braket under your AWS account, which can be seen under \"IAM -> Roles -> AWSServiceRoleForAmazonBraket\". Additionally, this creates a Jupyter Notebook that is already set up with all dependencies and can be accessed through the AWS Management Console under \"Amazon Braket -> Notebooks -> YOUR-NOTEBOOK-NAME\". This can be used directly for future experimentation, but we will not be using it within this tutorial.\n",
    "\n",
    "4. To allow for hybrid jobs, go to the AWS Management Console -> Amazon Braket -> Permissions and settings -> Execution roles. Scroll to Hybrid jobs execution role, and try \"Verify existing roles\". If no role exists, click \"Create default role\".\n",
    "\n",
    "***DISCLAIMER:*** You must gain explicit permission to run Hybrid Jobs at this point. To do so, go to AWS Management Console -> Support -> Your support cases -> Create Case -> Account and billing -> Service = \"Account Activation\", Category = \"Account Verification\" -> Next steps, ask here for permission (which might take a few days for customer support). If you would like to run Hybrid Jobs through the AWS CLI (including this notebook), you must be running Python 3.10 as of date. Otherwise, you may create a [customized container](https://docs.aws.amazon.com/braket/latest/developerguide/braket-jobs-byoc.html) or run them through the AWS Management Console -> Amazon Braket -> Hybrid Jobs -> Create hybrid job, follow the prompts to set up.\n"
   ]
  },
  {
   "cell_type": "markdown",
   "metadata": {},
   "source": [
    "# Dependencies for Amazon Braket SDK\n",
    "\n",
    "(Following [these steps](https://github.com/amazon-braket/amazon-braket-sdk-python) to set up the AWS Braket Software Development Kit)\n",
    "\n",
    "Below are the following packages that must be installed:\n",
    "\n",
    "`pip install boto3`\n",
    "\n",
    "`pip install amazon-braket-sdk`\n",
    "\n",
    "`pip install numpy`\n",
    "\n",
    "`pip install matplotlib`\n",
    "\n",
    "`pip install matplotlib-inline`\n",
    "\n",
    "\n"
   ]
  },
  {
   "cell_type": "code",
   "execution_count": 28,
   "metadata": {},
   "outputs": [],
   "source": [
    "import boto3\n",
    "from braket.aws import AwsDevice, AwsQuantumTask\n",
    "from braket.circuits import Circuit, Gate, Noise, FreeParameter, Observable\n",
    "from braket.devices import LocalSimulator\n",
    "from braket.jobs.hybrid_job import hybrid_job\n",
    "from braket.jobs.metrics import log_metric\n",
    "\n",
    "import string\n",
    "import numpy\n",
    "import matplotlib.pyplot as plt\n",
    "%matplotlib inline\n"
   ]
  },
  {
   "cell_type": "markdown",
   "metadata": {},
   "source": [
    "# 1. Creating Simple Circuits and Local Simulations\n",
    "\n",
    "Let's begin building some quantum circuits with the Circuit class. Below are some simple examples of well known gates, as well as how they look printed out."
   ]
  },
  {
   "cell_type": "code",
   "execution_count": 55,
   "metadata": {},
   "outputs": [
    {
     "name": "stdout",
     "output_type": "stream",
     "text": [
      "Pauli X Gate:\n",
      "T  : │  0  │\n",
      "      ┌───┐ \n",
      "q0 : ─┤ X ├─\n",
      "      └───┘ \n",
      "T  : │  0  │\n",
      "\n",
      "\n",
      "CNOT Gate:\n",
      "T  : │  0  │\n",
      "            \n",
      "q0 : ───●───\n",
      "        │   \n",
      "      ┌─┴─┐ \n",
      "q1 : ─┤ X ├─\n",
      "      └───┘ \n",
      "T  : │  0  │\n",
      "\n",
      "\n",
      "Hadamard Gate:\n",
      "T  : │  0  │\n",
      "      ┌───┐ \n",
      "q0 : ─┤ H ├─\n",
      "      └───┘ \n",
      "T  : │  0  │\n"
     ]
    }
   ],
   "source": [
    "print(\"Pauli X Gate:\")\n",
    "Pauli_X = Circuit().x(0)\n",
    "print(Pauli_X)\n",
    "\n",
    "print(\"\\n\\nCNOT Gate:\")\n",
    "CNOT = Circuit().cnot(control=0,target=1)\n",
    "print(CNOT)\n",
    "\n",
    "print(\"\\n\\nHadamard Gate:\")\n",
    "Hadamard = Circuit().h(0)\n",
    "print(Hadamard)"
   ]
  },
  {
   "cell_type": "markdown",
   "metadata": {},
   "source": [
    "We can also chain gates together to create longer quantum circuits. By passing the qubit number (starting with 0) to the Circuit methods, Braket will automatically include the qubit in the circuit."
   ]
  },
  {
   "cell_type": "code",
   "execution_count": 56,
   "metadata": {},
   "outputs": [
    {
     "name": "stdout",
     "output_type": "stream",
     "text": [
      "Bell State Circuit:\n",
      "T  : │  0  │  1  │\n",
      "      ┌───┐       \n",
      "q0 : ─┤ H ├───●───\n",
      "      └───┘   │   \n",
      "            ┌─┴─┐ \n",
      "q1 : ───────┤ X ├─\n",
      "            └───┘ \n",
      "T  : │  0  │  1  │\n"
     ]
    }
   ],
   "source": [
    "bell_state = Circuit().h(0).cnot(control=0,target=1)\n",
    "print(\"Bell State Circuit:\")\n",
    "print(bell_state)"
   ]
  },
  {
   "cell_type": "markdown",
   "metadata": {},
   "source": [
    "See all of the available gates in the Amazon Braket SDK by running the below code:"
   ]
  },
  {
   "cell_type": "code",
   "execution_count": 57,
   "metadata": {},
   "outputs": [
    {
     "name": "stdout",
     "output_type": "stream",
     "text": [
      "CCNot\n",
      "CNot\n",
      "CPhaseShift\n",
      "CPhaseShift00\n",
      "CPhaseShift01\n",
      "CPhaseShift10\n",
      "CSwap\n",
      "CV\n",
      "CY\n",
      "CZ\n",
      "ECR\n",
      "GPhase\n",
      "GPi\n",
      "GPi2\n",
      "H\n",
      "I\n",
      "ISwap\n",
      "MS\n",
      "PRx\n",
      "PSwap\n",
      "PhaseShift\n",
      "PulseGate\n",
      "Rx\n",
      "Ry\n",
      "Rz\n",
      "S\n",
      "Si\n",
      "Swap\n",
      "T\n",
      "Ti\n",
      "U\n",
      "Unitary\n",
      "V\n",
      "Vi\n",
      "X\n",
      "XX\n",
      "XY\n",
      "Y\n",
      "YY\n",
      "Z\n",
      "ZZ\n"
     ]
    }
   ],
   "source": [
    "for gate in dir(Gate):\n",
    "    if gate[0] in string.ascii_uppercase:\n",
    "        print(gate)"
   ]
  },
  {
   "cell_type": "markdown",
   "metadata": {},
   "source": [
    "If you want to create your own unitary transformation, create a numpy matrix and pass it to the Circuits.unitary() method. Here we create the \"open CNOT\" gate, which flips the state of the target if the control is state |0>."
   ]
  },
  {
   "cell_type": "code",
   "execution_count": 58,
   "metadata": {},
   "outputs": [
    {
     "name": "stdout",
     "output_type": "stream",
     "text": [
      "Open CNOT Unitary:\n",
      "[[0.+0.j 1.+0.j 0.+0.j 0.+0.j]\n",
      " [1.+0.j 0.+0.j 0.+0.j 0.+0.j]\n",
      " [0.+0.j 0.+0.j 1.+0.j 0.+0.j]\n",
      " [0.+0.j 0.+0.j 0.+0.j 1.+0.j]]\n",
      "\n",
      "Open CNOT Gate:\n",
      "T  : │  0  │\n",
      "      ┌───┐ \n",
      "q0 : ─┤ U ├─\n",
      "      └─┬─┘ \n",
      "      ┌─┴─┐ \n",
      "q1 : ─┤ U ├─\n",
      "      └───┘ \n",
      "T  : │  0  │\n"
     ]
    }
   ],
   "source": [
    "open_cnot = numpy.array([[0,1,0,0],\n",
    "                        [1,0,0,0],\n",
    "                        [0,0,1,0],\n",
    "                        [0,0,0,1]])\n",
    "\n",
    "open_cnot_gate = Circuit().unitary(matrix=open_cnot, targets=[0,1])\n",
    "\n",
    "print(\"Open CNOT Unitary:\")\n",
    "print(open_cnot_gate.to_unitary())\n",
    "\n",
    "print(\"\\nOpen CNOT Gate:\")\n",
    "print(open_cnot_gate)"
   ]
  },
  {
   "cell_type": "markdown",
   "metadata": {},
   "source": [
    "Let's make sure the unitary we created has the correct expected output by comparing it to an equivalent circuit:"
   ]
  },
  {
   "cell_type": "code",
   "execution_count": 59,
   "metadata": {},
   "outputs": [
    {
     "name": "stdout",
     "output_type": "stream",
     "text": [
      "Equivalent open CNOT circuit:\n",
      "T  : │  0  │  1  │  2  │\n",
      "      ┌───┐       ┌───┐ \n",
      "q0 : ─┤ X ├───●───┤ X ├─\n",
      "      └───┘   │   └───┘ \n",
      "            ┌─┴─┐       \n",
      "q1 : ───────┤ X ├───────\n",
      "            └───┘       \n",
      "T  : │  0  │  1  │  2  │\n",
      "\n",
      "Comparison:\n",
      " [[ True  True  True  True]\n",
      " [ True  True  True  True]\n",
      " [ True  True  True  True]\n",
      " [ True  True  True  True]]\n"
     ]
    }
   ],
   "source": [
    "open_cnot_circuit = Circuit().x(0).cnot(control=0,target=1).x(0)\n",
    "print(\"Equivalent open CNOT circuit:\")\n",
    "print(open_cnot_circuit)\n",
    "\n",
    "print(\"\\nComparison:\\n\", open_cnot_circuit.to_unitary() == open_cnot_gate.to_unitary())"
   ]
  },
  {
   "cell_type": "markdown",
   "metadata": {},
   "source": [
    "Now that we have the ability to create quantum circuits, let's try measuring. Before measuring on actual hardware, we are able to run locally within the SDK's [LocalSimulator](https://amazon-braket-sdk-python.readthedocs.io/en/latest/_apidoc/braket.devices.local_simulator.html). Braket will run the \"task\", which is the circuit combined with any other device.run() parameters such as shots. Let's test the bell state generator with an ideal simulator:\n",
    "\n",
    "***NOTE:*** If we run the simulation multiple times, each result can be different due to the probabilistic nature of the measurement."
   ]
  },
  {
   "cell_type": "code",
   "execution_count": 62,
   "metadata": {},
   "outputs": [
    {
     "name": "stdout",
     "output_type": "stream",
     "text": [
      "Default Simulator: \n",
      "Counter({'00': 51, '11': 49})\n"
     ]
    },
    {
     "data": {
      "image/png": "[encoded data removed]",
      "text/plain": [
       "<Figure size 640x480 with 1 Axes>"
      ]
     },
     "metadata": {},
     "output_type": "display_data"
    }
   ],
   "source": [
    "local_device = LocalSimulator()\n",
    "ideal_bell_circuit = Circuit().h(0).cnot(control=0,target=1).measure(0).measure(1)\n",
    "task = local_device.run(ideal_bell_circuit, shots=100)\n",
    "counts = task.result().measurement_counts\n",
    "print(\"Default Simulator: \")\n",
    "print(counts)\n",
    "plt.bar(counts.keys(), counts.values())\n",
    "plt.xlabel('Joint State')\n",
    "plt.ylabel('Counts')\n",
    "plt.title('Ideal Simulation');\n"
   ]
  },
  {
   "cell_type": "markdown",
   "metadata": {},
   "source": [
    "We can also add noise directly to a circuit and create a LocalSimulator capable of handling noise. Let's try the same simulation again, now adding some depolarization noise:"
   ]
  },
  {
   "cell_type": "code",
   "execution_count": 66,
   "metadata": {},
   "outputs": [
    {
     "name": "stdout",
     "output_type": "stream",
     "text": [
      "\n",
      "Noisy Simulator:\n",
      "Counter({'11': 46, '00': 36, '10': 11, '01': 7})\n",
      "T  : │         0         │         1         │  2  │\n",
      "      ┌───┐ ┌───────────┐       ┌───────────┐ ┌───┐ \n",
      "q0 : ─┤ H ├─┤ DEPO(0.1) ├───●───┤ DEPO(0.1) ├─┤ M ├─\n",
      "      └───┘ └───────────┘   │   └───────────┘ └───┘ \n",
      "                          ┌─┴─┐ ┌───────────┐ ┌───┐ \n",
      "q1 : ─────────────────────┤ X ├─┤ DEPO(0.1) ├─┤ M ├─\n",
      "                          └───┘ └───────────┘ └───┘ \n",
      "T  : │         0         │         1         │  2  │\n"
     ]
    },
    {
     "data": {
      "text/plain": [
       "Text(0.5, 1.0, 'Noisy Simulation')"
      ]
     },
     "execution_count": 66,
     "metadata": {},
     "output_type": "execute_result"
    },
    {
     "data": {
      "image/png": "[encoded data removed]",
      "text/plain": [
       "<Figure size 640x480 with 1 Axes>"
      ]
     },
     "metadata": {},
     "output_type": "display_data"
    }
   ],
   "source": [
    "noise = Noise.Depolarizing(probability=0.1)\n",
    "noisy_local_device = LocalSimulator(\"braket_dm\")\n",
    "noisy_bell_circuit = Circuit().h(0).cnot(control=0,target=1).apply_gate_noise(noise).measure(0).measure(1)\n",
    "noisy_task = noisy_local_device.run(noisy_bell_circuit, shots=100)\n",
    "noisy_counts = noisy_task.result().measurement_counts\n",
    "print(\"\\nNoisy Simulator:\")\n",
    "print(noisy_counts)\n",
    "print(noisy_bell_circuit)\n",
    "plt.bar(noisy_counts.keys(), noisy_counts.values())\n",
    "plt.xlabel('Joint State')\n",
    "plt.ylabel('Counts')\n",
    "plt.title('Noisy Simulation')"
   ]
  },
  {
   "cell_type": "markdown",
   "metadata": {},
   "source": [
    "# 2. Sending Circuits to Outside Simulators and Physical Hardware\n",
    "\n",
    "Great! We were able to build some quantum circuits and run them locally. But these are just simulations of what SHOULD happen. Braket also provides the option to run on physical quantum chips, as well as outside qubit simulators.\n",
    "\n",
    "First, we will cover the AWS hardware simulators. To find a list of devices, go to the AWS Management Console -> Amazon Braket -> Devices. Click on one of the available devices and locate its \"Device ARN\"; this is what we will connect to. Copy the ARN and use it as the input to the AwsDevice() class constructor:"
   ]
  },
  {
   "cell_type": "code",
   "execution_count": 34,
   "metadata": {},
   "outputs": [
    {
     "name": "stdout",
     "output_type": "stream",
     "text": [
      "Using device:  SV1\n",
      "Supported Gates:  ['ccnot', 'cnot', 'cphaseshift', 'cphaseshift00', 'cphaseshift01', 'cphaseshift10', 'cswap', 'cy', 'cz', 'ecr', 'h', 'i', 'iswap', 'pswap', 'phaseshift', 'rx', 'ry', 'rz', 's', 'si', 'swap', 't', 'ti', 'unitary', 'v', 'vi', 'x', 'xx', 'xy', 'y', 'yy', 'z', 'zz']\n"
     ]
    }
   ],
   "source": [
    "#device = AwsDevice(\"YOUR-DEVICE-ARN-HERE\")\n",
    "simulator_device = AwsDevice(\"arn:aws:braket:::device/quantum-simulator/amazon/sv1\")\n",
    "\n",
    "device_operations = simulator_device.properties.dict()['action']['braket.ir.jaqcd.program']['supportedOperations']\n",
    "print(\"Using device: \", simulator_device.name)\n",
    "print(\"Supported Gates: \", device_operations)"
   ]
  },
  {
   "cell_type": "markdown",
   "metadata": {},
   "source": [
    "Once we are connected to the hardware simulator, we can run our tasks just like before:"
   ]
  },
  {
   "cell_type": "code",
   "execution_count": 35,
   "metadata": {},
   "outputs": [
    {
     "name": "stdout",
     "output_type": "stream",
     "text": [
      "\n",
      " SV1  Simulator:\n",
      "Counter({'11': 51, '00': 49})\n"
     ]
    },
    {
     "data": {
      "image/png": "[encoded data removed]",
      "text/plain": [
       "<Figure size 640x480 with 1 Axes>"
      ]
     },
     "metadata": {},
     "output_type": "display_data"
    }
   ],
   "source": [
    "bell_circuit = Circuit().h(0).cnot(control=0,target=1).measure(0).measure(1)\n",
    "task = simulator_device.run(bell_circuit, shots=100)\n",
    "counts = task.result().measurement_counts\n",
    "print(\"\\n\", simulator_device.name, \" Simulator:\")\n",
    "print(counts)\n",
    "plt.bar(counts.keys(), counts.values())\n",
    "plt.xlabel('Joint State')\n",
    "plt.ylabel('Counts')\n",
    "plt.title(simulator_device.name + ' Simulation');\n"
   ]
  },
  {
   "cell_type": "markdown",
   "metadata": {},
   "source": [
    "In addition to the results, we are also able to obtain some other metadata from the run we send to AWS Braket:"
   ]
  },
  {
   "cell_type": "code",
   "execution_count": 36,
   "metadata": {},
   "outputs": [
    {
     "name": "stdout",
     "output_type": "stream",
     "text": [
      "Task Date: Thu, 02 May 2024 02:22:25 GMT\n",
      "Shots taken: 100\n"
     ]
    }
   ],
   "source": [
    "metadata = task.metadata()\n",
    "task_id = task.id\n",
    "\n",
    "print(\"Task Date:\", metadata['ResponseMetadata']['HTTPHeaders']['date'])\n",
    "print(\"Shots taken:\", metadata[\"shots\"])\n",
    "#print(\"task_id:\", task_id)\n"
   ]
  },
  {
   "cell_type": "markdown",
   "metadata": {},
   "source": [
    "This can be useful to retrieve the data from a specific task without having to rerun the entire simulation. Either save the task id as shown above, or go to the AWS Management Console -> Amazon Braket -> Quantum Tasks, and from here click on the task you want to load. Copy the \"Quantum Task ARN\" for the task you would like to load. Additionally, this window will show you the task details and provides a link to \"Results\" which stores the simulation results in S3 (the AWS data bucket).\n",
    "\n",
    "***NOTE:*** If you run the task above + metadata loading and then reload it below, the results will be exactly the same, it will not rerun the simulation and it will not change no matter how many times it is loaded.\n",
    "\n",
    "***NOTE AGAIN:*** The time to load and display results is much shorter than sending the simulation to actually run. This feature is particularly useful when scaling to large simulations that take longer to run, and it is also useful because you might have to wait until your turn on the machine to simulate."
   ]
  },
  {
   "cell_type": "code",
   "execution_count": 37,
   "metadata": {},
   "outputs": [
    {
     "name": "stdout",
     "output_type": "stream",
     "text": [
      "\n",
      " Loaded Successfully...\n",
      " SV1  Simulator:\n",
      "Counter({'11': 51, '00': 49})\n"
     ]
    },
    {
     "data": {
      "image/png": "[encoded data removed]",
      "text/plain": [
       "<Figure size 640x480 with 1 Axes>"
      ]
     },
     "metadata": {},
     "output_type": "display_data"
    }
   ],
   "source": [
    "task_load = AwsQuantumTask(arn=task_id)\n",
    "counts = task_load.result().measurement_counts\n",
    "print(\"\\n Loaded Successfully...\\n\", simulator_device.name, \" Simulator:\")\n",
    "print(counts)\n",
    "plt.bar(counts.keys(), counts.values())\n",
    "plt.xlabel('Joint State')\n",
    "plt.ylabel('Counts')\n",
    "plt.title(simulator_device.name + ' Simulation');"
   ]
  },
  {
   "cell_type": "markdown",
   "metadata": {},
   "source": [
    "Let's move on to running our circuits on physical hardware. Looking under the \"Devices\" tab from before, AWS offers access to 7 different Quantum Processing Units (as of April 27th, 2024). Some of these are Offline, Under Maintenence, or Reservation Only, so we must pick one that has the AVAILABLE NOW tag. This may change from day to day. You can check information on the device through the Management Console, or by printing below:\n",
    "\n",
    "***NOTE:*** If you want to use gate based computation as before, make sure your device description includes \"unviversal gate-model\", as some devices use Analog Hamiltonian Simulation which requires a different circuit representation (not covered in this tutorial)."
   ]
  },
  {
   "cell_type": "code",
   "execution_count": 5,
   "metadata": {},
   "outputs": [
    {
     "name": "stdout",
     "output_type": "stream",
     "text": [
      "Checking availability...\n",
      "AVAILABLE!\n",
      "Using device: Harmony located at Maryland, USA\n",
      "Device Price: price=0.01 unit='shot'\n",
      "\n",
      "Device Schedule: \n",
      "ExecutionDay.WEEKDAYS starts on 12:00:00 and ends on 03:00:00\n",
      "\n",
      "Device Docs: imageUrl='http://d1.awsstatic.com/re19/Braket/IonQ%20Logo.59ea92b40cff5a2c2e90d9d981b864c2f424c5a8.png' summary='Universal gate-model QPU based on trapped ions' externalDocumentationUrl='https://ionq.com/quantum-systems/harmony'\n",
      "Shots Range: (1, 10000)\n"
     ]
    }
   ],
   "source": [
    "#device = AwsDevice(\"YOUR-DEVICE-ARN-HERE\")\n",
    "QPU_device = AwsDevice(\"arn:aws:braket:us-east-1::device/qpu/ionq/Harmony\")\n",
    "\n",
    "print(\"Checking availability...\")\n",
    "if (QPU_device.is_available):\n",
    "    print(\"AVAILABLE!\")\n",
    "    print(\"Using device:\", QPU_device.name, \"located at\", QPU_device.properties.service.deviceLocation)\n",
    "    print(\"Device Price:\", QPU_device.properties.service.deviceCost)\n",
    "    print(\"\\nDevice Schedule: \")\n",
    "    available_days = QPU_device.properties.service.executionWindows\n",
    "    for day in available_days:\n",
    "        print(day.executionDay, \"starts on\", day.windowStartHour, \"and ends on\", day.windowEndHour)\n",
    "    print(\"\\nDevice Docs:\", QPU_device.properties.service.deviceDocumentation)\n",
    "    print(\"Shots Range:\", QPU_device.properties.service.shotsRange)\n",
    "else:\n",
    "    print(\"Not Available, please try a different device.\")"
   ]
  },
  {
   "cell_type": "markdown",
   "metadata": {},
   "source": [
    "Run the same circuit as before, but on physical hardware this time:\n",
    "\n",
    "***NOTE:*** There is a price to each shot! DO NOT run without taking this into consideration!\n",
    "\n",
    "***NOTE AGAIN:*** DO NOT RUN MULTIPLE TIMES! Running this block will send the job to the queue and will keep your place in line EVEN IF YOU STOP THIS CODE BLOCK. ***Running multiple times will send multiple jobs to the queue, and you will be charged for each job sent.*** If you wish to cancel a task, you can checkbox it within the \"Quantum Tasks\" window, click the \"Actions\" dropdown, and click \"Cancel quantum task\". You will not be charged for cancelling a job."
   ]
  },
  {
   "cell_type": "code",
   "execution_count": null,
   "metadata": {},
   "outputs": [],
   "source": [
    "#LAST RUN TIMER: 95 minutes, 44 seconds, STILL QUEUED. \n",
    "#Running this cell will send your job to the AWS queue\n",
    "\n",
    "bell_circuit = Circuit().h(0).cnot(control=0,target=1).measure(0).measure(1)\n",
    "print(\"Sending quantum task to QPU!\\nWaiting on result...\")\n",
    "task = QPU_device.run(bell_circuit, shots=100)\n",
    "counts = task.result().measurement_counts\n",
    "print(\"\\n\", QPU_device.name, \" Simulator:\")\n",
    "print(counts)\n",
    "plt.bar(counts.keys(), counts.values())\n",
    "plt.xlabel('Joint State')\n",
    "plt.ylabel('Counts')\n",
    "plt.title(QPU_device.name + ' Simulation');\n",
    "\n",
    "QPU_task_id = task.id"
   ]
  },
  {
   "cell_type": "markdown",
   "metadata": {},
   "source": [
    "We will do the same loading as before in case there are no QPUs available or it takes too long (make sure to take the ARN of a completed task):"
   ]
  },
  {
   "cell_type": "code",
   "execution_count": 7,
   "metadata": {},
   "outputs": [
    {
     "name": "stdout",
     "output_type": "stream",
     "text": [
      "\n",
      " Loaded Successfully...\n",
      " Harmony  QPU:\n",
      "Counter({'11': 56, '00': 43, '10': 1})\n"
     ]
    },
    {
     "data": {
      "image/png": "[encoded data removed]",
      "text/plain": [
       "<Figure size 640x480 with 1 Axes>"
      ]
     },
     "metadata": {},
     "output_type": "display_data"
    }
   ],
   "source": [
    "# If you would like the ARN of my run, please contact through email, I am not sure if it is 100% safe to post publicly. The results are also shown below.\n",
    "# QPU_task_id = \"YOUR-TASK-ARN-HERE\" \n",
    "\n",
    "QPU_task_load = AwsQuantumTask(arn=QPU_task_id)\n",
    "counts = QPU_task_load.result().measurement_counts\n",
    "print(\"\\n Loaded Successfully...\\n\", QPU_device.name, \" QPU:\")\n",
    "print(counts)\n",
    "plt.bar(counts.keys(), counts.values())\n",
    "plt.xlabel('Joint State')\n",
    "plt.ylabel('Counts')\n",
    "plt.title(QPU_device.name + ' Simulation');"
   ]
  },
  {
   "cell_type": "markdown",
   "metadata": {},
   "source": [
    "# 3. Hybrid Algorithms (see disclaimer at beginning)\n",
    "\n",
    "Up to this point, we have created simple quantum circuits and ran them both locally and on hardware simulators/QPUs.\n",
    "\n",
    "As a final part to this tutorial, we will consider running [Hybrid Algorithms](https://github.com/amazon-braket/amazon-braket-examples/tree/main/examples/hybrid_quantum_algorithms) which utilize both classical and quantum components as a dual technology. The linked quantum algorithms are of particular interest as they highlight the potential for quantum computing applications, but they are very in depth and will not be covered in this tutorial.\n",
    "\n",
    "We will focus on creating a simple hybrid job to run. When a hybrid job is created, a containerized EC2 environment is created on AWS to host your program. EC2 stands for \"Elastic Cloud Compute\", which allows the user to rent a virtual computing space on the AWS Cloud. \n",
    "\n",
    "To create a hybrid job, use the @hybrid_job decorator to annotate a function, which Braket will recognize and automatically transform the code to a hybrid job script. The script is then run on EC2. Hybrid jobs benefit from parametric compilation, meaning the circuit is only compiled once and iterated over multiple times to reduce runtime for variational algorithms. The log_metric() function can be used to graph results, which can be found under Amazon Braket -> Hybrid Jobs -> YOUR-JOB -> Monitor\n",
    "\n",
    "***NOTE:*** Braket is fully integrated with [PennyLane](https://pennylane.ai/), a quantum machine learning platform, and comes with its own set of optimizations (not covered here). Such applications benefit greatly from the duality of hybrid jobs.\n",
    "\n",
    "***NOTE AGAIN:*** An additional few minutes are needed to set up the EC2 instance for the Hybrid Job."
   ]
  },
  {
   "cell_type": "code",
   "execution_count": 29,
   "metadata": {},
   "outputs": [
    {
     "name": "stdout",
     "output_type": "stream",
     "text": [
      "{'result': [Counter({'11': 64, '00': 36}), Counter({'11': 51, '00': 49}), Counter({'11': 56, '00': 44}), Counter({'00': 57, '11': 43}), Counter({'11': 56, '00': 44})]}\n"
     ]
    }
   ],
   "source": [
    "#device_arn = \"YOUR-DEVICE-ARN-HERE\"\n",
    "hybrid_device_arn = \"arn:aws:braket:::device/quantum-simulator/amazon/sv1\"\n",
    "\n",
    "@hybrid_job(device=hybrid_device_arn)\n",
    "def run_hybrid_job(num_tasks):\n",
    "    hybrid_device = AwsDevice(hybrid_device_arn)\n",
    "    bell_circuit = Circuit().h(0).cnot(control=0,target=1).measure(0).measure(1)\n",
    "    results = []\n",
    "\n",
    "    print(\"Starting hybrid job...\")\n",
    "    for task_num in range(num_tasks):\n",
    "        task = hybrid_device.run(bell_circuit, shots=100)\n",
    "        results.append(task.result().measurement_counts)\n",
    "        log_metric(metric_name=\"State_11_counts\", iteration_number=task_num, value=task.result().measurement_counts[\"11\"])\n",
    "\n",
    "    return results\n",
    "\n",
    "hybrid_job = run_hybrid_job(5)\n",
    "print(hybrid_job.result())"
   ]
  },
  {
   "cell_type": "markdown",
   "metadata": {},
   "source": [
    "# 4. Simple Notification Services\n",
    "\n",
    "One thing to note about this tutorial is that some processes take very long! Whether you are waiting your turn in line or waiting for a heavy-duty algorithm to finish, you don't want to sit around checking every few minutes. Because Braket is integrated with all of AWS's other cloud capabilities, you can set up automatic notifications to notify you of your results. Follow the instructions [here](https://github.com/amazon-braket/amazon-braket-examples/blob/main/examples/braket_features/Getting_notifications_when_a_quantum_task_completes/Getting_notifications_when_a_quantum_task_completes.ipynb) if you are interested. This notebook is connected to email notifications, but you can choose other forms of notification.\n",
    "\n",
    "AWS automatically created an S3 (simple storage service) bucket for Braket. This is where it stores all of the results from running our quantum circuits. We can connect this to SNS (Simple Notification Services) so that whenever someting is added/removed from the bucket (example, our task finishes and is uploaded), we get a notification. \n",
    "\n",
    "This concludes the tutorial. We have covered setting up an AWS environment, creating simple Braket circuits, running ideal and noisy tests locally, running simulations on QPUs and hardware simulators, loading previous tasks, combining quantum and classical into hybrid tasks, and covered the automatic notification service (SNS).\n",
    "\n"
   ]
  }
 ],
 "metadata": {
  "kernelspec": {
   "display_name": "Python 3",
   "language": "python",
   "name": "python3"
  },
  "language_info": {
   "codemirror_mode": {
    "name": "ipython",
    "version": 3
   },
   "file_extension": ".py",
   "mimetype": "text/x-python",
   "name": "python",
   "nbconvert_exporter": "python",
   "pygments_lexer": "ipython3",
   "version": "3.10.11"
  }
 },
 "nbformat": 4,
 "nbformat_minor": 2
}
