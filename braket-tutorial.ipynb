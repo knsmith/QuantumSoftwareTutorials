{
 "cells": [
  {
   "cell_type": "markdown",
   "metadata": {},
   "source": [
    "# Braket Tutorial Notebook\n",
    "\n",
    "Braket is a quantum computing platform that is found on Amazon Web Services (AWS). It can be used to research and explore different types of quantum computers including superconducting, trapped ion, and neutral-atom based qubits without the need for long term subscriptions or complicated set ups. The pay-as-you-go model of AWS Braket ensures that individuals have access to physical quantum machines, but only pay for use time. Due to its integration with other AWS cloud tools, Braket is a great place to try [Hybrid quantum-classical algorithms](https://github.com/amazon-braket/amazon-braket-examples/tree/main/examples/hybrid_quantum_algorithms).\n",
    "\n",
    "Amazon provides a [detailed walkthrough](https://explore.skillbuilder.aws/learn/public/learning_plan/view/1986/amazon-braket-badge-knowledge-badge-readiness-path) of Braket through their AWS Skills Builder. Feel free to enroll in the free course to learn more about Braket's use cases. \n",
    "\n",
    "To run this notebook, [create or log into an AWS account](https://aws.amazon.com/). Once logged into the AWS Management Console, you will need to set up the AWS Command Line Interface (CLI) so we can run code to set up rather than navigate through the Management Console.\n",
    "\n",
    "Follow these steps in order to set up the necessary AWS environment:\n",
    "\n",
    "1. While in the Management Console, search for \"IAM\" and click \"Users\", then \"Create User\". Name your user (something like \"myBraketCLI\") and hit next. Select \"Attach policies directly\", then check the box corresponding to \"AdministratorAccess\" and hit next, then Create User. You should be redirected to the Users page, click on the User we just created. Under \"Security Credentials\", scroll down to \"Access Keys\" and click Create access key, then select \"Command Line Interface (CLI)\", check the confirmation box at the bottom, and hit next. A description tag is optional, then hit Create Access Key. ***IMPORTANT*** On the page that follows, we need the \"Access key\" and the \"Secret access key\", ***DO NOT CLICK DONE UNTIL AFTER STEP 2 or the keys will be lost and you will need to restart.***\n",
    "    \n",
    "2. Install the [AWS CLI SDK v2](https://docs.aws.amazon.com/cli/latest/userguide/getting-started-install.html). Once installed, open a terminal window and configure your machine by running \"aws configure\". Enter the access and secret keys from step 1. For the region, we will need to select a region with access to Braket, here we will use \"us-east-1\", and use \"json\" for the default format. Test your installation with the command \"aws --version\", and if it works, you can click \"Done\" for step 1.\n",
    "\n",
    "3. In the Management Console, search for \"Amazon Braket\". Make sure your region is set to one of the available regions (such as \"us-east-1\"). We will assume that you are a new Amazon Braket user, but if not follow [these instructions](https://docs.aws.amazon.com/braket/latest/developerguide/braket-get-started-create-notebook.html). Click on \"Get Started\" and follow the setup, clicking Accept for each window. This creates a service-linked role for Braket under your AWS account, which can be seen under \"IAM -> Roles -> AWSServiceRoleForAmazonBraket\". Additionally, this creates a Jupyter Notebook that is already set up with all dependencies and can be accessed through the AWS Management Console under \"Amazon Braket -> Notebooks -> YOUR-NOTEBOOK-NAME\". This can be used directly for future experimentation, but we will not be using it within this tutorial.\n"
   ]
  },
  {
   "cell_type": "markdown",
   "metadata": {},
   "source": [
    "# Dependencies for Amazon Braket SDK\n",
    "\n",
    "(Following [these steps](https://github.com/amazon-braket/amazon-braket-sdk-python) to set up the AWS Braket Software Development Kit)\n",
    "\n",
    "Below are the following packages that must be installed:\n",
    "\n",
    "`pip install boto3`\n",
    "\n",
    "`pip install amazon-braket-sdk`\n",
    "\n",
    "`pip install numpy`\n",
    "\n",
    "`pip install matplotlib`\n",
    "\n",
    "`pip install matplotlib-inline`\n",
    "\n",
    "\n"
   ]
  },
  {
   "cell_type": "code",
   "execution_count": 38,
   "metadata": {},
   "outputs": [],
   "source": [
    "import boto3\n",
    "from braket.aws import AwsDevice, AwsQuantumTask\n",
    "from braket.circuits import Circuit, Gate, Noise\n",
    "from braket.devices import LocalSimulator\n",
    "\n",
    "import string\n",
    "import numpy\n",
    "import matplotlib.pyplot as plt\n",
    "%matplotlib inline\n"
   ]
  },
  {
   "cell_type": "markdown",
   "metadata": {},
   "source": [
    "# 1. Creating Simple Circuits and Local Simulations\n",
    "\n",
    "Let's begin building some quantum circuits with the Circuit class. Below are some simple examples of well known gates, as well as how they look printed out."
   ]
  },
  {
   "cell_type": "code",
   "execution_count": 2,
   "metadata": {},
   "outputs": [
    {
     "name": "stdout",
     "output_type": "stream",
     "text": [
      "Pauli X Gate:\n",
      "T  : │  0  │\n",
      "      ┌───┐ \n",
      "q0 : ─┤ X ├─\n",
      "      └───┘ \n",
      "T  : │  0  │\n",
      "\n",
      "\n",
      "CNOT Gate:\n",
      "T  : │  0  │\n",
      "            \n",
      "q0 : ───●───\n",
      "        │   \n",
      "      ┌─┴─┐ \n",
      "q1 : ─┤ X ├─\n",
      "      └───┘ \n",
      "T  : │  0  │\n",
      "\n",
      "\n",
      "Hadamard Gate:\n",
      "T  : │  0  │\n",
      "      ┌───┐ \n",
      "q0 : ─┤ H ├─\n",
      "      └───┘ \n",
      "T  : │  0  │\n"
     ]
    }
   ],
   "source": [
    "print(\"Pauli X Gate:\")\n",
    "Pauli_X = Circuit().x(0)\n",
    "print(Pauli_X)\n",
    "\n",
    "print(\"\\n\\nCNOT Gate:\")\n",
    "CNOT = Circuit().cnot(control=0,target=1)\n",
    "print(CNOT)\n",
    "\n",
    "print(\"\\n\\nHadamard Gate:\")\n",
    "Hadamard = Circuit().h(0)\n",
    "print(Hadamard)"
   ]
  },
  {
   "cell_type": "markdown",
   "metadata": {},
   "source": [
    "We can also chain gates together to create longer quantum circuits. By passing the qubit number (starting with 0) to the Circuit methods, Braket will automatically include the qubit in the circuit."
   ]
  },
  {
   "cell_type": "code",
   "execution_count": 3,
   "metadata": {},
   "outputs": [
    {
     "name": "stdout",
     "output_type": "stream",
     "text": [
      "Bell State Circuit:\n",
      "T  : │  0  │  1  │\n",
      "      ┌───┐       \n",
      "q0 : ─┤ H ├───●───\n",
      "      └───┘   │   \n",
      "            ┌─┴─┐ \n",
      "q1 : ───────┤ X ├─\n",
      "            └───┘ \n",
      "T  : │  0  │  1  │\n"
     ]
    }
   ],
   "source": [
    "bell_state = Circuit().h(0).cnot(control=0,target=1)\n",
    "print(\"Bell State Circuit:\")\n",
    "print(bell_state)"
   ]
  },
  {
   "cell_type": "markdown",
   "metadata": {},
   "source": [
    "See all of the available gates in the Amazon Braket SDK by running the below code:"
   ]
  },
  {
   "cell_type": "code",
   "execution_count": 4,
   "metadata": {},
   "outputs": [
    {
     "name": "stdout",
     "output_type": "stream",
     "text": [
      "CCNot\n",
      "CNot\n",
      "CPhaseShift\n",
      "CPhaseShift00\n",
      "CPhaseShift01\n",
      "CPhaseShift10\n",
      "CSwap\n",
      "CV\n",
      "CY\n",
      "CZ\n",
      "ECR\n",
      "GPhase\n",
      "GPi\n",
      "GPi2\n",
      "H\n",
      "I\n",
      "ISwap\n",
      "MS\n",
      "PRx\n",
      "PSwap\n",
      "PhaseShift\n",
      "PulseGate\n",
      "Rx\n",
      "Ry\n",
      "Rz\n",
      "S\n",
      "Si\n",
      "Swap\n",
      "T\n",
      "Ti\n",
      "U\n",
      "Unitary\n",
      "V\n",
      "Vi\n",
      "X\n",
      "XX\n",
      "XY\n",
      "Y\n",
      "YY\n",
      "Z\n",
      "ZZ\n"
     ]
    }
   ],
   "source": [
    "for gate in dir(Gate):\n",
    "    if gate[0] in string.ascii_uppercase:\n",
    "        print(gate)"
   ]
  },
  {
   "cell_type": "markdown",
   "metadata": {},
   "source": [
    "If you want to create your own unitary transformation, create a numpy matrix and pass it to the Circuits.unitary() method. Here we create the \"open CNOT\" gate, which flips the state of the target if the control is state |0>."
   ]
  },
  {
   "cell_type": "code",
   "execution_count": 5,
   "metadata": {},
   "outputs": [
    {
     "name": "stdout",
     "output_type": "stream",
     "text": [
      "Open CNOT Unitary:\n",
      "[[0.+0.j 1.+0.j 0.+0.j 0.+0.j]\n",
      " [1.+0.j 0.+0.j 0.+0.j 0.+0.j]\n",
      " [0.+0.j 0.+0.j 1.+0.j 0.+0.j]\n",
      " [0.+0.j 0.+0.j 0.+0.j 1.+0.j]]\n",
      "\n",
      "Open CNOT Gate:\n",
      "T  : │  0  │\n",
      "      ┌───┐ \n",
      "q0 : ─┤ U ├─\n",
      "      └─┬─┘ \n",
      "      ┌─┴─┐ \n",
      "q1 : ─┤ U ├─\n",
      "      └───┘ \n",
      "T  : │  0  │\n"
     ]
    }
   ],
   "source": [
    "open_cnot = numpy.array([[0,1,0,0],\n",
    "                        [1,0,0,0],\n",
    "                        [0,0,1,0],\n",
    "                        [0,0,0,1]])\n",
    "\n",
    "open_cnot_gate = Circuit().unitary(matrix=open_cnot, targets=[0,1])\n",
    "\n",
    "print(\"Open CNOT Unitary:\")\n",
    "print(open_cnot_gate.to_unitary())\n",
    "\n",
    "print(\"\\nOpen CNOT Gate:\")\n",
    "print(open_cnot_gate)"
   ]
  },
  {
   "cell_type": "markdown",
   "metadata": {},
   "source": [
    "Let's make sure the unitary we created has the correct expected output by comparing it to an equivalent circuit:"
   ]
  },
  {
   "cell_type": "code",
   "execution_count": 6,
   "metadata": {},
   "outputs": [
    {
     "name": "stdout",
     "output_type": "stream",
     "text": [
      "Equivalent open CNOT circuit:\n",
      "T  : │  0  │  1  │  2  │\n",
      "      ┌───┐       ┌───┐ \n",
      "q0 : ─┤ X ├───●───┤ X ├─\n",
      "      └───┘   │   └───┘ \n",
      "            ┌─┴─┐       \n",
      "q1 : ───────┤ X ├───────\n",
      "            └───┘       \n",
      "T  : │  0  │  1  │  2  │\n",
      "\n",
      "Comparison:\n",
      " [[ True  True  True  True]\n",
      " [ True  True  True  True]\n",
      " [ True  True  True  True]\n",
      " [ True  True  True  True]]\n"
     ]
    }
   ],
   "source": [
    "open_cnot_circuit = Circuit().x(0).cnot(control=0,target=1).x(0)\n",
    "print(\"Equivalent open CNOT circuit:\")\n",
    "print(open_cnot_circuit)\n",
    "\n",
    "print(\"\\nComparison:\\n\", open_cnot_circuit.to_unitary() == open_cnot_gate.to_unitary())"
   ]
  },
  {
   "cell_type": "markdown",
   "metadata": {},
   "source": [
    "Now that we have the ability to create quantum circuits, let's try measuring. Before measuring on actual hardware, we are able to run locally within the SDK's [LocalSimulator](https://amazon-braket-sdk-python.readthedocs.io/en/latest/_apidoc/braket.devices.local_simulator.html). Braket will run the \"task\", which is the circuit combined with any other device.run() parameters such as shots. Let's test the bell state generator with an ideal simulator:\n",
    "\n",
    "***NOTE:*** If we run the simulation multiple times, each result can be different due to the probabilistic nature of the measurement."
   ]
  },
  {
   "cell_type": "code",
   "execution_count": 59,
   "metadata": {},
   "outputs": [
    {
     "name": "stdout",
     "output_type": "stream",
     "text": [
      "Default Simulator: \n",
      "Counter({'00': 54, '11': 46})\n"
     ]
    },
    {
     "data": {
      "image/png": "[encoded data removed]",
      "text/plain": [
       "<Figure size 640x480 with 1 Axes>"
      ]
     },
     "metadata": {},
     "output_type": "display_data"
    }
   ],
   "source": [
    "local_device = LocalSimulator()\n",
    "ideal_bell_circuit = Circuit().h(0).cnot(control=0,target=1).measure(0).measure(1)\n",
    "task = local_device.run(ideal_bell_circuit, shots=100)\n",
    "counts = task.result().measurement_counts\n",
    "print(\"Default Simulator: \")\n",
    "print(counts)\n",
    "plt.bar(counts.keys(), counts.values())\n",
    "plt.xlabel('Joint State')\n",
    "plt.ylabel('Counts')\n",
    "plt.title('Ideal Simulation');\n"
   ]
  },
  {
   "cell_type": "markdown",
   "metadata": {},
   "source": [
    "We can also add noise directly to a circuit and create a LocalSimulator capable of handling noise. Let's try the same simulation again, now adding some depolarization noise:"
   ]
  },
  {
   "cell_type": "code",
   "execution_count": 60,
   "metadata": {},
   "outputs": [
    {
     "name": "stdout",
     "output_type": "stream",
     "text": [
      "\n",
      "Noisy Simulator:\n",
      "Counter({'11': 49, '00': 41, '01': 6, '10': 4})\n",
      "T  : │         0         │         1         │  2  │\n",
      "      ┌───┐ ┌───────────┐       ┌───────────┐ ┌───┐ \n",
      "q0 : ─┤ H ├─┤ DEPO(0.1) ├───●───┤ DEPO(0.1) ├─┤ M ├─\n",
      "      └───┘ └───────────┘   │   └───────────┘ └───┘ \n",
      "                          ┌─┴─┐ ┌───────────┐ ┌───┐ \n",
      "q1 : ─────────────────────┤ X ├─┤ DEPO(0.1) ├─┤ M ├─\n",
      "                          └───┘ └───────────┘ └───┘ \n",
      "T  : │         0         │         1         │  2  │\n"
     ]
    },
    {
     "data": {
      "text/plain": [
       "Text(0.5, 1.0, 'Noisy Simulation')"
      ]
     },
     "execution_count": 60,
     "metadata": {},
     "output_type": "execute_result"
    },
    {
     "data": {
      "image/png": "[encoded data removed]",
      "text/plain": [
       "<Figure size 640x480 with 1 Axes>"
      ]
     },
     "metadata": {},
     "output_type": "display_data"
    }
   ],
   "source": [
    "noise = Noise.Depolarizing(probability=0.1)\n",
    "noisy_local_device = LocalSimulator(\"braket_dm\")\n",
    "noisy_bell_circuit = Circuit().h(0).cnot(control=0,target=1).apply_gate_noise(noise).measure(0).measure(1)\n",
    "noisy_task = noisy_local_device.run(noisy_bell_circuit, shots=100)\n",
    "noisy_counts = noisy_task.result().measurement_counts\n",
    "print(\"\\nNoisy Simulator:\")\n",
    "print(noisy_counts)\n",
    "print(noisy_bell_circuit)\n",
    "plt.bar(noisy_counts.keys(), noisy_counts.values())\n",
    "plt.xlabel('Joint State')\n",
    "plt.ylabel('Counts')\n",
    "plt.title('Noisy Simulation')"
   ]
  },
  {
   "cell_type": "markdown",
   "metadata": {},
   "source": [
    "# 2. Sending Circuits to Outside Simulators and Physical Hardware\n",
    "\n",
    "Great! We were able to build some quantum circuits and run them locally. But these are just simulations of what SHOULD happen. Braket also provides the option to run on physical quantum chips, as well as outside qubit simulators.\n",
    "\n",
    "First, we will cover the AWS hardware simulators. To find a list of devices, go to the AWS Management Console -> Amazon Braket -> Devices. Click on one of the available devices and locate its \"Device ARN\"; this is what we will connect to. Copy the ARN and use it as the input to the AwsDevice() class constructor:"
   ]
  },
  {
   "cell_type": "code",
   "execution_count": 10,
   "metadata": {},
   "outputs": [
    {
     "name": "stdout",
     "output_type": "stream",
     "text": [
      "Using device:  SV1\n",
      "Supported Gates:  ['ccnot', 'cnot', 'cphaseshift', 'cphaseshift00', 'cphaseshift01', 'cphaseshift10', 'cswap', 'cy', 'cz', 'ecr', 'h', 'i', 'iswap', 'pswap', 'phaseshift', 'rx', 'ry', 'rz', 's', 'si', 'swap', 't', 'ti', 'unitary', 'v', 'vi', 'x', 'xx', 'xy', 'y', 'yy', 'z', 'zz']\n"
     ]
    }
   ],
   "source": [
    "#device = AwsDevice(\"YOUR-DEVICE-ARN-HERE\")\n",
    "simulator_device = AwsDevice(\"arn:aws:braket:::device/quantum-simulator/amazon/sv1\")\n",
    "\n",
    "device_operations = simulator_device.properties.dict()['action']['braket.ir.jaqcd.program']['supportedOperations']\n",
    "print(\"Using device: \", simulator_device.name)\n",
    "print(\"Supported Gates: \", device_operations)"
   ]
  },
  {
   "cell_type": "markdown",
   "metadata": {},
   "source": [
    "Once we are connected to the hardware simulator, we can run our tasks just like before:"
   ]
  },
  {
   "cell_type": "code",
   "execution_count": 66,
   "metadata": {},
   "outputs": [
    {
     "name": "stdout",
     "output_type": "stream",
     "text": [
      "\n",
      " SV1  Simulator:\n",
      "Counter({'11': 56, '00': 44})\n"
     ]
    },
    {
     "data": {
      "image/png": "[encoded data removed]",
      "text/plain": [
       "<Figure size 640x480 with 1 Axes>"
      ]
     },
     "metadata": {},
     "output_type": "display_data"
    }
   ],
   "source": [
    "bell_circuit = Circuit().h(0).cnot(control=0,target=1).measure(0).measure(1)\n",
    "task = simulator_device.run(bell_circuit, shots=100)\n",
    "counts = task.result().measurement_counts\n",
    "print(\"\\n\", simulator_device.name, \" Simulator:\")\n",
    "print(counts)\n",
    "plt.bar(counts.keys(), counts.values())\n",
    "plt.xlabel('Joint State')\n",
    "plt.ylabel('Counts')\n",
    "plt.title(simulator_device.name + ' Simulation');\n"
   ]
  },
  {
   "cell_type": "markdown",
   "metadata": {},
   "source": [
    "In addition to the results, we are also able to obtain some other metadata from the run we send to AWS Braket:"
   ]
  },
  {
   "cell_type": "code",
   "execution_count": 67,
   "metadata": {},
   "outputs": [
    {
     "name": "stdout",
     "output_type": "stream",
     "text": [
      "Task Date: Sat, 27 Apr 2024 07:03:11 GMT\n",
      "Shots taken: 100\n",
      "task_id: arn:aws:braket:us-east-1:551113852737:quantum-task/cdf5a26b-425f-4cc3-ae7e-8b4d0c5ed137\n"
     ]
    }
   ],
   "source": [
    "metadata = task.metadata()\n",
    "task_id = task.id\n",
    "\n",
    "print(\"Task Date:\", metadata['ResponseMetadata']['HTTPHeaders']['date'])\n",
    "print(\"Shots taken:\", metadata[\"shots\"])\n",
    "print(\"task_id:\", task_id)\n"
   ]
  },
  {
   "cell_type": "markdown",
   "metadata": {},
   "source": [
    "This can be useful to retrieve the data from a specific task without having to rerun the entire simulation. Either save the task id as shown above, or go to the AWS Management Console -> Amazon Braket -> Quantum Tasks, and from here click on the task you want to load. Copy the \"Quantum Task ARN\" for the task you would like to load. Additionally, this window will show you the task details and provides a link to \"Results\" which stores the simulation results in S3 (the AWS data bucket).\n",
    "\n",
    "***NOTE:*** If you run the task above + metadata loading and then reload it below, the results will be exactly the same, it will not rerun the simulation and it will not change no matter how many times it is loaded.\n",
    "\n",
    "***NOTE AGAIN:*** The time to load and display results is much shorter than sending the simulation to actually run. This feature is particularly useful when scaling to large simulations that take longer to run, and it is also useful because you might have to wait until your turn on the machine to simulate."
   ]
  },
  {
   "cell_type": "code",
   "execution_count": 70,
   "metadata": {},
   "outputs": [
    {
     "name": "stdout",
     "output_type": "stream",
     "text": [
      "\n",
      " Loaded Successfully...\n",
      " SV1  Simulator:\n",
      "Counter({'11': 56, '00': 44})\n"
     ]
    },
    {
     "data": {
      "image/png": "[encoded data removed]",
      "text/plain": [
       "<Figure size 640x480 with 1 Axes>"
      ]
     },
     "metadata": {},
     "output_type": "display_data"
    }
   ],
   "source": [
    "task_load = AwsQuantumTask(arn=task_id)\n",
    "counts = task_load.result().measurement_counts\n",
    "print(\"\\n Loaded Successfully...\\n\", simulator_device.name, \" Simulator:\")\n",
    "print(counts)\n",
    "plt.bar(counts.keys(), counts.values())\n",
    "plt.xlabel('Joint State')\n",
    "plt.ylabel('Counts')\n",
    "plt.title(simulator_device.name + ' Simulation');"
   ]
  },
  {
   "cell_type": "markdown",
   "metadata": {},
   "source": [
    "Let's move on to running our circuits on physical hardware. Looking under the \"Devices\" tab from before, AWS offers access to 7 different Quantum Processing Units (as of April 27th, 2024). Some of these are Offline, Under Maintenence, or Reservation Only, so we must pick one that has the AVAILABLE NOW tag. This may change from day to day. You can check information on the device through the Management Console, or by printing below:\n",
    "\n",
    "***NOTE:*** If you want to use gate based computation as before, make sure your device description includes \"unviversal gate-model\", as some devices use Analog Hamiltonian Simulation which requires a different circuit representation (not covered in this tutorial)."
   ]
  },
  {
   "cell_type": "code",
   "execution_count": 120,
   "metadata": {},
   "outputs": [
    {
     "name": "stdout",
     "output_type": "stream",
     "text": [
      "Checking availability...\n",
      "Not Available, please try a different device.\n"
     ]
    }
   ],
   "source": [
    "#device = AwsDevice(\"YOUR-DEVICE-ARN-HERE\")\n",
    "QPU_device = AwsDevice(\"arn:aws:braket:us-east-1::device/qpu/ionq/Harmony\")\n",
    "\n",
    "print(\"Checking availability...\")\n",
    "if (QPU_device.is_available):\n",
    "    print(\"AVAILABLE!\")\n",
    "    print(\"Using device:\", QPU_device.name, \"located at\", QPU_device.properties.service.deviceLocation)\n",
    "    print(\"Device Price:\", QPU_device.properties.service.deviceCost)\n",
    "    print(\"\\nDevice Schedule: \")\n",
    "    available_days = QPU_device.properties.service.executionWindows\n",
    "    for day in available_days:\n",
    "        print(day.executionDay, \"starts on\", day.windowStartHour, \"and ends on\", day.windowEndHour)\n",
    "    print(\"\\nDevice Docs:\", QPU_device.properties.service.deviceDocumentation)\n",
    "    print(\"Shots Range:\", QPU_device.properties.service.shotsRange)\n",
    "else:\n",
    "    print(\"Not Available, please try a different device.\")"
   ]
  },
  {
   "cell_type": "markdown",
   "metadata": {},
   "source": [
    "Run the same circuit as before, but on physical hardware this time:"
   ]
  },
  {
   "cell_type": "code",
   "execution_count": 118,
   "metadata": {},
   "outputs": [
    {
     "ename": "KeyboardInterrupt",
     "evalue": "",
     "output_type": "error",
     "traceback": [
      "\u001b[1;31m---------------------------------------------------------------------------\u001b[0m",
      "\u001b[1;31mKeyboardInterrupt\u001b[0m                         Traceback (most recent call last)",
      "Cell \u001b[1;32mIn[118], line 3\u001b[0m\n\u001b[0;32m      1\u001b[0m bell_circuit \u001b[38;5;241m=\u001b[39m Circuit()\u001b[38;5;241m.\u001b[39mh(\u001b[38;5;241m0\u001b[39m)\u001b[38;5;241m.\u001b[39mcnot(control\u001b[38;5;241m=\u001b[39m\u001b[38;5;241m0\u001b[39m,target\u001b[38;5;241m=\u001b[39m\u001b[38;5;241m1\u001b[39m)\u001b[38;5;241m.\u001b[39mmeasure(\u001b[38;5;241m0\u001b[39m)\u001b[38;5;241m.\u001b[39mmeasure(\u001b[38;5;241m1\u001b[39m)\n\u001b[0;32m      2\u001b[0m task \u001b[38;5;241m=\u001b[39m QPU_device\u001b[38;5;241m.\u001b[39mrun(bell_circuit, shots\u001b[38;5;241m=\u001b[39m\u001b[38;5;241m100\u001b[39m)\n\u001b[1;32m----> 3\u001b[0m counts \u001b[38;5;241m=\u001b[39m \u001b[43mtask\u001b[49m\u001b[38;5;241;43m.\u001b[39;49m\u001b[43mresult\u001b[49m\u001b[43m(\u001b[49m\u001b[43m)\u001b[49m\u001b[38;5;241m.\u001b[39mmeasurement_counts\n\u001b[0;32m      4\u001b[0m \u001b[38;5;28mprint\u001b[39m(\u001b[38;5;124m\"\u001b[39m\u001b[38;5;130;01m\\n\u001b[39;00m\u001b[38;5;124m\"\u001b[39m, QPU_device\u001b[38;5;241m.\u001b[39mname, \u001b[38;5;124m\"\u001b[39m\u001b[38;5;124m Simulator:\u001b[39m\u001b[38;5;124m\"\u001b[39m)\n\u001b[0;32m      5\u001b[0m \u001b[38;5;28mprint\u001b[39m(counts)\n",
      "File \u001b[1;32m~\\AppData\\Local\\Packages\\PythonSoftwareFoundation.Python.3.12_qbz5n2kfra8p0\\LocalCache\\local-packages\\Python312\\site-packages\\braket\\aws\\aws_quantum_task.py:421\u001b[0m, in \u001b[0;36mAwsQuantumTask.result\u001b[1;34m(self)\u001b[0m\n\u001b[0;32m    419\u001b[0m \u001b[38;5;28;01mtry\u001b[39;00m:\n\u001b[0;32m    420\u001b[0m     async_result \u001b[38;5;241m=\u001b[39m \u001b[38;5;28mself\u001b[39m\u001b[38;5;241m.\u001b[39masync_result()\n\u001b[1;32m--> 421\u001b[0m     \u001b[38;5;28;01mreturn\u001b[39;00m \u001b[43masync_result\u001b[49m\u001b[38;5;241;43m.\u001b[39;49m\u001b[43mget_loop\u001b[49m\u001b[43m(\u001b[49m\u001b[43m)\u001b[49m\u001b[38;5;241;43m.\u001b[39;49m\u001b[43mrun_until_complete\u001b[49m\u001b[43m(\u001b[49m\u001b[43masync_result\u001b[49m\u001b[43m)\u001b[49m\n\u001b[0;32m    422\u001b[0m \u001b[38;5;28;01mexcept\u001b[39;00m asyncio\u001b[38;5;241m.\u001b[39mCancelledError:\n\u001b[0;32m    423\u001b[0m     \u001b[38;5;66;03m# Future was cancelled, return whatever is in self._result if anything\u001b[39;00m\n\u001b[0;32m    424\u001b[0m     \u001b[38;5;28mself\u001b[39m\u001b[38;5;241m.\u001b[39m_logger\u001b[38;5;241m.\u001b[39mwarning(\u001b[38;5;124m\"\u001b[39m\u001b[38;5;124mTask future was cancelled\u001b[39m\u001b[38;5;124m\"\u001b[39m)\n",
      "File \u001b[1;32m~\\AppData\\Local\\Packages\\PythonSoftwareFoundation.Python.3.12_qbz5n2kfra8p0\\LocalCache\\local-packages\\Python312\\site-packages\\nest_asyncio.py:92\u001b[0m, in \u001b[0;36m_patch_loop.<locals>.run_until_complete\u001b[1;34m(self, future)\u001b[0m\n\u001b[0;32m     90\u001b[0m     f\u001b[38;5;241m.\u001b[39m_log_destroy_pending \u001b[38;5;241m=\u001b[39m \u001b[38;5;28;01mFalse\u001b[39;00m\n\u001b[0;32m     91\u001b[0m \u001b[38;5;28;01mwhile\u001b[39;00m \u001b[38;5;129;01mnot\u001b[39;00m f\u001b[38;5;241m.\u001b[39mdone():\n\u001b[1;32m---> 92\u001b[0m     \u001b[38;5;28;43mself\u001b[39;49m\u001b[38;5;241;43m.\u001b[39;49m\u001b[43m_run_once\u001b[49m\u001b[43m(\u001b[49m\u001b[43m)\u001b[49m\n\u001b[0;32m     93\u001b[0m     \u001b[38;5;28;01mif\u001b[39;00m \u001b[38;5;28mself\u001b[39m\u001b[38;5;241m.\u001b[39m_stopping:\n\u001b[0;32m     94\u001b[0m         \u001b[38;5;28;01mbreak\u001b[39;00m\n",
      "File \u001b[1;32m~\\AppData\\Local\\Packages\\PythonSoftwareFoundation.Python.3.12_qbz5n2kfra8p0\\LocalCache\\local-packages\\Python312\\site-packages\\nest_asyncio.py:115\u001b[0m, in \u001b[0;36m_patch_loop.<locals>._run_once\u001b[1;34m(self)\u001b[0m\n\u001b[0;32m    108\u001b[0m     heappop(scheduled)\n\u001b[0;32m    110\u001b[0m timeout \u001b[38;5;241m=\u001b[39m (\n\u001b[0;32m    111\u001b[0m     \u001b[38;5;241m0\u001b[39m \u001b[38;5;28;01mif\u001b[39;00m ready \u001b[38;5;129;01mor\u001b[39;00m \u001b[38;5;28mself\u001b[39m\u001b[38;5;241m.\u001b[39m_stopping\n\u001b[0;32m    112\u001b[0m     \u001b[38;5;28;01melse\u001b[39;00m \u001b[38;5;28mmin\u001b[39m(\u001b[38;5;28mmax\u001b[39m(\n\u001b[0;32m    113\u001b[0m         scheduled[\u001b[38;5;241m0\u001b[39m]\u001b[38;5;241m.\u001b[39m_when \u001b[38;5;241m-\u001b[39m \u001b[38;5;28mself\u001b[39m\u001b[38;5;241m.\u001b[39mtime(), \u001b[38;5;241m0\u001b[39m), \u001b[38;5;241m86400\u001b[39m) \u001b[38;5;28;01mif\u001b[39;00m scheduled\n\u001b[0;32m    114\u001b[0m     \u001b[38;5;28;01melse\u001b[39;00m \u001b[38;5;28;01mNone\u001b[39;00m)\n\u001b[1;32m--> 115\u001b[0m event_list \u001b[38;5;241m=\u001b[39m \u001b[38;5;28;43mself\u001b[39;49m\u001b[38;5;241;43m.\u001b[39;49m\u001b[43m_selector\u001b[49m\u001b[38;5;241;43m.\u001b[39;49m\u001b[43mselect\u001b[49m\u001b[43m(\u001b[49m\u001b[43mtimeout\u001b[49m\u001b[43m)\u001b[49m\n\u001b[0;32m    116\u001b[0m \u001b[38;5;28mself\u001b[39m\u001b[38;5;241m.\u001b[39m_process_events(event_list)\n\u001b[0;32m    118\u001b[0m end_time \u001b[38;5;241m=\u001b[39m \u001b[38;5;28mself\u001b[39m\u001b[38;5;241m.\u001b[39mtime() \u001b[38;5;241m+\u001b[39m \u001b[38;5;28mself\u001b[39m\u001b[38;5;241m.\u001b[39m_clock_resolution\n",
      "File \u001b[1;32mC:\\Program Files\\WindowsApps\\PythonSoftwareFoundation.Python.3.12_3.12.1008.0_x64__qbz5n2kfra8p0\\Lib\\selectors.py:323\u001b[0m, in \u001b[0;36mSelectSelector.select\u001b[1;34m(self, timeout)\u001b[0m\n\u001b[0;32m    321\u001b[0m ready \u001b[38;5;241m=\u001b[39m []\n\u001b[0;32m    322\u001b[0m \u001b[38;5;28;01mtry\u001b[39;00m:\n\u001b[1;32m--> 323\u001b[0m     r, w, _ \u001b[38;5;241m=\u001b[39m \u001b[38;5;28;43mself\u001b[39;49m\u001b[38;5;241;43m.\u001b[39;49m\u001b[43m_select\u001b[49m\u001b[43m(\u001b[49m\u001b[38;5;28;43mself\u001b[39;49m\u001b[38;5;241;43m.\u001b[39;49m\u001b[43m_readers\u001b[49m\u001b[43m,\u001b[49m\u001b[43m \u001b[49m\u001b[38;5;28;43mself\u001b[39;49m\u001b[38;5;241;43m.\u001b[39;49m\u001b[43m_writers\u001b[49m\u001b[43m,\u001b[49m\u001b[43m \u001b[49m\u001b[43m[\u001b[49m\u001b[43m]\u001b[49m\u001b[43m,\u001b[49m\u001b[43m \u001b[49m\u001b[43mtimeout\u001b[49m\u001b[43m)\u001b[49m\n\u001b[0;32m    324\u001b[0m \u001b[38;5;28;01mexcept\u001b[39;00m \u001b[38;5;167;01mInterruptedError\u001b[39;00m:\n\u001b[0;32m    325\u001b[0m     \u001b[38;5;28;01mreturn\u001b[39;00m ready\n",
      "File \u001b[1;32mC:\\Program Files\\WindowsApps\\PythonSoftwareFoundation.Python.3.12_3.12.1008.0_x64__qbz5n2kfra8p0\\Lib\\selectors.py:314\u001b[0m, in \u001b[0;36mSelectSelector._select\u001b[1;34m(self, r, w, _, timeout)\u001b[0m\n\u001b[0;32m    313\u001b[0m \u001b[38;5;28;01mdef\u001b[39;00m \u001b[38;5;21m_select\u001b[39m(\u001b[38;5;28mself\u001b[39m, r, w, _, timeout\u001b[38;5;241m=\u001b[39m\u001b[38;5;28;01mNone\u001b[39;00m):\n\u001b[1;32m--> 314\u001b[0m     r, w, x \u001b[38;5;241m=\u001b[39m \u001b[43mselect\u001b[49m\u001b[38;5;241;43m.\u001b[39;49m\u001b[43mselect\u001b[49m\u001b[43m(\u001b[49m\u001b[43mr\u001b[49m\u001b[43m,\u001b[49m\u001b[43m \u001b[49m\u001b[43mw\u001b[49m\u001b[43m,\u001b[49m\u001b[43m \u001b[49m\u001b[43mw\u001b[49m\u001b[43m,\u001b[49m\u001b[43m \u001b[49m\u001b[43mtimeout\u001b[49m\u001b[43m)\u001b[49m\n\u001b[0;32m    315\u001b[0m     \u001b[38;5;28;01mreturn\u001b[39;00m r, w \u001b[38;5;241m+\u001b[39m x, []\n",
      "\u001b[1;31mKeyboardInterrupt\u001b[0m: "
     ]
    }
   ],
   "source": [
    "bell_circuit = Circuit().h(0).cnot(control=0,target=1).measure(0).measure(1)\n",
    "task = QPU_device.run(bell_circuit, shots=100)\n",
    "counts = task.result().measurement_counts\n",
    "print(\"\\n\", QPU_device.name, \" Simulator:\")\n",
    "print(counts)\n",
    "plt.bar(counts.keys(), counts.values())\n",
    "plt.xlabel('Joint State')\n",
    "plt.ylabel('Counts')\n",
    "plt.title(QPU_device.name + ' Simulation');"
   ]
  }
 ],
 "metadata": {
  "kernelspec": {
   "display_name": "Python 3",
   "language": "python",
   "name": "python3"
  },
  "language_info": {
   "codemirror_mode": {
    "name": "ipython",
    "version": 3
   },
   "file_extension": ".py",
   "mimetype": "text/x-python",
   "name": "python",
   "nbconvert_exporter": "python",
   "pygments_lexer": "ipython3",
   "version": "3.12.3"
  }
 },
 "nbformat": 4,
 "nbformat_minor": 2
}
