{
 "cells": [
  {
   "cell_type": "code",
   "execution_count": 1,
   "id": "8ee17276",
   "metadata": {},
   "outputs": [],
   "source": [
    "#Author: jgathas\n",
    "#date: 4/28/2024\n",
    "#class: CS496\n",
    "#This is a notebook that uses QuTip to make a quantum teleprotation circuit\n"
   ]
  },
  {
   "cell_type": "markdown",
   "id": "4f1677ef",
   "metadata": {},
   "source": [
    "Be sure to have Qutip Installed before running this notebook. <br>\n",
    "pip install qutip <br>\n",
    "pip install qutip-qip"
   ]
  },
  {
   "cell_type": "markdown",
   "id": "4004ede8",
   "metadata": {},
   "source": [
    "Note: you will need to install Ghostscript, Imagemagick, and Perl in order to get the circuit schematic drawing to appear in the notebook."
   ]
  },
  {
   "cell_type": "markdown",
   "id": "44d276ce",
   "metadata": {},
   "source": [
    "This is a notebook that uses QuTip to make a quantum teleportation circuit. We first need to import all necessary math and QuTip libraries"
   ]
  },
  {
   "cell_type": "code",
   "execution_count": 2,
   "id": "8cc6901c",
   "metadata": {},
   "outputs": [],
   "source": [
    "#importing necessary packages\n",
    "from math import sqrt\n",
    "\n",
    "from qutip import about, basis, tensor #importing qutip basics\n",
    "from qutip_qip.circuit import QubitCircuit #creating quatum circuit objects\n",
    "from qutip_qip.operations import Measurement, cnot, snot  #cnot and snot are only needed to see gate matricies\n"
   ]
  },
  {
   "cell_type": "markdown",
   "id": "ddd2935b",
   "metadata": {},
   "source": [
    "We will need 2 classical wires and 3 qubit wires to accomplish the Quantum Teleportation circuit. The first qubit represents the state q0 = |psi> that needs to be transferred from Alice to Bob."
   ]
  },
  {
   "cell_type": "code",
   "execution_count": 5,
   "id": "088ca4cd",
   "metadata": {},
   "outputs": [],
   "source": [
    "#Here we create a QubitCircuit object of 3 qubits and 2 classical btis\n",
    "teleportation = QubitCircuit(\n",
    "    3, num_cbits=2, input_states=[r\"\\psi\", \"0\", \"0\", \"c0\", \"c1\"]  #3 qubits and 2 control classical bits and their names\n",
    ")"
   ]
  },
  {
   "cell_type": "markdown",
   "id": "c70b4778",
   "metadata": {},
   "source": [
    "First, we need to create a shared EPR pair between Alice and Bob (|00> + |11>)/2, between qubits q1 and q2. We can do this with a hadamard on Alice's qubit and then a CNOT entagling gate."
   ]
  },
  {
   "cell_type": "code",
   "execution_count": 6,
   "id": "2c7498a3",
   "metadata": {},
   "outputs": [
    {
     "data": {
      "image/png": "[encoded data removed]",
      "text/plain": [
       "<IPython.core.display.Image object>"
      ]
     },
     "execution_count": 6,
     "metadata": {},
     "output_type": "execute_result"
    }
   ],
   "source": [
    "teleportation.add_gate(\"SNOT\", targets=[1])  #SNOT = hadamrad gate\n",
    "teleportation.add_gate(\"CNOT\", targets=[2], controls=[1])  #adding CNOT on q2 with q1 as control\n",
    "\n",
    "#draw circuit up to this point\n",
    "teleportation.png"
   ]
  },
  {
   "cell_type": "markdown",
   "id": "29f9e778",
   "metadata": {},
   "source": [
    "If we want to see the operator matrix that is applied from each gate, we can simply call the gate as a function."
   ]
  },
  {
   "cell_type": "code",
   "execution_count": 7,
   "id": "a1c755ba",
   "metadata": {},
   "outputs": [
    {
     "data": {
      "text/latex": [
       "Quantum object: dims=[[2, 2], [2, 2]], shape=(4, 4), type='oper', dtype=Dense, isherm=True$$\\left(\\begin{array}{cc}1 & 0 & 0 & 0\\\\0 & 1 & 0 & 0\\\\0 & 0 & 0 & 1\\\\0 & 0 & 1 & 0\\end{array}\\right)$$"
      ],
      "text/plain": [
       "Quantum object: dims=[[2, 2], [2, 2]], shape=(4, 4), type='oper', dtype=Dense, isherm=True\n",
       "Qobj data =\n",
       "[[1. 0. 0. 0.]\n",
       " [0. 1. 0. 0.]\n",
       " [0. 0. 0. 1.]\n",
       " [0. 0. 1. 0.]]"
      ]
     },
     "execution_count": 7,
     "metadata": {},
     "output_type": "execute_result"
    }
   ],
   "source": [
    "cnot()"
   ]
  },
  {
   "cell_type": "code",
   "execution_count": 8,
   "id": "fc206d98",
   "metadata": {},
   "outputs": [
    {
     "data": {
      "text/latex": [
       "Quantum object: dims=[[2], [2]], shape=(2, 2), type='oper', dtype=Dense, isherm=True$$\\left(\\begin{array}{cc}0.707 & 0.707\\\\0.707 & -0.707\\end{array}\\right)$$"
      ],
      "text/plain": [
       "Quantum object: dims=[[2], [2]], shape=(2, 2), type='oper', dtype=Dense, isherm=True\n",
       "Qobj data =\n",
       "[[ 0.70710678  0.70710678]\n",
       " [ 0.70710678 -0.70710678]]"
      ]
     },
     "execution_count": 8,
     "metadata": {},
     "output_type": "execute_result"
    }
   ],
   "source": [
    "snot()"
   ]
  },
  {
   "cell_type": "markdown",
   "id": "dd27b484",
   "metadata": {},
   "source": [
    "We now make q0 interact with Alice's EPR pair qubit, followed by measuring the two qubits that belong to Alice at this point (q0 and q1). The result of the measurement q0 is stored in classical bit c1 and the result of q1 in classical bit c2."
   ]
  },
  {
   "cell_type": "code",
   "execution_count": 9,
   "id": "d582e71d",
   "metadata": {},
   "outputs": [
    {
     "data": {
      "image/png": "[encoded data removed]",
      "text/plain": [
       "<IPython.core.display.Image object>"
      ]
     },
     "execution_count": 9,
     "metadata": {},
     "output_type": "execute_result"
    }
   ],
   "source": [
    "teleportation.add_gate(\"CNOT\", targets=[1], controls=[0])\n",
    "teleportation.add_gate(\"SNOT\", targets=[0])\n",
    "\n",
    "teleportation.add_measurement(\"M0\", targets=[0], classical_store=1) #measure q0 and store on c1\n",
    "teleportation.add_measurement(\"M1\", targets=[1], classical_store=0) #measure q1 and store on c0\n",
    "\n",
    "#draw circuit up to this point\n",
    "teleportation.png"
   ]
  },
  {
   "cell_type": "markdown",
   "id": "e9a98ef0",
   "metadata": {},
   "source": [
    "Next, we apply an X gate on Bob's qubit based on the classical control c0 and Z gate based on classical control c1, yeilding the following results:<br>\n",
    "c1c0 <br>\n",
    "|00> = No operation<br>\n",
    "|01> = Z<br>\n",
    "|10> = X<br>\n",
    "|11> = ZX<br>"
   ]
  },
  {
   "cell_type": "code",
   "execution_count": 10,
   "id": "9c8a965d",
   "metadata": {},
   "outputs": [],
   "source": [
    "teleportation.add_gate(\"X\", targets=[2], classical_controls=[0]) #add X controlled by c0\n",
    "teleportation.add_gate(\"Z\", targets=[2], classical_controls=[1]) #add Z controlled by c1"
   ]
  },
  {
   "cell_type": "markdown",
   "id": "50ec1346",
   "metadata": {},
   "source": [
    "We can see the gates listed in our circuit and the final schematic using the follwoing two line of code:"
   ]
  },
  {
   "cell_type": "code",
   "execution_count": 11,
   "id": "4e88a9d6",
   "metadata": {},
   "outputs": [
    {
     "data": {
      "text/plain": [
       "[Gate(SNOT, targets=[1], controls=None, classical controls=None, control_value=None, classical_control_value=None),\n",
       " Gate(CNOT, targets=[2], controls=[1], classical controls=None, control_value=1, classical_control_value=None),\n",
       " Gate(CNOT, targets=[1], controls=[0], classical controls=None, control_value=1, classical_control_value=None),\n",
       " Gate(SNOT, targets=[0], controls=None, classical controls=None, control_value=None, classical_control_value=None),\n",
       " Measurement(M0, target=[0], classical_store=1),\n",
       " Measurement(M1, target=[1], classical_store=0),\n",
       " Gate(X, targets=[2], controls=None, classical controls=[0], control_value=None, classical_control_value=1),\n",
       " Gate(Z, targets=[2], controls=None, classical controls=[1], control_value=None, classical_control_value=1)]"
      ]
     },
     "execution_count": 11,
     "metadata": {},
     "output_type": "execute_result"
    }
   ],
   "source": [
    "teleportation.gates #list circuit elements"
   ]
  },
  {
   "cell_type": "code",
   "execution_count": 12,
   "id": "fddf1c5b",
   "metadata": {},
   "outputs": [
    {
     "data": {
      "image/png": "[encoded data removed]",
      "text/plain": [
       "<IPython.core.display.Image object>"
      ]
     },
     "execution_count": 12,
     "metadata": {},
     "output_type": "execute_result"
    }
   ],
   "source": [
    "teleportation.png"
   ]
  },
  {
   "cell_type": "markdown",
   "id": "22b80114",
   "metadata": {},
   "source": [
    "Lets now apply this circuit to an example. Suppose we set the initial state psi to be in the + state"
   ]
  },
  {
   "cell_type": "code",
   "execution_count": 13,
   "id": "0031b8ac",
   "metadata": {},
   "outputs": [],
   "source": [
    "a = 1/sqrt(2) * basis(2,0) + 1/sqrt(2)*basis(2,1)  #defining + state\n",
    "state = tensor(a, basis(2,0), basis(2,0))  #setting 3 qubits to be + 0 0"
   ]
  },
  {
   "cell_type": "markdown",
   "id": "2d3b919c",
   "metadata": {},
   "source": [
    "We can confirm our state is initialized correctly by observing the measurement statisicits on qubit q0, Note that Qobj has the following attributes: <br>\n",
    "dimensions of tensor structure <br>\n",
    "shape of of Qobj data <br>\n",
    "type of quantum object - bra, ket, super, etc.\n"
   ]
  },
  {
   "cell_type": "code",
   "execution_count": 14,
   "id": "b6e2fedf",
   "metadata": {},
   "outputs": [
    {
     "data": {
      "text/plain": [
       "([Quantum object: dims=[[2, 2, 2], [1, 1, 1]], shape=(8, 1), type='ket', dtype=Dense\n",
       "  Qobj data =\n",
       "  [[1.]\n",
       "   [0.]\n",
       "   [0.]\n",
       "   [0.]\n",
       "   [0.]\n",
       "   [0.]\n",
       "   [0.]\n",
       "   [0.]],\n",
       "  Quantum object: dims=[[2, 2, 2], [1, 1, 1]], shape=(8, 1), type='ket', dtype=Dense\n",
       "  Qobj data =\n",
       "  [[0.]\n",
       "   [0.]\n",
       "   [0.]\n",
       "   [0.]\n",
       "   [1.]\n",
       "   [0.]\n",
       "   [0.]\n",
       "   [0.]]],\n",
       " [0.4999999999999999, 0.4999999999999999])"
      ]
     },
     "execution_count": 14,
     "metadata": {},
     "output_type": "execute_result"
    }
   ],
   "source": [
    "initial_measurement = Measurement(\"start\", targets=[0]) #measure q0\n",
    "initial_measurement.measurement_comp_basis(state) "
   ]
  },
  {
   "cell_type": "markdown",
   "id": "b90a9283",
   "metadata": {},
   "source": [
    "The circuit object QubitCircuit has a method \"run\" which can run the circuit we previously made when provided with an initial state vector or density matrix and provides the final state as a \"result\" object. Note: any classical bits can also be explicitly set using the argument cbits."
   ]
  },
  {
   "cell_type": "code",
   "execution_count": 15,
   "id": "39d11e8d",
   "metadata": {},
   "outputs": [
    {
     "name": "stdout",
     "output_type": "stream",
     "text": [
      "Quantum object: dims=[[2, 2, 2], [1, 1, 1]], shape=(8, 1), type='ket', dtype=Dense\n",
      "Qobj data =\n",
      "[[0.        ]\n",
      " [0.        ]\n",
      " [0.        ]\n",
      " [0.        ]\n",
      " [0.        ]\n",
      " [0.        ]\n",
      " [0.70710678]\n",
      " [0.70710678]]\n"
     ]
    }
   ],
   "source": [
    "state_final = teleportation.run(state) #run intial state set up on circuit\n",
    "print(state_final)"
   ]
  },
  {
   "cell_type": "markdown",
   "id": "22407cbd",
   "metadata": {},
   "source": [
    "After running that, we can see the measurement stats on the last qubit to see that teleportation did indeed occur."
   ]
  },
  {
   "cell_type": "code",
   "execution_count": 16,
   "id": "9e1f927a",
   "metadata": {},
   "outputs": [
    {
     "data": {
      "text/plain": [
       "([Quantum object: dims=[[2, 2, 2], [1, 1, 1]], shape=(8, 1), type='ket', dtype=Dense\n",
       "  Qobj data =\n",
       "  [[0.]\n",
       "   [0.]\n",
       "   [0.]\n",
       "   [0.]\n",
       "   [0.]\n",
       "   [0.]\n",
       "   [1.]\n",
       "   [0.]],\n",
       "  Quantum object: dims=[[2, 2, 2], [1, 1, 1]], shape=(8, 1), type='ket', dtype=Dense\n",
       "  Qobj data =\n",
       "  [[0.]\n",
       "   [0.]\n",
       "   [0.]\n",
       "   [0.]\n",
       "   [0.]\n",
       "   [0.]\n",
       "   [0.]\n",
       "   [1.]]],\n",
       " [0.4999999999999999, 0.4999999999999999])"
      ]
     },
     "execution_count": 16,
     "metadata": {},
     "output_type": "execute_result"
    }
   ],
   "source": [
    "final_measurement = Measurement(\"start\", targets=[2]) #Measure q2 to check if the intial q0 value was teleported \n",
    "final_measurement.measurement_comp_basis(state_final)"
   ]
  },
  {
   "cell_type": "markdown",
   "id": "e769ea2a",
   "metadata": {},
   "source": [
    "Lets do one more example with the intial state of phi being set to 1."
   ]
  },
  {
   "cell_type": "code",
   "execution_count": 17,
   "id": "ead2751f",
   "metadata": {},
   "outputs": [
    {
     "data": {
      "text/plain": [
       "([None,\n",
       "  Quantum object: dims=[[2, 2, 2], [1, 1, 1]], shape=(8, 1), type='ket', dtype=Dense\n",
       "  Qobj data =\n",
       "  [[0.]\n",
       "   [0.]\n",
       "   [0.]\n",
       "   [0.]\n",
       "   [1.]\n",
       "   [0.]\n",
       "   [0.]\n",
       "   [0.]]],\n",
       " [0.0, 1.0])"
      ]
     },
     "execution_count": 17,
     "metadata": {},
     "output_type": "execute_result"
    }
   ],
   "source": [
    "state = tensor(basis(2,1), basis(2,0), basis(2,0)) #set qubits to 1 0 0 -> q0 q1 q2 \n",
    "initial_measurement = Measurement(\"start\", targets=[0]) #measure intial qubit q0, should be a 1 as it was set\n",
    "initial_measurement.measurement_comp_basis(state)"
   ]
  },
  {
   "cell_type": "code",
   "execution_count": 18,
   "id": "3fd5c187",
   "metadata": {},
   "outputs": [
    {
     "name": "stdout",
     "output_type": "stream",
     "text": [
      "Quantum object: dims=[[2, 2, 2], [1, 1, 1]], shape=(8, 1), type='ket', dtype=Dense\n",
      "Qobj data =\n",
      "[[0.]\n",
      " [1.]\n",
      " [0.]\n",
      " [0.]\n",
      " [0.]\n",
      " [0.]\n",
      " [0.]\n",
      " [0.]]\n"
     ]
    }
   ],
   "source": [
    "state_final = teleportation.run(state)\n",
    "print(state_final)"
   ]
  },
  {
   "cell_type": "code",
   "execution_count": 19,
   "id": "24a07993",
   "metadata": {},
   "outputs": [
    {
     "data": {
      "text/plain": [
       "([None,\n",
       "  Quantum object: dims=[[2, 2, 2], [1, 1, 1]], shape=(8, 1), type='ket', dtype=Dense\n",
       "  Qobj data =\n",
       "  [[0.]\n",
       "   [1.]\n",
       "   [0.]\n",
       "   [0.]\n",
       "   [0.]\n",
       "   [0.]\n",
       "   [0.]\n",
       "   [0.]]],\n",
       " [0.0, 1.0])"
      ]
     },
     "execution_count": 19,
     "metadata": {},
     "output_type": "execute_result"
    }
   ],
   "source": [
    "final_measurement = Measurement(\"start\", targets=[2]) #measure state of q2 to check that it matches q0\n",
    "final_measurement.measurement_comp_basis(state_final)"
   ]
  },
  {
   "cell_type": "markdown",
   "id": "26d9eeca",
   "metadata": {},
   "source": [
    "Another cool feature that QuTip has is to get the circuit stats using the QubitCircuit.run_statistics() feature, which give you all the possible output states of the circuit with their probabilities."
   ]
  },
  {
   "cell_type": "code",
   "execution_count": 22,
   "id": "2d724142",
   "metadata": {},
   "outputs": [
    {
     "data": {
      "text/plain": [
       "[0.24999999999999994,\n",
       " 0.24999999999999994,\n",
       " 0.24999999999999994,\n",
       " 0.24999999999999994]"
      ]
     },
     "execution_count": 22,
     "metadata": {},
     "output_type": "execute_result"
    }
   ],
   "source": [
    "results = teleportation.run_statistics(state)\n",
    "results.probabilities"
   ]
  },
  {
   "cell_type": "code",
   "execution_count": 23,
   "id": "60ba80e2",
   "metadata": {},
   "outputs": [
    {
     "data": {
      "text/plain": [
       "[Quantum object: dims=[[2, 2, 2], [1, 1, 1]], shape=(8, 1), type='ket', dtype=Dense\n",
       " Qobj data =\n",
       " [[0.]\n",
       "  [1.]\n",
       "  [0.]\n",
       "  [0.]\n",
       "  [0.]\n",
       "  [0.]\n",
       "  [0.]\n",
       "  [0.]],\n",
       " Quantum object: dims=[[2, 2, 2], [1, 1, 1]], shape=(8, 1), type='ket', dtype=Dense\n",
       " Qobj data =\n",
       " [[0.]\n",
       "  [0.]\n",
       "  [0.]\n",
       "  [1.]\n",
       "  [0.]\n",
       "  [0.]\n",
       "  [0.]\n",
       "  [0.]],\n",
       " Quantum object: dims=[[2, 2, 2], [1, 1, 1]], shape=(8, 1), type='ket', dtype=Dense\n",
       " Qobj data =\n",
       " [[0.]\n",
       "  [0.]\n",
       "  [0.]\n",
       "  [0.]\n",
       "  [0.]\n",
       "  [1.]\n",
       "  [0.]\n",
       "  [0.]],\n",
       " Quantum object: dims=[[2, 2, 2], [1, 1, 1]], shape=(8, 1), type='ket', dtype=Dense\n",
       " Qobj data =\n",
       " [[0.]\n",
       "  [0.]\n",
       "  [0.]\n",
       "  [0.]\n",
       "  [0.]\n",
       "  [0.]\n",
       "  [0.]\n",
       "  [1.]]]"
      ]
     },
     "execution_count": 23,
     "metadata": {},
     "output_type": "execute_result"
    }
   ],
   "source": [
    "results.final_states"
   ]
  },
  {
   "cell_type": "code",
   "execution_count": 19,
   "id": "1008b309",
   "metadata": {},
   "outputs": [
    {
     "name": "stdout",
     "output_type": "stream",
     "text": [
      "\n",
      "QuTiP: Quantum Toolbox in Python\n",
      "================================\n",
      "Copyright (c) QuTiP team 2011 and later.\n",
      "Current admin team: Alexander Pitchford, Nathan Shammah, Shahnawaz Ahmed, Neill Lambert, Eric Giguère, Boxi Li, Jake Lishman, Simon Cross and Asier Galicia.\n",
      "Board members: Daniel Burgarth, Robert Johansson, Anton F. Kockum, Franco Nori and Will Zeng.\n",
      "Original developers: R. J. Johansson & P. D. Nation.\n",
      "Previous lead developers: Chris Granade & A. Grimsmo.\n",
      "Currently developed through wide collaboration. See https://github.com/qutip for details.\n",
      "\n",
      "QuTiP Version:      5.0.1\n",
      "Numpy Version:      1.24.4\n",
      "Scipy Version:      1.9.1\n",
      "Cython Version:     0.29.32\n",
      "Matplotlib Version: 3.5.2\n",
      "Python Version:     3.9.13\n",
      "Number of CPUs:     8\n",
      "BLAS Info:          OPENBLAS\n",
      "INTEL MKL Ext:      False\n",
      "Platform Info:      Windows (AMD64)\n",
      "Installation path:  C:\\Users\\jgath\\anaconda3\\lib\\site-packages\\qutip\n",
      "================================================================================\n",
      "Please cite QuTiP in your publication.\n",
      "================================================================================\n",
      "For your convenience a bibtex reference can be easily generated using `qutip.cite()`\n"
     ]
    }
   ],
   "source": [
    "about()"
   ]
  }
 ],
 "metadata": {
  "kernelspec": {
   "display_name": "Python 3 (ipykernel)",
   "language": "python",
   "name": "python3"
  },
  "language_info": {
   "codemirror_mode": {
    "name": "ipython",
    "version": 3
   },
   "file_extension": ".py",
   "mimetype": "text/x-python",
   "name": "python",
   "nbconvert_exporter": "python",
   "pygments_lexer": "ipython3",
   "version": "3.9.13"
  }
 },
 "nbformat": 4,
 "nbformat_minor": 5
}
