{
 "cells": [
  {
   "cell_type": "code",
   "execution_count": 2,
   "metadata": {},
   "outputs": [],
   "source": [
    "import cirq\n",
    "import cirq_google as cg\n",
    "import numpy as np\n",
    "import matplotlib.pyplot as plt"
   ]
  },
  {
   "cell_type": "markdown",
   "metadata": {},
   "source": [
    "## Section 1. More on Sycamore\n",
    "Prints a summary of Google's Sycamore processor configuration, providing a glimpse into its capabilities."
   ]
  },
  {
   "cell_type": "code",
   "execution_count": 3,
   "metadata": {},
   "outputs": [
    {
     "name": "stdout",
     "output_type": "stream",
     "text": [
      "                                             (0, 5)───(0, 6)\n",
      "                                             │        │\n",
      "                                             │        │\n",
      "                                    (1, 4)───(1, 5)───(1, 6)───(1, 7)\n",
      "                                    │        │        │        │\n",
      "                                    │        │        │        │\n",
      "                           (2, 3)───(2, 4)───(2, 5)───(2, 6)───(2, 7)───(2, 8)\n",
      "                           │        │        │        │        │        │\n",
      "                           │        │        │        │        │        │\n",
      "                  (3, 2)───(3, 3)───(3, 4)───(3, 5)───(3, 6)───(3, 7)───(3, 8)───(3, 9)\n",
      "                  │        │        │        │        │        │        │        │\n",
      "                  │        │        │        │        │        │        │        │\n",
      "         (4, 1)───(4, 2)───(4, 3)───(4, 4)───(4, 5)───(4, 6)───(4, 7)───(4, 8)───(4, 9)\n",
      "         │        │        │        │        │        │        │        │\n",
      "         │        │        │        │        │        │        │        │\n",
      "(5, 0)───(5, 1)───(5, 2)───(5, 3)───(5, 4)───(5, 5)───(5, 6)───(5, 7)───(5, 8)\n",
      "         │        │        │        │        │        │        │\n",
      "         │        │        │        │        │        │        │\n",
      "         (6, 1)───(6, 2)───(6, 3)───(6, 4)───(6, 5)───(6, 6)───(6, 7)\n",
      "                  │        │        │        │        │\n",
      "                  │        │        │        │        │\n",
      "                  (7, 2)───(7, 3)───(7, 4)───(7, 5)───(7, 6)\n",
      "                           │        │        │\n",
      "                           │        │        │\n",
      "                           (8, 3)───(8, 4)───(8, 5)\n",
      "                                    │\n",
      "                                    │\n",
      "                                    (9, 4)\n"
     ]
    }
   ],
   "source": [
    "print(cg.Sycamore)"
   ]
  },
  {
   "cell_type": "markdown",
   "metadata": {},
   "source": [
    "## Section 2: Basic Circuit\n",
    "A simple circuit with two qubits is created to demonstrate basic operations using Hadamard and CNOT gates, followed by measurement. The simulation shows the distribution of results over multiple repetitions."
   ]
  },
  {
   "cell_type": "code",
   "execution_count": 4,
   "metadata": {},
   "outputs": [
    {
     "name": "stdout",
     "output_type": "stream",
     "text": [
      "Circuit:\n",
      "\n",
      "a: ───H───@───M───\n",
      "          │   │\n",
      "b: ───────X───M───\n"
     ]
    }
   ],
   "source": [
    "\"\"\"Creating a circuit.\"\"\"\n",
    "# Define two qubits.\n",
    "a = cirq.NamedQubit(\"a\")\n",
    "b = cirq.NamedQubit(\"b\")\n",
    "\n",
    "\n",
    "# Create a circuit from the list of operations.\n",
    "circuit = cirq.Circuit(\n",
    "cirq.H(a),\n",
    "cirq.CNOT(a, b),\n",
    "    cirq.measure(a,b)\n",
    ")\n",
    "print(\"Circuit:\\n\")\n",
    "print(circuit)"
   ]
  },
  {
   "cell_type": "code",
   "execution_count": 5,
   "metadata": {},
   "outputs": [
    {
     "name": "stdout",
     "output_type": "stream",
     "text": [
      "\n",
      "Moments in the circuit:\n",
      "\n",
      "Moment 0:   ╷ None\n",
      "╶─┼──────\n",
      "a │ H\n",
      "  │\n",
      "Moment 1:   ╷ None\n",
      "╶─┼──────\n",
      "a │ @\n",
      "  │ │\n",
      "b │ X\n",
      "  │\n",
      "Moment 2:   ╷ None\n",
      "╶─┼──────\n",
      "a │ M\n",
      "  │ │\n",
      "b │ M\n",
      "  │\n"
     ]
    }
   ],
   "source": [
    "print(\"\\nMoments in the circuit:\\n\")\n",
    "for i, moment in enumerate(circuit):\n",
    "    print('Moment {}: {}'.format(i, moment))"
   ]
  },
  {
   "cell_type": "code",
   "execution_count": 6,
   "metadata": {},
   "outputs": [
    {
     "name": "stdout",
     "output_type": "stream",
     "text": [
      "cirq.Circuit([\n",
      "    cirq.Moment(\n",
      "        cirq.H(cirq.NamedQubit('a')),\n",
      "    ),\n",
      "    cirq.Moment(\n",
      "        cirq.CNOT(cirq.NamedQubit('a'), cirq.NamedQubit('b')),\n",
      "    ),\n",
      "    cirq.Moment(\n",
      "        cirq.measure(cirq.NamedQubit('a'), cirq.NamedQubit('b')),\n",
      "    ),\n",
      "])\n"
     ]
    }
   ],
   "source": [
    "print(repr(circuit))"
   ]
  },
  {
   "cell_type": "code",
   "execution_count": 7,
   "metadata": {},
   "outputs": [
    {
     "name": "stdout",
     "output_type": "stream",
     "text": [
      "Measurement results:\n",
      "a,b=11101110101110000010, 11101110101110000010\n"
     ]
    }
   ],
   "source": [
    "simulator = cirq.Simulator()\n",
    "# Pass the circuit to the simulator.run method.\n",
    "result = simulator.run(circuit, repetitions=20)\n",
    "print(\"Measurement results:\")\n",
    "print(result)\n"
   ]
  },
  {
   "cell_type": "markdown",
   "metadata": {},
   "source": [
    "## Section 3: Slightly complex circuit\n",
    "Adds more quantum gates (T and CZ) to increase the complexity, simulates the circuit, and then displays measurement results."
   ]
  },
  {
   "cell_type": "code",
   "execution_count": 8,
   "metadata": {},
   "outputs": [],
   "source": [
    "\n",
    "\"\"\"Creating a more complex circuit.\"\"\"\n",
    "# Define two qubits.\n",
    "a = cirq.NamedQubit(\"a\")\n",
    "b = cirq.NamedQubit(\"b\")"
   ]
  },
  {
   "cell_type": "code",
   "execution_count": 9,
   "metadata": {},
   "outputs": [
    {
     "name": "stdout",
     "output_type": "stream",
     "text": [
      "\n",
      "Circuit with additional gates:\n",
      "\n",
      "a: ───H───@───M───\n",
      "          │   │\n",
      "b: ───T───@───M───\n"
     ]
    }
   ],
   "source": [
    "# Create a circuit with various quantum gates\n",
    "circuit = cirq.Circuit(\n",
    "    cirq.H(a),\n",
    "    cirq.T(b),             \n",
    "    cirq.CZ(a, b),           \n",
    "    cirq.measure(a, b)\n",
    ")\n",
    "print(\"\\nCircuit with additional gates:\\n\")\n",
    "print(circuit)"
   ]
  },
  {
   "cell_type": "code",
   "execution_count": 10,
   "metadata": {},
   "outputs": [
    {
     "name": "stdout",
     "output_type": "stream",
     "text": [
      "\n",
      "Measurement results for the new circuit:\n",
      "a,b=11000011001111011111, 00000000000000000000\n"
     ]
    }
   ],
   "source": [
    "# Simulate the new circuit\n",
    "simulator = cirq.Simulator()\n",
    "result = simulator.run(circuit, repetitions=20)\n",
    "print(\"\\nMeasurement results for the new circuit:\")\n",
    "print(result)"
   ]
  },
  {
   "cell_type": "markdown",
   "metadata": {},
   "source": [
    "## Section 4: Did we forget the noise?\n",
    "A noise model is introduced to simulate more realistic quantum computing conditions by using a depolarizing noise effect on qubits. The results compare how noise impacts measurements."
   ]
  },
  {
   "cell_type": "code",
   "execution_count": 11,
   "metadata": {},
   "outputs": [
    {
     "name": "stdout",
     "output_type": "stream",
     "text": [
      "\n",
      "Measurement results with noise model:\n",
      "a,b=11011101010000101101, 10000000000000000000\n"
     ]
    }
   ],
   "source": [
    "\"\"\"Noise Model Simulation.\"\"\"\n",
    "# Define a simple noise model\n",
    "noise_model = cirq.ConstantQubitNoiseModel(cirq.depolarize(p=0.01))\n",
    "\n",
    "# Apply the noise model to the circuit\n",
    "noisy_circuit = cirq.Circuit(\n",
    "    cirq.H(a),\n",
    "    cirq.T(b),\n",
    "    cirq.CZ(a, b),\n",
    "    cirq.measure(a, b)\n",
    ")\n",
    "\n",
    "noisy_simulator = cirq.DensityMatrixSimulator(noise=noise_model)\n",
    "noisy_result = noisy_simulator.run(noisy_circuit, repetitions=20)\n",
    "\n",
    "print(\"\\nMeasurement results with noise model:\")\n",
    "print(noisy_result)"
   ]
  },
  {
   "cell_type": "markdown",
   "metadata": {},
   "source": [
    "## Section 5: Visualize the quantum states\n",
    "Uses matplotlib to plot the probabilities of state vectors in a circuit, offering a clear visualization of quantum state distributions."
   ]
  },
  {
   "cell_type": "code",
   "execution_count": 12,
   "metadata": {},
   "outputs": [
    {
     "data": {
      "image/png": "[encoded data removed]",
      "text/plain": [
       "<Figure size 640x480 with 1 Axes>"
      ]
     },
     "metadata": {},
     "output_type": "display_data"
    }
   ],
   "source": [
    "\"\"\"Visualizing Quantum States.\"\"\"\n",
    "# Create a simple circuit and simulate to obtain state vector\n",
    "circuit2 = cirq.Circuit(\n",
    "    cirq.H(a),\n",
    "    cirq.CNOT(a, b)\n",
    ")\n",
    "state_simulator = cirq.Simulator()\n",
    "state_result = state_simulator.simulate(circuit2)\n",
    "\n",
    "# Visualize state vector probabilities\n",
    "state_vector = np.abs(state_result.final_state_vector) ** 2\n",
    "plt.bar(range(len(state_vector)), state_vector)\n",
    "plt.xlabel('State Index')\n",
    "plt.ylabel('Probability')\n",
    "plt.title('State Vector Probability Distribution')\n",
    "plt.show()"
   ]
  },
  {
   "cell_type": "markdown",
   "metadata": {},
   "source": [
    "## Section 6: Let's build a quantum Teleportation Circuit\n",
    "A three-qubit circuit demonstrates quantum teleportation by using entanglement and Bell-state measurements. After obtaining measurements, the results are used to correct the receiver's qubit."
   ]
  },
  {
   "cell_type": "code",
   "execution_count": 13,
   "metadata": {},
   "outputs": [],
   "source": [
    "# Define three qubits\n",
    "qubit_sender = cirq.NamedQubit(\"Sender\")\n",
    "qubit_aux = cirq.NamedQubit(\"Auxiliary\")\n",
    "qubit_receiver = cirq.NamedQubit(\"Receiver\")"
   ]
  },
  {
   "cell_type": "code",
   "execution_count": 14,
   "metadata": {},
   "outputs": [],
   "source": [
    "# Create the quantum teleportation circuit\n",
    "circuit = cirq.Circuit()"
   ]
  },
  {
   "cell_type": "code",
   "execution_count": 15,
   "metadata": {},
   "outputs": [],
   "source": [
    "# Step 1: Prepare the entangled pair (Bell state)\n",
    "circuit.append([cirq.H(qubit_aux), cirq.CNOT(qubit_aux, qubit_receiver)])\n",
    "\n",
    "# Step 2: Apply an arbitrary state to the sender's qubit (e.g., |+>)\n",
    "circuit.append([cirq.H(qubit_sender)])\n",
    "\n",
    "# Step 3: Bell-state measurement on the sender and auxiliary qubits\n",
    "circuit.append([cirq.CNOT(qubit_sender, qubit_aux), cirq.H(qubit_sender)])\n",
    "circuit.append([cirq.measure(qubit_sender, key='sender_m'), cirq.measure(qubit_aux, key='auxiliary_m')])"
   ]
  },
  {
   "cell_type": "code",
   "execution_count": 16,
   "metadata": {},
   "outputs": [
    {
     "name": "stdout",
     "output_type": "stream",
     "text": [
      "\n",
      "Quantum Teleportation Circuit:\n",
      "\n",
      "Auxiliary: ───H───@───X───M('auxiliary_m')───────────────────\n",
      "                  │   │\n",
      "Receiver: ────────X───┼──────────────────────────────────────\n",
      "                      │\n",
      "Sender: ──────H───────@───H──────────────────M('sender_m')───\n"
     ]
    }
   ],
   "source": [
    "# Print the circuit for verification\n",
    "print(\"\\nQuantum Teleportation Circuit:\\n\")\n",
    "print(circuit)"
   ]
  },
  {
   "cell_type": "code",
   "execution_count": 17,
   "metadata": {},
   "outputs": [
    {
     "name": "stdout",
     "output_type": "stream",
     "text": [
      "\n",
      "Measurement Results (DataFrame):\n",
      "   auxiliary_m  sender_m\n",
      "0            1         0\n"
     ]
    }
   ],
   "source": [
    "\n",
    "# Simulate the circuit and capture the measurements\n",
    "simulator = cirq.Simulator()\n",
    "result = simulator.run(circuit, repetitions=1)\n",
    "\n",
    "# Access measurement data through the Pandas DataFrame\n",
    "measurements = result.data\n",
    "print(\"\\nMeasurement Results (DataFrame):\")\n",
    "print(measurements)"
   ]
  },
  {
   "cell_type": "code",
   "execution_count": 18,
   "metadata": {},
   "outputs": [],
   "source": [
    "# Extract measurement results\n",
    "sender_m = measurements['sender_m'][0]\n",
    "auxiliary_m = measurements['auxiliary_m'][0]"
   ]
  },
  {
   "cell_type": "code",
   "execution_count": 19,
   "metadata": {},
   "outputs": [],
   "source": [
    "\n",
    "# Create a correction circuit based on measurement results\n",
    "receiver_circuit = cirq.Circuit()\n",
    "\n",
    "# Correct X if the auxiliary qubit was measured as 1\n",
    "if auxiliary_m == 1:\n",
    "    receiver_circuit.append(cirq.X(qubit_receiver))\n",
    "\n",
    "# Correct Z if the sender qubit was measured as 1\n",
    "if sender_m == 1:\n",
    "    receiver_circuit.append(cirq.Z(qubit_receiver))"
   ]
  },
  {
   "cell_type": "code",
   "execution_count": 20,
   "metadata": {},
   "outputs": [
    {
     "name": "stdout",
     "output_type": "stream",
     "text": [
      "\n",
      "Correction Circuit for Receiver's Qubit:\n",
      "\n",
      "Receiver: ───X───\n",
      "\n",
      "Final State of Receiver's Qubit:\n",
      "[0.+0.j 1.+0.j]\n"
     ]
    }
   ],
   "source": [
    "\n",
    "# Print the correction circuit\n",
    "print(\"\\nCorrection Circuit for Receiver's Qubit:\\n\")\n",
    "print(receiver_circuit)\n",
    "\n",
    "# Simulate the final state of the receiver's qubit after corrections\n",
    "final_state_simulator = cirq.Simulator()\n",
    "final_state = final_state_simulator.simulate(receiver_circuit)\n",
    "print(\"\\nFinal State of Receiver's Qubit:\")\n",
    "print(final_state.final_state_vector)"
   ]
  },
  {
   "cell_type": "markdown",
   "metadata": {},
   "source": [
    "## Section 7: Drawbacks\n",
    "\n",
    "Discussing potential limitations of Cirq, including restricted access to actual quantum hardware, documentation issues due to rapid evolution, a relatively small user base, and still-developing noise/error correction features. <br>\n",
    "\n",
    "1. Limited Hardware Access: <br>\n",
    "Although Cirq can simulate circuits on classical computers, running those circuits on actual Google hardware requires access to Google's quantum computing services, which might not be readily available to all researchers or developers.\n",
    "\n",
    "2. Documentation and Learning Curve: <br>\n",
    "As a rapidly evolving project, some features may lack comprehensive documentation, making it difficult for newcomers to learn and effectively utilize all of Cirq's capabilities.\n",
    "\n",
    "3. Community and Support: <br>\n",
    "The Cirq user base and support community, while growing, are still relatively small compared to other quantum computing ecosystems, potentially limiting collaborative opportunities and troubleshooting resources.\n",
    "\n",
    "4. Noise and Error Correction: <br>\n",
    "Although Cirq provides some noise models and supports error correction techniques, these features are still developing. Users requiring specialized error correction may need to implement additional custom solutions."
   ]
  },
  {
   "cell_type": "markdown",
   "metadata": {},
   "source": [
    "## Section 8: References\n",
    "\n",
    "https://quantumai.google/cirq/dev/notebooks <br>\n",
    "https://www.qbraid.com/blog/launch-new-cirq-v1-2-0-notebook-in-4-clicks"
   ]
  },
  {
   "cell_type": "markdown",
   "metadata": {},
   "source": []
  }
 ],
 "metadata": {
  "kernelspec": {
   "display_name": "Python 3",
   "language": "python",
   "name": "python3"
  },
  "language_info": {
   "codemirror_mode": {
    "name": "ipython",
    "version": 3
   },
   "file_extension": ".py",
   "mimetype": "text/x-python",
   "name": "python",
   "nbconvert_exporter": "python",
   "pygments_lexer": "ipython3",
   "version": "3.11.8"
  }
 },
 "nbformat": 4,
 "nbformat_minor": 2
}
