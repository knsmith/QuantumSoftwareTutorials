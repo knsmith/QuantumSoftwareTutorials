{
 "cells": [
  {
   "cell_type": "markdown",
   "id": "6535adb8",
   "metadata": {},
   "source": [
    "# Bloqade-Python tutorial \n",
    "\n",
    "Author: Hyeok Kim\n",
    "\n",
    "\"Bloqade is an SDK designed to make writing and analyzing the results of analog quantum programs on QuEra's neutral atom quantum computers as seamless and flexible as possible.\"\n",
    "\n",
    "Official documentation: https://bloqade.quera.com/latest/\n",
    "\n",
    "This tutorial aims to introduce how to arrange atoms, ..."
   ]
  },
  {
   "cell_type": "code",
   "execution_count": 64,
   "id": "1a0e6c61",
   "metadata": {},
   "outputs": [],
   "source": [
    "import numpy as np\n",
    "from bloqade import var, start\n",
    "from bloqade.atom_arrangement import Chain, Square, Honeycomb, Kagome, Lieb, Rectangular, Triangular\n",
    "from bloqade import visualization as bv\n",
    "import time"
   ]
  },
  {
   "cell_type": "markdown",
   "id": "8ee7de39",
   "metadata": {},
   "source": [
    "## Arrange atoms!\n",
    "\n",
    "Bloqade affers different custom and pre-defined configuration methods for atom positions."
   ]
  },
  {
   "cell_type": "code",
   "execution_count": 2,
   "id": "8febf0b2",
   "metadata": {},
   "outputs": [
    {
     "data": {
      "text/plain": [
       "                                   \u001b[0m\u001b[38;5;15mAtom Positions\u001b[0m                               \u001b[0m\n",
       "    \u001b[0m\u001b[38;5;15m┌──────────────────────────────────────────────────────────────────────────┐\u001b[0m\n",
       "\u001b[38;5;15m2.20┤\u001b[0m                                                                         \u001b[0m\u001b[38;2;100;55;255m•\u001b[0m\u001b[38;5;15m│\u001b[0m\n",
       "    \u001b[0m\u001b[38;5;15m│\u001b[0m                                                                          \u001b[0m\u001b[38;5;15m│\u001b[0m\n",
       "    \u001b[0m\u001b[38;5;15m│\u001b[0m                                                                          \u001b[0m\u001b[38;5;15m│\u001b[0m\n",
       "\u001b[38;5;15m1.83┤\u001b[0m                                                                          \u001b[0m\u001b[38;5;15m│\u001b[0m\n",
       "    \u001b[0m\u001b[38;5;15m│\u001b[0m                                                                          \u001b[0m\u001b[38;5;15m│\u001b[0m\n",
       "    \u001b[0m\u001b[38;5;15m│\u001b[0m                                                                          \u001b[0m\u001b[38;5;15m│\u001b[0m\n",
       "\u001b[38;5;15m1.47┤\u001b[0m                                                                          \u001b[0m\u001b[38;5;15m│\u001b[0m\n",
       "    \u001b[0m\u001b[38;5;15m│\u001b[0m                                                                          \u001b[0m\u001b[38;5;15m│\u001b[0m\n",
       "    \u001b[0m\u001b[38;5;15m│\u001b[0m                                                                          \u001b[0m\u001b[38;5;15m│\u001b[0m\n",
       "\u001b[38;5;15m1.10┤\u001b[0m                                                                          \u001b[0m\u001b[38;5;15m│\u001b[0m\n",
       "    \u001b[0m\u001b[38;5;15m│\u001b[0m                                                                          \u001b[0m\u001b[38;5;15m│\u001b[0m\n",
       "    \u001b[0m\u001b[38;5;15m│\u001b[0m                                                                          \u001b[0m\u001b[38;5;15m│\u001b[0m\n",
       "\u001b[38;5;15m0.73┤\u001b[0m                                                                          \u001b[0m\u001b[38;5;15m│\u001b[0m\n",
       "    \u001b[0m\u001b[38;5;15m│\u001b[0m                                                                          \u001b[0m\u001b[38;5;15m│\u001b[0m\n",
       "    \u001b[0m\u001b[38;5;15m│\u001b[0m                                                                          \u001b[0m\u001b[38;5;15m│\u001b[0m\n",
       "\u001b[38;5;15m0.37┤\u001b[0m                                                                          \u001b[0m\u001b[38;5;15m│\u001b[0m\n",
       "    \u001b[0m\u001b[38;5;15m│\u001b[0m                                                                          \u001b[0m\u001b[38;5;15m│\u001b[0m\n",
       "    \u001b[0m\u001b[38;5;15m│\u001b[0m                                                                          \u001b[0m\u001b[38;5;15m│\u001b[0m\n",
       "\u001b[38;5;15m0.00┤\u001b[0m\u001b[38;2;100;55;255m•\u001b[0m                                                      \u001b[0m\u001b[38;2;100;55;255m•\u001b[0m                  \u001b[0m\u001b[38;5;15m│\u001b[0m\n",
       "    \u001b[0m\u001b[38;5;15m└┬─────────────────┬──────────────────┬─────────────────┬─────────────────┬┘\u001b[0m\n",
       "    \u001b[0m\u001b[38;5;15m0.0\u001b[0m               \u001b[0m\u001b[38;5;15m1.0\u001b[0m                \u001b[0m\u001b[38;5;15m2.0\u001b[0m               \u001b[0m\u001b[38;5;15m3.1\u001b[0m              \u001b[0m\u001b[38;5;15m4.1\u001b[0m \u001b[0m\n",
       "\u001b[38;5;15my (um)\u001b[0m                                 \u001b[0m\u001b[38;5;15mx (um)\u001b[0m                                   \u001b[0m\n"
      ]
     },
     "execution_count": 2,
     "metadata": {},
     "output_type": "execute_result"
    }
   ],
   "source": [
    "# Custom arragement methods\n",
    "custom_atoms = start.add_position((0,0)).add_position([(3.1, 0.0), (4.1, 2.2)])\n",
    "custom_atoms"
   ]
  },
  {
   "cell_type": "code",
   "execution_count": 3,
   "id": "6bcb12c7",
   "metadata": {},
   "outputs": [
    {
     "name": "stdout",
     "output_type": "stream",
     "text": [
      "                                   \u001b[0m\u001b[38;5;15mAtom Positions\u001b[0m                               \u001b[0m\n",
      "    \u001b[0m\u001b[38;5;15m┌──────────────────────────────────────────────────────────────────────────┐\u001b[0m\n",
      "\u001b[38;5;15m2.00┤\u001b[0m\u001b[38;2;100;55;255m•\u001b[0m                                    \u001b[0m\u001b[38;2;100;55;255m•\u001b[0m                                   \u001b[0m\u001b[38;2;100;55;255m•\u001b[0m\u001b[38;5;15m│\u001b[0m\n",
      "    \u001b[0m\u001b[38;5;15m│\u001b[0m                                                                          \u001b[0m\u001b[38;5;15m│\u001b[0m\n",
      "    \u001b[0m\u001b[38;5;15m│\u001b[0m                                                                          \u001b[0m\u001b[38;5;15m│\u001b[0m\n",
      "\u001b[38;5;15m1.67┤\u001b[0m                                                                          \u001b[0m\u001b[38;5;15m│\u001b[0m\n",
      "    \u001b[0m\u001b[38;5;15m│\u001b[0m                                                                          \u001b[0m\u001b[38;5;15m│\u001b[0m\n",
      "    \u001b[0m\u001b[38;5;15m│\u001b[0m                                                                          \u001b[0m\u001b[38;5;15m│\u001b[0m\n",
      "\u001b[38;5;15m1.33┤\u001b[0m                                                                          \u001b[0m\u001b[38;5;15m│\u001b[0m\n",
      "    \u001b[0m\u001b[38;5;15m│\u001b[0m                                                                          \u001b[0m\u001b[38;5;15m│\u001b[0m\n",
      "    \u001b[0m\u001b[38;5;15m│\u001b[0m                                                                          \u001b[0m\u001b[38;5;15m│\u001b[0m\n",
      "\u001b[38;5;15m1.00┤\u001b[0m\u001b[38;2;100;55;255m•\u001b[0m                                    \u001b[0m\u001b[38;2;100;55;255m•\u001b[0m                                   \u001b[0m\u001b[38;2;100;55;255m•\u001b[0m\u001b[38;5;15m│\u001b[0m\n",
      "    \u001b[0m\u001b[38;5;15m│\u001b[0m                                                                          \u001b[0m\u001b[38;5;15m│\u001b[0m\n",
      "    \u001b[0m\u001b[38;5;15m│\u001b[0m                                                                          \u001b[0m\u001b[38;5;15m│\u001b[0m\n",
      "\u001b[38;5;15m0.67┤\u001b[0m                                                                          \u001b[0m\u001b[38;5;15m│\u001b[0m\n",
      "    \u001b[0m\u001b[38;5;15m│\u001b[0m                                                                          \u001b[0m\u001b[38;5;15m│\u001b[0m\n",
      "    \u001b[0m\u001b[38;5;15m│\u001b[0m                                                                          \u001b[0m\u001b[38;5;15m│\u001b[0m\n",
      "\u001b[38;5;15m0.33┤\u001b[0m                                                                          \u001b[0m\u001b[38;5;15m│\u001b[0m\n",
      "    \u001b[0m\u001b[38;5;15m│\u001b[0m                                                                          \u001b[0m\u001b[38;5;15m│\u001b[0m\n",
      "    \u001b[0m\u001b[38;5;15m│\u001b[0m                                                                          \u001b[0m\u001b[38;5;15m│\u001b[0m\n",
      "\u001b[38;5;15m0.00┤\u001b[0m\u001b[38;2;100;55;255m•\u001b[0m                                    \u001b[0m\u001b[38;2;100;55;255m•\u001b[0m                                   \u001b[0m\u001b[38;2;100;55;255m•\u001b[0m\u001b[38;5;15m│\u001b[0m\n",
      "    \u001b[0m\u001b[38;5;15m└┬─────────────────┬──────────────────┬─────────────────┬─────────────────┬┘\u001b[0m\n",
      "   \u001b[0m\u001b[38;5;15m0.00\u001b[0m              \u001b[0m\u001b[38;5;15m0.50\u001b[0m               \u001b[0m\u001b[38;5;15m1.00\u001b[0m              \u001b[0m\u001b[38;5;15m1.50\u001b[0m             \u001b[0m\u001b[38;5;15m2.00\u001b[0m \u001b[0m\n",
      "\u001b[38;5;15my (um)\u001b[0m                                 \u001b[0m\u001b[38;5;15mx (um)\u001b[0m                                   \u001b[0m\n",
      "\n"
     ]
    }
   ],
   "source": [
    "# Predefined arragement methods\n",
    "# Chain(3) # > n\n",
    "# Square(3) # > (n^2)\n",
    "# Honeycomb(3) # > 2*(n^2)\n",
    "# Kagome(3) # > 3*(n^2)\n",
    "# Lieb(2) # > 3 * (n^2)\n",
    "# Rectangular(3, 2) # > n * m\n",
    "# Triangular(3) # > (n^2)\n",
    "\n",
    "atoms = Square(3)\n",
    "print(atoms)"
   ]
  },
  {
   "cell_type": "markdown",
   "id": "a32f2c00",
   "metadata": {},
   "source": [
    "### Simulate defected atoms"
   ]
  },
  {
   "cell_type": "code",
   "execution_count": 4,
   "id": "94701b9f",
   "metadata": {},
   "outputs": [
    {
     "data": {
      "text/plain": [
       "                                   \u001b[0m\u001b[38;5;15mAtom Positions\u001b[0m                               \u001b[0m\n",
       "    \u001b[0m\u001b[38;5;15m┌──────────────────────────────────────────────────────────────────────────┐\u001b[0m\n",
       "\u001b[38;5;15m2.00┤\u001b[0m \u001b[0m\u001b[38;5;15m•• vacant \u001b[0m                          \u001b[0m\u001b[38;2;100;55;255m•\u001b[0m                                   \u001b[0m\u001b[38;2;100;55;255m•\u001b[0m\u001b[38;5;15m│\u001b[0m\n",
       "    \u001b[0m\u001b[38;5;15m│\u001b[0m                                                                          \u001b[0m\u001b[38;5;15m│\u001b[0m\n",
       "    \u001b[0m\u001b[38;5;15m│\u001b[0m                                                                          \u001b[0m\u001b[38;5;15m│\u001b[0m\n",
       "\u001b[38;5;15m1.67┤\u001b[0m                                                                          \u001b[0m\u001b[38;5;15m│\u001b[0m\n",
       "    \u001b[0m\u001b[38;5;15m│\u001b[0m                                                                          \u001b[0m\u001b[38;5;15m│\u001b[0m\n",
       "    \u001b[0m\u001b[38;5;15m│\u001b[0m                                                                          \u001b[0m\u001b[38;5;15m│\u001b[0m\n",
       "\u001b[38;5;15m1.33┤\u001b[0m                                                                          \u001b[0m\u001b[38;5;15m│\u001b[0m\n",
       "    \u001b[0m\u001b[38;5;15m│\u001b[0m                                                                          \u001b[0m\u001b[38;5;15m│\u001b[0m\n",
       "    \u001b[0m\u001b[38;5;15m│\u001b[0m                                                                          \u001b[0m\u001b[38;5;15m│\u001b[0m\n",
       "\u001b[38;5;15m1.00┤\u001b[0m\u001b[38;2;100;55;255m•\u001b[0m                                    \u001b[0m\u001b[38;2;100;55;255m•\u001b[0m                                   \u001b[0m\u001b[38;2;100;55;255m•\u001b[0m\u001b[38;5;15m│\u001b[0m\n",
       "    \u001b[0m\u001b[38;5;15m│\u001b[0m                                                                          \u001b[0m\u001b[38;5;15m│\u001b[0m\n",
       "    \u001b[0m\u001b[38;5;15m│\u001b[0m                                                                          \u001b[0m\u001b[38;5;15m│\u001b[0m\n",
       "\u001b[38;5;15m0.67┤\u001b[0m                                                                          \u001b[0m\u001b[38;5;15m│\u001b[0m\n",
       "    \u001b[0m\u001b[38;5;15m│\u001b[0m                                                                          \u001b[0m\u001b[38;5;15m│\u001b[0m\n",
       "    \u001b[0m\u001b[38;5;15m│\u001b[0m                                                                          \u001b[0m\u001b[38;5;15m│\u001b[0m\n",
       "\u001b[38;5;15m0.33┤\u001b[0m                                                                          \u001b[0m\u001b[38;5;15m│\u001b[0m\n",
       "    \u001b[0m\u001b[38;5;15m│\u001b[0m                                                                          \u001b[0m\u001b[38;5;15m│\u001b[0m\n",
       "    \u001b[0m\u001b[38;5;15m│\u001b[0m                                                                          \u001b[0m\u001b[38;5;15m│\u001b[0m\n",
       "\u001b[38;5;15m0.00┤•\u001b[0m                                    \u001b[0m\u001b[38;2;100;55;255m•\u001b[0m                                   \u001b[0m\u001b[38;2;100;55;255m•\u001b[0m\u001b[38;5;15m│\u001b[0m\n",
       "    \u001b[0m\u001b[38;5;15m└┬─────────────────┬──────────────────┬─────────────────┬─────────────────┬┘\u001b[0m\n",
       "   \u001b[0m\u001b[38;5;15m0.00\u001b[0m              \u001b[0m\u001b[38;5;15m0.50\u001b[0m               \u001b[0m\u001b[38;5;15m1.00\u001b[0m              \u001b[0m\u001b[38;5;15m1.50\u001b[0m             \u001b[0m\u001b[38;5;15m2.00\u001b[0m \u001b[0m\n",
       "\u001b[38;5;15my (um)\u001b[0m                                 \u001b[0m\u001b[38;5;15mx (um)\u001b[0m                                   \u001b[0m\n"
      ]
     },
     "execution_count": 4,
     "metadata": {},
     "output_type": "execute_result"
    }
   ],
   "source": [
    "atoms.apply_defect_count(2)"
   ]
  },
  {
   "cell_type": "code",
   "execution_count": 5,
   "id": "e25b43ba",
   "metadata": {},
   "outputs": [
    {
     "data": {
      "text/plain": [
       "                                   \u001b[0m\u001b[38;5;15mAtom Positions\u001b[0m                               \u001b[0m\n",
       "    \u001b[0m\u001b[38;5;15m┌──────────────────────────────────────────────────────────────────────────┐\u001b[0m\n",
       "\u001b[38;5;15m2.00┤\u001b[0m \u001b[0m\u001b[38;5;15m•• vacant \u001b[0m                          \u001b[0m\u001b[38;2;100;55;255m•\u001b[0m                                   \u001b[0m\u001b[38;2;100;55;255m•\u001b[0m\u001b[38;5;15m│\u001b[0m\n",
       "    \u001b[0m\u001b[38;5;15m│\u001b[0m                                                                          \u001b[0m\u001b[38;5;15m│\u001b[0m\n",
       "    \u001b[0m\u001b[38;5;15m│\u001b[0m                                                                          \u001b[0m\u001b[38;5;15m│\u001b[0m\n",
       "\u001b[38;5;15m1.67┤\u001b[0m                                                                          \u001b[0m\u001b[38;5;15m│\u001b[0m\n",
       "    \u001b[0m\u001b[38;5;15m│\u001b[0m                                                                          \u001b[0m\u001b[38;5;15m│\u001b[0m\n",
       "    \u001b[0m\u001b[38;5;15m│\u001b[0m                                                                          \u001b[0m\u001b[38;5;15m│\u001b[0m\n",
       "\u001b[38;5;15m1.33┤\u001b[0m                                                                          \u001b[0m\u001b[38;5;15m│\u001b[0m\n",
       "    \u001b[0m\u001b[38;5;15m│\u001b[0m                                                                          \u001b[0m\u001b[38;5;15m│\u001b[0m\n",
       "    \u001b[0m\u001b[38;5;15m│\u001b[0m                                                                          \u001b[0m\u001b[38;5;15m│\u001b[0m\n",
       "\u001b[38;5;15m1.00┤\u001b[0m\u001b[38;2;100;55;255m•\u001b[0m                                    \u001b[0m\u001b[38;2;100;55;255m•\u001b[0m                                   \u001b[0m\u001b[38;2;100;55;255m•\u001b[0m\u001b[38;5;15m│\u001b[0m\n",
       "    \u001b[0m\u001b[38;5;15m│\u001b[0m                                                                          \u001b[0m\u001b[38;5;15m│\u001b[0m\n",
       "    \u001b[0m\u001b[38;5;15m│\u001b[0m                                                                          \u001b[0m\u001b[38;5;15m│\u001b[0m\n",
       "\u001b[38;5;15m0.67┤\u001b[0m                                                                          \u001b[0m\u001b[38;5;15m│\u001b[0m\n",
       "    \u001b[0m\u001b[38;5;15m│\u001b[0m                                                                          \u001b[0m\u001b[38;5;15m│\u001b[0m\n",
       "    \u001b[0m\u001b[38;5;15m│\u001b[0m                                                                          \u001b[0m\u001b[38;5;15m│\u001b[0m\n",
       "\u001b[38;5;15m0.33┤\u001b[0m                                                                          \u001b[0m\u001b[38;5;15m│\u001b[0m\n",
       "    \u001b[0m\u001b[38;5;15m│\u001b[0m                                                                          \u001b[0m\u001b[38;5;15m│\u001b[0m\n",
       "    \u001b[0m\u001b[38;5;15m│\u001b[0m                                                                          \u001b[0m\u001b[38;5;15m│\u001b[0m\n",
       "\u001b[38;5;15m0.00┤\u001b[0m\u001b[38;2;100;55;255m•\u001b[0m                                    \u001b[0m\u001b[38;2;100;55;255m•\u001b[0m                                   \u001b[0m\u001b[38;2;100;55;255m•\u001b[0m\u001b[38;5;15m│\u001b[0m\n",
       "    \u001b[0m\u001b[38;5;15m└┬─────────────────┬──────────────────┬─────────────────┬─────────────────┬┘\u001b[0m\n",
       "   \u001b[0m\u001b[38;5;15m0.00\u001b[0m              \u001b[0m\u001b[38;5;15m0.50\u001b[0m               \u001b[0m\u001b[38;5;15m1.00\u001b[0m              \u001b[0m\u001b[38;5;15m1.50\u001b[0m             \u001b[0m\u001b[38;5;15m2.00\u001b[0m \u001b[0m\n",
       "\u001b[38;5;15my (um)\u001b[0m                                 \u001b[0m\u001b[38;5;15mx (um)\u001b[0m                                   \u001b[0m\n"
      ]
     },
     "execution_count": 5,
     "metadata": {},
     "output_type": "execute_result"
    }
   ],
   "source": [
    "atoms.apply_defect_density(0.2)"
   ]
  },
  {
   "cell_type": "code",
   "execution_count": 34,
   "id": "25bba598",
   "metadata": {},
   "outputs": [],
   "source": [
    "atoms.apply_defect_density(0.2).show()"
   ]
  },
  {
   "cell_type": "markdown",
   "id": "1d176657",
   "metadata": {},
   "source": [
    "### To check informations about the atoms"
   ]
  },
  {
   "cell_type": "code",
   "execution_count": 6,
   "id": "d83660d1",
   "metadata": {},
   "outputs": [
    {
     "name": "stdout",
     "output_type": "stream",
     "text": [
      "# atoms  \t 9\n",
      "# dims   \t 2\n",
      "# sites \t 9\n",
      "# vacant sites \t 0\n"
     ]
    }
   ],
   "source": [
    "print(\"# atoms  \\t\", atoms.n_atoms)\n",
    "print(\"# dims   \\t\", atoms.n_dims)\n",
    "print(\"# sites \\t\", atoms.n_sites)\n",
    "print(\"# vacant sites \\t\", atoms.n_vacant)\n",
    "# n_atoms + n_vacant = n_sites"
   ]
  },
  {
   "cell_type": "markdown",
   "id": "57d290b8",
   "metadata": {},
   "source": [
    "## Manipulate atoms–Write a program!"
   ]
  },
  {
   "cell_type": "markdown",
   "id": "fe23cf9b",
   "metadata": {},
   "source": [
    "### Syntax\n",
    "\n",
    "#### Overall structure\n",
    "`Circuit.Drive.Field1(.Field2).Qubits.WaveformFunctions`\n",
    "\n",
    "#### Breakdown\n",
    "- Drive\n",
    "  - `hyperfine`: a qubit in a hyperfine state has a longer term stability, commonly used in ion-trap QCs.\n",
    "  - `rydberg`: (oversimplified) an atom excited to a high-energy state such that prevents other nearby atoms from being excited (i.e., blockade effect), enabling the entanglement between two Rydberg qubits in a short distance (i.e., energy penalty; two atoms further than 8 𝜇m has low interaction; but ideally like 3-4). \n",
    "- Field: \"A \"field\" is a summation of one or more \"drives\", with a drive being the sum of a waveform and spatial modulation.\"\n",
    "  - Rabi field: a qubit oscillates between |0> (ground) and |1> (rydberg/hyperfine)\n",
    "    - `rabi.amplitude` (real-valued): affecting Rabi frequency at which a qubit oscillates between the two states.\n",
    "    - `Rabi.phase` (real-valued): \"the time offset of the laser drive ... This sets the direction on the Bloch sphere around which the qubit is driven.\"\n",
    "  - `detuning` field: \"how off-resonant the laser is from the atomic energy transitions\" > then it sets the range of the oscillation of the qubit (resonance: the drive's frequency == atom's natural frequency). When detuning is large-negative, the atom prefers the ground state; and when it is large-positive, the atom prefers the Rydberg state.\n",
    "- Qubit selection\n",
    "  - `uniform`: affecting all atoms\n",
    "  - `location(locations, scales)`: affecting atoms in the specified `locations` (in index) with individual `scales`.\n",
    "  - `scale(coeffs)`: all atoms with individual scale factors (note: order-sensitive)\n",
    "- Waveform functions\n",
    "  - `linear(start, stop, duration)` : to apply a linear waveform\n",
    "  - `constant(value, duration)` : to apply a constant waveform\n",
    "  - `poly([coefficients], duration)` : to apply a polynomial waveform\n",
    "  - `apply(wf:bloqade.ir.Waveform)`: to apply a pre-defined waveform\n",
    "  - `piecewise_linear([durations], [values])`: to apply a piecewise linear waveform\n",
    "  - `piecewise_constant([durations], [values])`: to apply a piecewise constant waveform\n",
    "  - `fn(f(t,..))`: to apply a function as a waveform\n",
    "  - To help understanding:\n",
    "    * Linear: a linear transformation\n",
    "    * Constant: a scalar multiplied\n",
    "    * Piece-wise linear: the value `duration[i]` is of the linear segment between `values[i]` and `values[i+1]`.\n",
    "\n",
    "Note: actual value ranges for fields (amplitude, phase, and detuning) are contingent on the device in use.\n",
    "\n",
    "Take a look: https://arxiv.org/pdf/2306.11727\n",
    "Also: https://www.quera.com/events/hamiltonian-simulation-on-queras-256-qubit-aquila-machine "
   ]
  },
  {
   "cell_type": "code",
   "execution_count": 7,
   "id": "3e1ad7ec",
   "metadata": {},
   "outputs": [],
   "source": [
    "import altair as alt\n",
    "import pandas as pd"
   ]
  },
  {
   "cell_type": "code",
   "execution_count": 8,
   "id": "6fd34b17",
   "metadata": {},
   "outputs": [],
   "source": [
    "def durToPoints(dur):\n",
    "    return [0] + np.cumsum(np.array(dur)).tolist()"
   ]
  },
  {
   "cell_type": "code",
   "execution_count": 14,
   "id": "4958daef",
   "metadata": {},
   "outputs": [
    {
     "data": {
      "text/html": [
       "\n",
       "<style>\n",
       "  #altair-viz-7ad7df958ea1413ab169c9d6229c2759.vega-embed {\n",
       "    width: 100%;\n",
       "    display: flex;\n",
       "  }\n",
       "\n",
       "  #altair-viz-7ad7df958ea1413ab169c9d6229c2759.vega-embed details,\n",
       "  #altair-viz-7ad7df958ea1413ab169c9d6229c2759.vega-embed details summary {\n",
       "    position: relative;\n",
       "  }\n",
       "</style>\n",
       "<div id=\"altair-viz-7ad7df958ea1413ab169c9d6229c2759\"></div>\n",
       "<script type=\"text/javascript\">\n",
       "  var VEGA_DEBUG = (typeof VEGA_DEBUG == \"undefined\") ? {} : VEGA_DEBUG;\n",
       "  (function(spec, embedOpt){\n",
       "    let outputDiv = document.currentScript.previousElementSibling;\n",
       "    if (outputDiv.id !== \"altair-viz-7ad7df958ea1413ab169c9d6229c2759\") {\n",
       "      outputDiv = document.getElementById(\"altair-viz-7ad7df958ea1413ab169c9d6229c2759\");\n",
       "    }\n",
       "    const paths = {\n",
       "      \"vega\": \"https://cdn.jsdelivr.net/npm/vega@5?noext\",\n",
       "      \"vega-lib\": \"https://cdn.jsdelivr.net/npm/vega-lib?noext\",\n",
       "      \"vega-lite\": \"https://cdn.jsdelivr.net/npm/vega-lite@5.17.0?noext\",\n",
       "      \"vega-embed\": \"https://cdn.jsdelivr.net/npm/vega-embed@6?noext\",\n",
       "    };\n",
       "\n",
       "    function maybeLoadScript(lib, version) {\n",
       "      var key = `${lib.replace(\"-\", \"\")}_version`;\n",
       "      return (VEGA_DEBUG[key] == version) ?\n",
       "        Promise.resolve(paths[lib]) :\n",
       "        new Promise(function(resolve, reject) {\n",
       "          var s = document.createElement('script');\n",
       "          document.getElementsByTagName(\"head\")[0].appendChild(s);\n",
       "          s.async = true;\n",
       "          s.onload = () => {\n",
       "            VEGA_DEBUG[key] = version;\n",
       "            return resolve(paths[lib]);\n",
       "          };\n",
       "          s.onerror = () => reject(`Error loading script: ${paths[lib]}`);\n",
       "          s.src = paths[lib];\n",
       "        });\n",
       "    }\n",
       "\n",
       "    function showError(err) {\n",
       "      outputDiv.innerHTML = `<div class=\"error\" style=\"color:red;\">${err}</div>`;\n",
       "      throw err;\n",
       "    }\n",
       "\n",
       "    function displayChart(vegaEmbed) {\n",
       "      vegaEmbed(outputDiv, spec, embedOpt)\n",
       "        .catch(err => showError(`Javascript Error: ${err.message}<br>This usually means there's a typo in your chart specification. See the javascript console for the full traceback.`));\n",
       "    }\n",
       "\n",
       "    if(typeof define === \"function\" && define.amd) {\n",
       "      requirejs.config({paths});\n",
       "      require([\"vega-embed\"], displayChart, err => showError(`Error loading script: ${err.message}`));\n",
       "    } else {\n",
       "      maybeLoadScript(\"vega\", \"5\")\n",
       "        .then(() => maybeLoadScript(\"vega-lite\", \"5.17.0\"))\n",
       "        .then(() => maybeLoadScript(\"vega-embed\", \"6\"))\n",
       "        .catch(showError)\n",
       "        .then(() => displayChart(vegaEmbed));\n",
       "    }\n",
       "  })({\"config\": {\"view\": {\"continuousWidth\": 300, \"continuousHeight\": 300}}, \"data\": {\"name\": \"data-4c5721090347f2f1892c82336312606e\"}, \"mark\": {\"type\": \"line\"}, \"encoding\": {\"x\": {\"field\": \"adiabatic_durations\", \"type\": \"quantitative\"}, \"y\": {\"field\": \"amplitude_values\", \"type\": \"quantitative\"}}, \"title\": \"How piecewise linear function works with durations\", \"$schema\": \"https://vega.github.io/schema/vega-lite/v5.17.0.json\", \"datasets\": {\"data-4c5721090347f2f1892c82336312606e\": [{\"adiabatic_durations\": 0.0, \"amplitude_values\": 0.0}, {\"adiabatic_durations\": 0.4, \"amplitude_values\": 15.8}, {\"adiabatic_durations\": 3.6, \"amplitude_values\": 15.8}, {\"adiabatic_durations\": 4.0, \"amplitude_values\": 0.0}]}}, {\"mode\": \"vega-lite\"});\n",
       "</script>"
      ],
      "text/plain": [
       "alt.Chart(...)"
      ]
     },
     "execution_count": 14,
     "metadata": {},
     "output_type": "execute_result"
    }
   ],
   "source": [
    "dur_val_data = pd.DataFrame({\n",
    "  'adiabatic_durations': durToPoints([0.4, 3.2, 0.4]),\n",
    "  'amplitude_values': [0, 15.8, 15.8, 0]\n",
    "})\n",
    "\n",
    "alt.Chart(title=\"How piecewise linear function works with durations\", data=dur_val_data).mark_line().encode(\n",
    "    x='adiabatic_durations',\n",
    "    y='amplitude_values'\n",
    ")"
   ]
  },
  {
   "cell_type": "code",
   "execution_count": 45,
   "id": "bb000199",
   "metadata": {},
   "outputs": [],
   "source": [
    "# the example is from the official doc\n",
    "adiabatic_durations = [0.4, 3.2, 0.4]\n",
    "\n",
    "max_detuning = var(\"max_detuning\")\n",
    "max_rabi = var(\"max_rabi\")\n",
    "\n",
    "adiabatic_program = (\n",
    "    # `lattice_spacing` is for the distance between atom centers. \n",
    "    # \"lattice_spacing\" is a variable, it has no value yet, but is assigned later\n",
    "    Square(3, lattice_spacing=\"lattice_spacing\") \n",
    "    .rydberg.rabi.amplitude.uniform.piecewise_linear(\n",
    "        durations=adiabatic_durations, values=[0.0, max_rabi, max_rabi, 0.0]\n",
    "    )\n",
    "    .detuning.uniform.piecewise_linear(\n",
    "        durations=adiabatic_durations,\n",
    "        values=[\n",
    "            -max_detuning, # scalar variables support direct arithmetic operations\n",
    "            -max_detuning,\n",
    "            max_detuning,\n",
    "            max_detuning,\n",
    "        ],\n",
    "    )\n",
    "    # value assignment: a single value -> a single variable \n",
    "    .assign(max_rabi=15.8, max_detuning=16.33) \n",
    "    # value assignment: multiple values -> a single variable (so that the parameter changes over time i.e., parameter sweep)\n",
    "    .batch_assign(lattice_spacing=np.arange(4.0, 7.0, 0.5))\n",
    ")"
   ]
  },
  {
   "cell_type": "code",
   "execution_count": 22,
   "id": "92fa69d9",
   "metadata": {},
   "outputs": [
    {
     "data": {
      "text/plain": [
       "AnalogCircuit\n",
       "├─ register\n",
       "│  ⇒ AtomArrangement\n",
       "│    ├─ Location: filled\n",
       "│    │  ├─ x\n",
       "│    │  │  ⇒ \u001b[93mLiteral: 0\u001b[0m\n",
       "│    │  └─ y\n",
       "│    │     ⇒ \u001b[93mLiteral: 0\u001b[0m\n",
       "│    ├─ Location: filled\n",
       "│    │  ├─ x\n",
       "│    │  │  ⇒ \u001b[93mLiteral: 0\u001b[0m\n",
       "│    │  └─ y\n",
       "│    │     ⇒ \u001b[94mVariable: lattice_spacing\u001b[0m\n",
       "│    ├─ Location: filled\n",
       "│    │  ├─ x\n",
       "│    │  │  ⇒ \u001b[93mLiteral: 0\u001b[0m\n",
       "│    │  └─ y\n",
       "│    │     ⇒ *\n",
       "│    │       ├─ \u001b[94mVariable: lattice_spacing\u001b[0m\n",
       "│    │       └─ \u001b[93mLiteral: 2\u001b[0m\n",
       "│    ├─ Location: filled\n",
       "│    │  ├─ x\n",
       "│    │  │  ⇒ \u001b[94mVariable: lattice_spacing\u001b[0m\n",
       "│    │  └─ y\n",
       "│    │     ⇒ \u001b[93mLiteral: 0\u001b[0m\n",
       "│    ├─ Location: filled\n",
       "│    │  ├─ x\n",
       "│    │  │  ⇒ \u001b[94mVariable: lattice_spacing\u001b[0m\n",
       "│    │  └─ y\n",
       "│    │     ⇒ \u001b[94mVariable: lattice_spacing\u001b[0m\n",
       "│    ├─ Location: filled\n",
       "│    │  ├─ x\n",
       "│    │  │  ⇒ \u001b[94mVariable: lattice_spacing\u001b[0m\n",
       "│    │  └─ y\n",
       "│    │     ⇒ *\n",
       "│    │       ├─ \u001b[94mVariable: lattice_spacing\u001b[0m\n",
       "│    │       └─ \u001b[93mLiteral: 2\u001b[0m\n",
       "│    ├─ Location: filled\n",
       "│    │  ├─ x\n",
       "│    │  │  ⇒ *\n",
       "│    │  │    ├─ \u001b[94mVariable: lattice_spacing\u001b[0m\n",
       "│    │  │    └─ \u001b[93mLiteral: 2\u001b[0m\n",
       "│    │  └─ y\n",
       "│    │     ⇒ \u001b[93mLiteral: 0\u001b[0m\n",
       "│    ├─ Location: filled\n",
       "│    │  ├─ x\n",
       "│    │  │  ⇒ *\n",
       "│    │  │    ├─ \u001b[94mVariable: lattice_spacing\u001b[0m\n",
       "│    │  │    └─ \u001b[93mLiteral: 2\u001b[0m\n",
       "│    │  └─ y\n",
       "│    │     ⇒ \u001b[94mVariable: lattice_spacing\u001b[0m\n",
       "│    └─ Location: filled\n",
       "│       ├─ x\n",
       "│       │  ⇒ *\n",
       "│       │    ├─ \u001b[94mVariable: lattice_spacing\u001b[0m\n",
       "│       │    └─ \u001b[93mLiteral: 2\u001b[0m\n",
       "│       └─ y\n",
       "│          ⇒ *\n",
       "│            ├─ \u001b[94mVariable: lattice_spacing\u001b[0m\n",
       "│            └─ \u001b[93mLiteral: 2\u001b[0m\n",
       "└─ sequence\n",
       "   ⇒ Sequence\n",
       "     └─ RydbergLevelCoupling\n",
       "        ⇒ Pulse\n",
       "          ├─ RabiFrequencyAmplitude\n",
       "          │  ⇒ Field\n",
       "          │    └─ Drive\n",
       "          │       ├─ modulation\n",
       "          │       │  ⇒ UniformModulation\n",
       "          │       └─ waveform\n",
       "          │          ⇒ Append\n",
       "          │            ├─ Linear\n",
       "          │            │  ├─ start\n",
       "          │            │  │  ⇒ \u001b[93mLiteral: 0.0\u001b[0m\n",
       "          │            │  ├─ stop\n",
       "          │            │  │  ⇒ \u001b[94mVariable: max_rabi\u001b[0m\n",
       "          │            │  └─ duration\n",
       "          │            │     ⇒ \u001b[93mLiteral: 0.4\u001b[0m\n",
       "          │            ├─ Linear\n",
       "          │            │  ├─ start\n",
       "          │            │  │  ⇒ \u001b[94mVariable: max_rabi\u001b[0m\n",
       "          │            │  ├─ stop\n",
       "          │            │  │  ⇒ \u001b[94mVariable: max_rabi\u001b[0m\n",
       "          │            │  └─ duration\n",
       "          │            │     ⇒ \u001b[93mLiteral: 3.2\u001b[0m\n",
       "          │            └─ Linear\n",
       "          │               ├─ start\n",
       "          │               │  ⇒ \u001b[94mVariable: max_rabi\u001b[0m\n",
       "          │               ├─ stop\n",
       "          │               │  ⇒ \u001b[93mLiteral: 0.0\u001b[0m\n",
       "          │               └─ duration\n",
       "          │                  ⇒ \u001b[93mLiteral: 0.4\u001b[0m\n",
       "          └─ Detuning\n",
       "             ⇒ Field\n",
       "               └─ Drive\n",
       "                  ├─ modulation\n",
       "                  │  ⇒ UniformModulation\n",
       "                  └─ waveform\n",
       "                     ⇒ Append\n",
       "                       ├─ Linear\n",
       "                       │  ├─ start\n",
       "                       │  │  ⇒ Negative\n",
       "                       │  │    └─ \u001b[94mVariable: max_detuning\u001b[0m\n",
       "                       │  ├─ stop\n",
       "                       │  │  ⇒ Negative\n",
       "                       │  │    └─ \u001b[94mVariable: max_detuning\u001b[0m\n",
       "                       │  └─ duration\n",
       "                       │     ⇒ \u001b[93mLiteral: 0.4\u001b[0m\n",
       "                       ├─ Linear\n",
       "                       │  ├─ start\n",
       "                       │  │  ⇒ Negative\n",
       "                       │  │    └─ \u001b[94mVariable: max_detuning\u001b[0m\n",
       "                       │  ├─ stop\n",
       "                       │  │  ⇒ \u001b[94mVariable: max_detuning\u001b[0m\n",
       "                       │  └─ duration\n",
       "                       │     ⇒ \u001b[93mLiteral: 3.2\u001b[0m\n",
       "                       └─ Linear\n",
       "                          ├─ start\n",
       "                          │  ⇒ \u001b[94mVariable: max_detuning\u001b[0m\n",
       "                          ├─ stop\n",
       "                          │  ⇒ \u001b[94mVariable: max_detuning\u001b[0m\n",
       "                          └─ duration\n",
       "                             ⇒ \u001b[93mLiteral: 0.4\u001b[0m"
      ]
     },
     "execution_count": 22,
     "metadata": {},
     "output_type": "execute_result"
    }
   ],
   "source": [
    "adiabatic_program.parse_circuit()"
   ]
  },
  {
   "cell_type": "code",
   "execution_count": 55,
   "id": "6cba679b",
   "metadata": {},
   "outputs": [],
   "source": [
    "# Bug: when try to show a program, the \"assign\" method doesn't work!\n",
    "(Square(3, lattice_spacing=\"lattice_spacing\") \n",
    ".rydberg.rabi.amplitude.uniform.piecewise_linear(\n",
    "    durations=adiabatic_durations, values=[0.0, 15.8, 15.8, 0.0]\n",
    ")\n",
    ".detuning.uniform.piecewise_linear(\n",
    "    durations=adiabatic_durations,\n",
    "    values=[\n",
    "        -16.33, # scalar variables support direct arithmetic operations\n",
    "        -16.33,\n",
    "        16.33,\n",
    "        16.33,\n",
    "    ],\n",
    ")\n",
    ".batch_assign(lattice_spacing=np.arange(4.0, 7.0, 0.5))).show()"
   ]
  },
  {
   "cell_type": "code",
   "execution_count": null,
   "id": "2f6ce801",
   "metadata": {},
   "outputs": [],
   "source": []
  },
  {
   "cell_type": "markdown",
   "id": "58f3c716",
   "metadata": {},
   "source": [
    "#### Assignment (not that kind of)\n",
    "\n",
    "- `assign`: \"Assign values to variables declared previously in the program.\"\n",
    "- `batch_assign`: \"Assign multiple values to a single variable to create a parameter sweep.\""
   ]
  },
  {
   "cell_type": "markdown",
   "id": "ad8f5c52",
   "metadata": {},
   "source": [
    "## Run a program!"
   ]
  },
  {
   "cell_type": "code",
   "execution_count": 65,
   "id": "49cab60e",
   "metadata": {},
   "outputs": [
    {
     "name": "stdout",
     "output_type": "stream",
     "text": [
      "--- 197.69990229606628 seconds ---\n"
     ]
    }
   ],
   "source": [
    "# local emulator\n",
    "start_time = time.time()\n",
    "emu_results = adiabatic_program.braket.local_emulator().run(100)\n",
    "print(\"--- %s seconds ---\" % (time.time() - start_time))"
   ]
  },
  {
   "cell_type": "markdown",
   "id": "f4a99c4f",
   "metadata": {},
   "source": [
    "### CPU usage\n",
    "<img src=\"./cpu-use-bloqade-emulator.png\" style=\"border: 1px solid black; border-radius: 5px;\">"
   ]
  },
  {
   "cell_type": "markdown",
   "id": "9d133c79",
   "metadata": {},
   "source": [
    "### Emulation results"
   ]
  },
  {
   "cell_type": "code",
   "execution_count": 56,
   "id": "cfd4de4e",
   "metadata": {},
   "outputs": [],
   "source": [
    "emu_report = emu_results.report()\n",
    "bv.display_report(emu_report)"
   ]
  },
  {
   "cell_type": "markdown",
   "id": "52ef2bd0",
   "metadata": {},
   "source": [
    "## Other methods"
   ]
  },
  {
   "cell_type": "code",
   "execution_count": 61,
   "id": "c7849301",
   "metadata": {},
   "outputs": [],
   "source": [
    "# Another local emulator --> needs multiprocessor (my computer doesn't support it...)\n",
    "faster_emu_results = adiabatic_program.bloqade.python().run(10000)"
   ]
  },
  {
   "cell_type": "code",
   "execution_count": 63,
   "id": "53fbddfd",
   "metadata": {},
   "outputs": [],
   "source": [
    "# using Aquila machine by QuEra\n",
    "hw_results = adiabatic_program.parallelize(24).braket.aquila().run_async(100)"
   ]
  }
 ],
 "metadata": {
  "kernelspec": {
   "display_name": "Python 3 (ipykernel)",
   "language": "python",
   "name": "python3"
  },
  "language_info": {
   "codemirror_mode": {
    "name": "ipython",
    "version": 3
   },
   "file_extension": ".py",
   "mimetype": "text/x-python",
   "name": "python",
   "nbconvert_exporter": "python",
   "pygments_lexer": "ipython3",
   "version": "3.10.5"
  }
 },
 "nbformat": 4,
 "nbformat_minor": 5
}
