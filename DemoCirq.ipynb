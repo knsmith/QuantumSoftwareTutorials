{
 "cells": [
  {
   "cell_type": "markdown",
   "metadata": {
    "id": "Me7G0WVTHwHg"
   },
   "source": [
    "# Cirq basic\n"
   ]
  },
  {
   "cell_type": "code",
   "execution_count": null,
   "metadata": {
    "id": "-C3oi_RRSGiy"
   },
   "outputs": [],
   "source": []
  },
  {
   "cell_type": "markdown",
   "metadata": {
    "id": "67gUU740MSXd"
   },
   "source": [
    "we will look at the basics of how to use Cirq. I will talk about how to use qubits, different devices, gates, operations, unitary matrices, adding noise and run a couple of circuits\n"
   ]
  },
  {
   "cell_type": "markdown",
   "metadata": {
    "id": "1dOjJlgrNUuz"
   },
   "source": [
    "installing Cirq"
   ]
  },
  {
   "cell_type": "code",
   "execution_count": 1,
   "metadata": {
    "colab": {
     "base_uri": "https://localhost:8080/"
    },
    "id": "bd9529db1c0b",
    "outputId": "91349823-0b5a-4cb1-896d-970a9b90d04b"
   },
   "outputs": [
    {
     "name": "stderr",
     "output_type": "stream",
     "text": [
      "  ERROR: Command errored out with exit status 1:\n",
      "   command: 'D:\\Program Files (x86)\\Anaconda\\python.exe' -u -c 'import sys, setuptools, tokenize; sys.argv[0] = '\"'\"'C:\\\\Users\\\\SOHAMS~1\\\\AppData\\\\Local\\\\Temp\\\\pip-install-wyh8i6vo\\\\python-rapidjson\\\\setup.py'\"'\"'; __file__='\"'\"'C:\\\\Users\\\\SOHAMS~1\\\\AppData\\\\Local\\\\Temp\\\\pip-install-wyh8i6vo\\\\python-rapidjson\\\\setup.py'\"'\"';f=getattr(tokenize, '\"'\"'open'\"'\"', open)(__file__);code=f.read().replace('\"'\"'\\r\\n'\"'\"', '\"'\"'\\n'\"'\"');f.close();exec(compile(code, __file__, '\"'\"'exec'\"'\"'))' bdist_wheel -d 'C:\\Users\\SOHAMS~1\\AppData\\Local\\Temp\\pip-wheel-9i7qo09s'\n",
      "       cwd: C:\\Users\\SOHAMS~1\\AppData\\Local\\Temp\\pip-install-wyh8i6vo\\python-rapidjson\\\n",
      "  Complete output (5 lines):\n",
      "  running bdist_wheel\n",
      "  running build\n",
      "  running build_ext\n",
      "  building 'rapidjson' extension\n",
      "  error: Microsoft Visual C++ 14.0 is required. Get it with \"Build Tools for Visual Studio\": https://visualstudio.microsoft.com/downloads/\n",
      "  ----------------------------------------\n",
      "  ERROR: Failed building wheel for python-rapidjson\n",
      "ERROR: pyquil 3.5.4 has requirement networkx>=2.5, but you'll have networkx 2.4 which is incompatible.\n",
      "ERROR: pyquil 3.5.4 has requirement scipy<2.0.0,>=1.6.1, but you'll have scipy 1.4.1 which is incompatible.\n",
      "    ERROR: Command errored out with exit status 1:\n",
      "     command: 'D:\\Program Files (x86)\\Anaconda\\python.exe' -u -c 'import sys, setuptools, tokenize; sys.argv[0] = '\"'\"'C:\\\\Users\\\\SOHAMS~1\\\\AppData\\\\Local\\\\Temp\\\\pip-install-wyh8i6vo\\\\python-rapidjson\\\\setup.py'\"'\"'; __file__='\"'\"'C:\\\\Users\\\\SOHAMS~1\\\\AppData\\\\Local\\\\Temp\\\\pip-install-wyh8i6vo\\\\python-rapidjson\\\\setup.py'\"'\"';f=getattr(tokenize, '\"'\"'open'\"'\"', open)(__file__);code=f.read().replace('\"'\"'\\r\\n'\"'\"', '\"'\"'\\n'\"'\"');f.close();exec(compile(code, __file__, '\"'\"'exec'\"'\"'))' install --record 'C:\\Users\\SOHAMS~1\\AppData\\Local\\Temp\\pip-record-vwbk6piv\\install-record.txt' --single-version-externally-managed --compile --install-headers 'D:\\Program Files (x86)\\Anaconda\\Include\\python-rapidjson'\n",
      "         cwd: C:\\Users\\SOHAMS~1\\AppData\\Local\\Temp\\pip-install-wyh8i6vo\\python-rapidjson\\\n",
      "    Complete output (5 lines):\n",
      "    running install\n",
      "    running build\n",
      "    running build_ext\n",
      "    building 'rapidjson' extension\n",
      "    error: Microsoft Visual C++ 14.0 is required. Get it with \"Build Tools for Visual Studio\": https://visualstudio.microsoft.com/downloads/\n",
      "    ----------------------------------------\n",
      "ERROR: Command errored out with exit status 1: 'D:\\Program Files (x86)\\Anaconda\\python.exe' -u -c 'import sys, setuptools, tokenize; sys.argv[0] = '\"'\"'C:\\\\Users\\\\SOHAMS~1\\\\AppData\\\\Local\\\\Temp\\\\pip-install-wyh8i6vo\\\\python-rapidjson\\\\setup.py'\"'\"'; __file__='\"'\"'C:\\\\Users\\\\SOHAMS~1\\\\AppData\\\\Local\\\\Temp\\\\pip-install-wyh8i6vo\\\\python-rapidjson\\\\setup.py'\"'\"';f=getattr(tokenize, '\"'\"'open'\"'\"', open)(__file__);code=f.read().replace('\"'\"'\\r\\n'\"'\"', '\"'\"'\\n'\"'\"');f.close();exec(compile(code, __file__, '\"'\"'exec'\"'\"'))' install --record 'C:\\Users\\SOHAMS~1\\AppData\\Local\\Temp\\pip-record-vwbk6piv\\install-record.txt' --single-version-externally-managed --compile --install-headers 'D:\\Program Files (x86)\\Anaconda\\Include\\python-rapidjson' Check the logs for full command output.\n"
     ]
    },
    {
     "name": "stdout",
     "output_type": "stream",
     "text": [
      "Requirement already satisfied: cirq-google in d:\\program files (x86)\\anaconda\\lib\\site-packages (1.1.0)\n",
      "Requirement already satisfied: proto-plus>=1.20.0 in d:\\program files (x86)\\anaconda\\lib\\site-packages (from cirq-google) (1.23.0)\n",
      "Requirement already satisfied: google-api-core[grpc]<2.0.0dev,>=1.14.0 in d:\\program files (x86)\\anaconda\\lib\\site-packages (from cirq-google) (1.34.1)\n",
      "Requirement already satisfied: cirq-core==1.1.0 in d:\\program files (x86)\\anaconda\\lib\\site-packages (from cirq-google) (1.1.0)\n",
      "Requirement already satisfied: protobuf<4,>=3.15.0 in d:\\program files (x86)\\anaconda\\lib\\site-packages (from cirq-google) (3.19.6)\n",
      "Requirement already satisfied: requests<3.0.0dev,>=2.18.0 in d:\\program files (x86)\\anaconda\\lib\\site-packages (from google-api-core[grpc]<2.0.0dev,>=1.14.0->cirq-google) (2.22.0)\n",
      "Requirement already satisfied: google-auth<3.0dev,>=1.25.0 in d:\\program files (x86)\\anaconda\\lib\\site-packages (from google-api-core[grpc]<2.0.0dev,>=1.14.0->cirq-google) (2.16.0)\n",
      "Requirement already satisfied: googleapis-common-protos<2.0dev,>=1.56.2 in d:\\program files (x86)\\anaconda\\lib\\site-packages (from google-api-core[grpc]<2.0.0dev,>=1.14.0->cirq-google) (1.63.0)\n",
      "Requirement already satisfied: grpcio<2.0dev,>=1.33.2; extra == \"grpc\" in d:\\program files (x86)\\anaconda\\lib\\site-packages (from google-api-core[grpc]<2.0.0dev,>=1.14.0->cirq-google) (1.62.2)\n",
      "Requirement already satisfied: grpcio-status<2.0dev,>=1.33.2; extra == \"grpc\" in d:\\program files (x86)\\anaconda\\lib\\site-packages (from google-api-core[grpc]<2.0.0dev,>=1.14.0->cirq-google) (1.62.2)\n",
      "Requirement already satisfied: tqdm in d:\\program files (x86)\\anaconda\\lib\\site-packages (from cirq-core==1.1.0->cirq-google) (4.42.1)\n",
      "Requirement already satisfied: pandas in d:\\program files (x86)\\anaconda\\lib\\site-packages (from cirq-core==1.1.0->cirq-google) (1.0.1)\n",
      "Requirement already satisfied: numpy<1.24,>=1.16 in d:\\program files (x86)\\anaconda\\lib\\site-packages (from cirq-core==1.1.0->cirq-google) (1.21.6)\n",
      "Requirement already satisfied: typing-extensions in d:\\program files (x86)\\anaconda\\lib\\site-packages (from cirq-core==1.1.0->cirq-google) (3.10.0.2)\n",
      "Requirement already satisfied: sortedcontainers~=2.0 in d:\\program files (x86)\\anaconda\\lib\\site-packages (from cirq-core==1.1.0->cirq-google) (2.1.0)\n",
      "Requirement already satisfied: sympy in d:\\program files (x86)\\anaconda\\lib\\site-packages (from cirq-core==1.1.0->cirq-google) (1.5.1)\n",
      "Requirement already satisfied: matplotlib~=3.0 in d:\\program files (x86)\\anaconda\\lib\\site-packages (from cirq-core==1.1.0->cirq-google) (3.1.3)\n",
      "Requirement already satisfied: backports.cached-property~=1.0.1; python_version < \"3.8\" in d:\\program files (x86)\\anaconda\\lib\\site-packages (from cirq-core==1.1.0->cirq-google) (1.0.2)\n",
      "Requirement already satisfied: scipy in d:\\program files (x86)\\anaconda\\lib\\site-packages (from cirq-core==1.1.0->cirq-google) (1.4.1)\n",
      "Requirement already satisfied: networkx~=2.4 in d:\\program files (x86)\\anaconda\\lib\\site-packages (from cirq-core==1.1.0->cirq-google) (2.4)\n",
      "Requirement already satisfied: duet~=0.2.7 in d:\\program files (x86)\\anaconda\\lib\\site-packages (from cirq-core==1.1.0->cirq-google) (0.2.8)\n",
      "Requirement already satisfied: certifi>=2017.4.17 in d:\\program files (x86)\\anaconda\\lib\\site-packages (from requests<3.0.0dev,>=2.18.0->google-api-core[grpc]<2.0.0dev,>=1.14.0->cirq-google) (2019.11.28)\n",
      "Requirement already satisfied: idna<2.9,>=2.5 in d:\\program files (x86)\\anaconda\\lib\\site-packages (from requests<3.0.0dev,>=2.18.0->google-api-core[grpc]<2.0.0dev,>=1.14.0->cirq-google) (2.8)\n",
      "Requirement already satisfied: urllib3!=1.25.0,!=1.25.1,<1.26,>=1.21.1 in d:\\program files (x86)\\anaconda\\lib\\site-packages (from requests<3.0.0dev,>=2.18.0->google-api-core[grpc]<2.0.0dev,>=1.14.0->cirq-google) (1.25.8)\n",
      "Requirement already satisfied: chardet<3.1.0,>=3.0.2 in d:\\program files (x86)\\anaconda\\lib\\site-packages (from requests<3.0.0dev,>=2.18.0->google-api-core[grpc]<2.0.0dev,>=1.14.0->cirq-google) (3.0.4)\n",
      "Requirement already satisfied: six>=1.9.0 in d:\\program files (x86)\\anaconda\\lib\\site-packages (from google-auth<3.0dev,>=1.25.0->google-api-core[grpc]<2.0.0dev,>=1.14.0->cirq-google) (1.14.0)\n",
      "Requirement already satisfied: rsa<5,>=3.1.4; python_version >= \"3.6\" in d:\\program files (x86)\\anaconda\\lib\\site-packages (from google-auth<3.0dev,>=1.25.0->google-api-core[grpc]<2.0.0dev,>=1.14.0->cirq-google) (4.9)\n",
      "Requirement already satisfied: cachetools<6.0,>=2.0.0 in d:\\program files (x86)\\anaconda\\lib\\site-packages (from google-auth<3.0dev,>=1.25.0->google-api-core[grpc]<2.0.0dev,>=1.14.0->cirq-google) (5.3.0)\n",
      "Requirement already satisfied: pyasn1-modules>=0.2.1 in d:\\program files (x86)\\anaconda\\lib\\site-packages (from google-auth<3.0dev,>=1.25.0->google-api-core[grpc]<2.0.0dev,>=1.14.0->cirq-google) (0.2.8)\n",
      "Requirement already satisfied: python-dateutil>=2.6.1 in d:\\program files (x86)\\anaconda\\lib\\site-packages (from pandas->cirq-core==1.1.0->cirq-google) (2.8.1)\n",
      "Requirement already satisfied: pytz>=2017.2 in d:\\program files (x86)\\anaconda\\lib\\site-packages (from pandas->cirq-core==1.1.0->cirq-google) (2019.3)\n",
      "Requirement already satisfied: mpmath>=0.19 in d:\\program files (x86)\\anaconda\\lib\\site-packages (from sympy->cirq-core==1.1.0->cirq-google) (1.1.0)\n",
      "Requirement already satisfied: pyparsing!=2.0.4,!=2.1.2,!=2.1.6,>=2.0.1 in d:\\program files (x86)\\anaconda\\lib\\site-packages (from matplotlib~=3.0->cirq-core==1.1.0->cirq-google) (2.4.6)\n",
      "Requirement already satisfied: cycler>=0.10 in d:\\program files (x86)\\anaconda\\lib\\site-packages (from matplotlib~=3.0->cirq-core==1.1.0->cirq-google) (0.10.0)\n",
      "Requirement already satisfied: kiwisolver>=1.0.1 in d:\\program files (x86)\\anaconda\\lib\\site-packages (from matplotlib~=3.0->cirq-core==1.1.0->cirq-google) (1.1.0)\n",
      "Requirement already satisfied: decorator>=4.3.0 in d:\\program files (x86)\\anaconda\\lib\\site-packages (from networkx~=2.4->cirq-core==1.1.0->cirq-google) (4.4.1)\n",
      "Requirement already satisfied: pyasn1>=0.1.3 in d:\\program files (x86)\\anaconda\\lib\\site-packages (from rsa<5,>=3.1.4; python_version >= \"3.6\"->google-auth<3.0dev,>=1.25.0->google-api-core[grpc]<2.0.0dev,>=1.14.0->cirq-google) (0.4.8)\n",
      "Requirement already satisfied: setuptools in d:\\program files (x86)\\anaconda\\lib\\site-packages (from kiwisolver>=1.0.1->matplotlib~=3.0->cirq-core==1.1.0->cirq-google) (45.2.0.post20200210)\n"
     ]
    }
   ],
   "source": [
    "!pip install --quiet cirq\n",
    "!pip install cirq-google\n",
    "\n",
    "import cirq\n",
    "\n",
    "import cirq_google"
   ]
  },
  {
   "cell_type": "markdown",
   "metadata": {
    "id": "xr-MMoXgNsUQ"
   },
   "source": [
    "## Qubits\n",
    "\n",
    "Cirq has 3 ways to initialise qubits\n",
    "\n",
    "  .NamedQubits: here we can give names to the qubits. \\\n",
    "  .LineQubits: Here we can create qubits using arrays. \\\n",
    "  .GridQubits: Here qubits are a part of a grid which we can manipulate ([source](https://quantumai.google/reference/python/cirq/GridQubit)).\n",
    "\n",
    "\n",
    "Here are some examples of defining each type of qubit."
   ]
  },
  {
   "cell_type": "code",
   "execution_count": 2,
   "metadata": {
    "colab": {
     "base_uri": "https://localhost:8080/"
    },
    "id": "PsgSo-H0Os8X",
    "outputId": "f51e46ea-bbc6-454e-ddf1-00a65bc9e33b"
   },
   "outputs": [
    {
     "name": "stdout",
     "output_type": "stream",
     "text": [
      "[cirq.GridQubit(0, 0), cirq.GridQubit(0, 1), cirq.GridQubit(0, 2), cirq.GridQubit(0, 3), cirq.GridQubit(1, 0), cirq.GridQubit(1, 1), cirq.GridQubit(1, 2), cirq.GridQubit(1, 3)]\n"
     ]
    }
   ],
   "source": [
    "# named qubits (primarily used when we want to give names to qubits for algorithms)\n",
    "q0 = cirq.NamedQubit('alice')\n",
    "q1 = cirq.NamedQubit('bob')\n",
    "\n",
    "\n",
    "# we can create individual qubits that are part of a lined arch.\n",
    "q2 = cirq.LineQubit(2)\n",
    "\n",
    "# we can even use the python Range function to create multiple at once\n",
    "q0, q1, q2 = cirq.LineQubit.range(3)\n",
    "\n",
    "# We can create qubits that are a part of a grid (more useful when working on actual hardware).\n",
    "q4_5 = cirq.GridQubit(4, 5)\n",
    "\n",
    "# Or using shapes like square, rectangle. (you can also use custom shapes)\n",
    "qubits = cirq.GridQubit.rect(rows = 2, cols = 4 )\n",
    "print(qubits)"
   ]
  },
  {
   "cell_type": "markdown",
   "metadata": {
    "id": "4zE6AutyQhQ6"
   },
   "source": [
    "There are also pre-packaged sets of qubits called [Devices](https://quantumai.google/cirq/hardware/devices).  These follow the architecture of famous hardware that can be imported. Cirq also lets us make api calls to popular hardware such as AQT, Azure etc (check devices documantation) and use their mappings."
   ]
  },
  {
   "cell_type": "code",
   "execution_count": 3,
   "metadata": {
    "colab": {
     "base_uri": "https://localhost:8080/"
    },
    "id": "B0Dwgu-lQLpq",
    "outputId": "5e72f3e3-d69c-489f-f1df-ae7c889c415a"
   },
   "outputs": [
    {
     "name": "stdout",
     "output_type": "stream",
     "text": [
      "                                             (0, 5)───(0, 6)\n",
      "                                             │        │\n",
      "                                             │        │\n",
      "                                    (1, 4)───(1, 5)───(1, 6)───(1, 7)\n",
      "                                    │        │        │        │\n",
      "                                    │        │        │        │\n",
      "                           (2, 3)───(2, 4)───(2, 5)───(2, 6)───(2, 7)───(2, 8)\n",
      "                           │        │        │        │        │        │\n",
      "                           │        │        │        │        │        │\n",
      "                  (3, 2)───(3, 3)───(3, 4)───(3, 5)───(3, 6)───(3, 7)───(3, 8)───(3, 9)\n",
      "                  │        │        │        │        │        │        │        │\n",
      "                  │        │        │        │        │        │        │        │\n",
      "         (4, 1)───(4, 2)───(4, 3)───(4, 4)───(4, 5)───(4, 6)───(4, 7)───(4, 8)───(4, 9)\n",
      "         │        │        │        │        │        │        │        │\n",
      "         │        │        │        │        │        │        │        │\n",
      "(5, 0)───(5, 1)───(5, 2)───(5, 3)───(5, 4)───(5, 5)───(5, 6)───(5, 7)───(5, 8)\n",
      "         │        │        │        │        │        │        │\n",
      "         │        │        │        │        │        │        │\n",
      "         (6, 1)───(6, 2)───(6, 3)───(6, 4)───(6, 5)───(6, 6)───(6, 7)\n",
      "                  │        │        │        │        │\n",
      "                  │        │        │        │        │\n",
      "                  (7, 2)───(7, 3)───(7, 4)───(7, 5)───(7, 6)\n",
      "                           │        │        │\n",
      "                           │        │        │\n",
      "                           (8, 3)───(8, 4)───(8, 5)\n",
      "                                    │\n",
      "                                    │\n",
      "                                    (9, 4)\n"
     ]
    }
   ],
   "source": [
    "#this is the diamond-shaped grid with 54 qubits that mimics the sycamore device from google.\n",
    "\n",
    "print(cirq_google.Sycamore)"
   ]
  },
  {
   "cell_type": "markdown",
   "metadata": {
    "id": "j1QTjyxLSe5c"
   },
   "source": [
    "## Gates and operations\n",
    "\n",
    "Now we can use the qubits to create operations that can be used to create circuits [Documentation](https://quantumai.google/cirq/build/gates).\n",
    "\n",
    "There are single gate operations such as Hadamard, Pauli X Y and Z gates and a lot more which are applied to single gates. \\\n",
    "\n",
    "\n",
    "There's also Multi gate operations such as CNOT, SWAP, CZ. \\\n",
    "\n",
    "\n",
    "There's a Measurement operation as well which measures the qubit. \\\n",
    "\n",
    "\n",
    "examples:"
   ]
  },
  {
   "cell_type": "code",
   "execution_count": 4,
   "metadata": {
    "colab": {
     "base_uri": "https://localhost:8080/"
    },
    "id": "wDW-yU-fesDl",
    "outputId": "03002679-7bd5-4e6e-e63d-75932586c283"
   },
   "outputs": [
    {
     "name": "stdout",
     "output_type": "stream",
     "text": [
      "q0, q1: q(0) q(1)\n",
      "Z(q(0))\n",
      "CNOT(q(0), q(1))\n",
      "SWAP(q(0), q(1))\n"
     ]
    }
   ],
   "source": [
    "Hadamard = cirq.H\n",
    "PauliZ = cirq.Z\n",
    "SWAPGate = cirq.SWAP\n",
    "\n",
    "#we can even create roots of gates such as X  to get sqrt(X) these can be used for more granular rotations compared to PauliX\n",
    "SqrtPauliX = cirq.X**0.5\n",
    "\n",
    "# Example operations\n",
    "q0,q1 = cirq.LineQubit.range(2)\n",
    "print(\"q0, q1:\",q0,q1)\n",
    "z_op = cirq.Z(q0)\n",
    "print(z_op)\n",
    "not_op = cirq.CNOT(q0, q1)\n",
    "print(not_op)\n",
    "sqrt_iswap_op = cirq.SQRT_ISWAP(q0, q1)\n",
    "\n",
    "# You can also use the gates you specified earlier.\n",
    "swap = SWAPGate(q0, q1)\n",
    "pauliZ = PauliZ(q0)\n",
    "print(swap)"
   ]
  },
  {
   "cell_type": "markdown",
   "metadata": {
    "id": "tu71Zds4J21a"
   },
   "source": [
    "cirq also lets us create custom gates. You can find more [here](https://quantumai.google/cirq/build/custom_gates)"
   ]
  },
  {
   "cell_type": "markdown",
   "metadata": {
    "id": "BnBGLMVvWVkz"
   },
   "source": [
    "## Circuits and moments\n",
    "\n",
    "To see how these gates work in a circuit we will now build circuits. Cirq also has this concept of moments. These can be thought of as time slices that seperate when each gate is executed in a circuit (better explained via example)(Think of these as times t1, t2 etc where we are interested in whats happening in the circuit or want to control which gates occur first.). \\\n",
    "\n",
    "Cirq explains a Quantum \"Circuit\" as a collection of the aforementioned \"Moments\" and moments themselves as a collections of gate operations on the qubits. \\\n",
    "\n",
    " A `Moment` is a collection of `Operation`s that all act during the same time slice. A `Moment` can be thought of as a vertical slice of a quantum circuit diagram. \\\n",
    "\n",
    "Cirq is optimised and by default will attempt to slide your operation into the earliest possible `Moment` when you insert it so if you want something different then we must pay attention to where we are placing moments.\n",
    "\n",
    "Circuits doccumentation in detail [here](https://quantumai.google/reference/python/cirq/Circuit)"
   ]
  },
  {
   "cell_type": "code",
   "execution_count": 5,
   "metadata": {
    "colab": {
     "base_uri": "https://localhost:8080/"
    },
    "id": "HEuqEZcXkz3Q",
    "outputId": "4f9a6474-ddc1-4d18-ba82-2ecb1f210acd"
   },
   "outputs": [
    {
     "name": "stdout",
     "output_type": "stream",
     "text": [
      "0: ───H───\n",
      "\n",
      "1: ───H───\n",
      "\n",
      "2: ───H───\n"
     ]
    }
   ],
   "source": [
    "#creating a simple circuit with 3 qubits and applyinh a Hadamard to each of them\n",
    "circuit = cirq.Circuit()\n",
    "qubits = cirq.LineQubit.range(3)\n",
    "circuit.append(cirq.H(qubits[0]))\n",
    "circuit.append(cirq.H(qubits[1]))\n",
    "circuit.append(cirq.H(qubits[2]))\n",
    "print(circuit)"
   ]
  },
  {
   "cell_type": "code",
   "execution_count": 6,
   "metadata": {
    "colab": {
     "base_uri": "https://localhost:8080/"
    },
    "id": "bQVcMTfK5dFu",
    "outputId": "3d11ce23-a5bb-4fe1-aa3d-1d0298889dfc"
   },
   "outputs": [
    {
     "name": "stdout",
     "output_type": "stream",
     "text": [
      "0: ───H───\n",
      "\n",
      "1: ───H───\n",
      "\n",
      "2: ───H───\n"
     ]
    }
   ],
   "source": [
    "#using python list comprehention to make it easier\n",
    "circuit = cirq.Circuit()\n",
    "ops = [cirq.H(q) for q in cirq.LineQubit.range(3)]\n",
    "circuit.append(ops)\n",
    "print(circuit)"
   ]
  },
  {
   "cell_type": "code",
   "execution_count": 7,
   "metadata": {
    "colab": {
     "base_uri": "https://localhost:8080/"
    },
    "id": "4GeSahJrMdhO",
    "outputId": "eed2c97b-2450-49af-f83b-23b814c78ac7"
   },
   "outputs": [
    {
     "name": "stdout",
     "output_type": "stream",
     "text": [
      "0: ───×───\n",
      "      │\n",
      "1: ───×───\n",
      "\n",
      "2: ───H───\n"
     ]
    }
   ],
   "source": [
    "circuit = cirq.Circuit()\n",
    "circuit.append([cirq.SWAP(q0, q1), cirq.H(q2)])\n",
    "print(circuit)"
   ]
  },
  {
   "cell_type": "markdown",
   "metadata": {
    "id": "a6bd4d3152d5"
   },
   "source": [
    "All the Hadamards are made to occure at the same time in the circuits 1 and 2 above. in circuit 3 Hadamard Op on q2 is pushed ot the left. Cirq pushes non overlapping operations to the left by default. For overlaping gates they are put one after the other like in circuit 3."
   ]
  },
  {
   "cell_type": "code",
   "execution_count": 8,
   "metadata": {
    "colab": {
     "base_uri": "https://localhost:8080/"
    },
    "id": "olj1mATaM-88",
    "outputId": "579e34ca-3b75-4fa3-8f35-a5b19bbb53da"
   },
   "outputs": [
    {
     "name": "stdout",
     "output_type": "stream",
     "text": [
      "0: ───×───────────\n",
      "      │\n",
      "1: ───×───H───@───\n",
      "              │\n",
      "2: ───H───────X───\n"
     ]
    }
   ],
   "source": [
    "circuit3 = cirq.Circuit()\n",
    "circuit3.append([cirq.SWAP(q0, q1), cirq.H(q1),  cirq.H(q2),cirq.CNOT(q1,q2)])\n",
    "print(circuit3)"
   ]
  },
  {
   "cell_type": "markdown",
   "metadata": {
    "id": "3FC9bdlXmShh"
   },
   "source": [
    "What if we want the hadamards in circuit 3 to occur together (no reason). This is where the \"Moments\"\" are usefull.\n",
    "\n",
    "you can create the circuit moment-by-moment or use a different `InsertStrategy`, explained clearly [Here](https://quantumai.google/cirq/build/circuits).\n",
    "\n",
    "basically we add time slices to our circuits and organise our circuit using them.\n",
    "\n"
   ]
  },
  {
   "cell_type": "code",
   "execution_count": 9,
   "metadata": {
    "colab": {
     "base_uri": "https://localhost:8080/"
    },
    "id": "4AEahodTnYiI",
    "outputId": "ef3e6eda-1a7e-4748-f878-324e8229b0ef"
   },
   "outputs": [
    {
     "name": "stdout",
     "output_type": "stream",
     "text": [
      "0: ───H───────────\n",
      "\n",
      "1: ───────H───────\n",
      "\n",
      "2: ───────────H───\n"
     ]
    }
   ],
   "source": [
    "# Creates each gate in a separate moment by passing an iterable of Moments instead of Operations.\n",
    "print(cirq.Circuit(cirq.Moment([cirq.H(q)]) for q in cirq.LineQubit.range(3)))"
   ]
  },
  {
   "cell_type": "code",
   "execution_count": 10,
   "metadata": {
    "colab": {
     "base_uri": "https://localhost:8080/"
    },
    "id": "_YjeAkz8O4mH",
    "outputId": "53abf443-0252-4873-b496-b3d92544d359"
   },
   "outputs": [
    {
     "name": "stdout",
     "output_type": "stream",
     "text": [
      "0: ───×───────────\n",
      "      │\n",
      "1: ───×───H───@───\n",
      "              │\n",
      "2: ───────H───X───\n"
     ]
    }
   ],
   "source": [
    "# for circuit 3 (Moving both hadamard together)\n",
    "from cirq.circuits import InsertStrategy\n",
    "\n",
    "circuit32 = cirq.Circuit()\n",
    "moment = cirq.Moment(cirq.H(q1),  cirq.H(q2))\n",
    "circuit32.append([cirq.SWAP(q0, q1), moment,cirq.CNOT(q1,q2)])\n",
    "print(circuit32)"
   ]
  },
  {
   "cell_type": "markdown",
   "metadata": {
    "id": "M8oLYwusz4XE"
   },
   "source": [
    "## Unitary matrices\n",
    "\n",
    "Many quantum operations have unitary matrix representations.  This matrix can be accessed by applying `cirq.unitary(operation)` to that `operation`.  This can be applied to gates, operations, and circuits that support this protocol and will return the unitary matrix that represents the object."
   ]
  },
  {
   "cell_type": "code",
   "execution_count": 11,
   "metadata": {
    "colab": {
     "base_uri": "https://localhost:8080/"
    },
    "id": "xn9nnBA70s23",
    "outputId": "6f6f3af7-b5c1-4e65-e9a9-a4b121301017"
   },
   "outputs": [
    {
     "name": "stdout",
     "output_type": "stream",
     "text": [
      "Unitary of the X gate\n",
      "[[0.+0.j 1.+0.j]\n",
      " [1.+0.j 0.+0.j]]\n",
      "Unitary of SWAP operator on two qubits.\n",
      "[[1.+0.j 0.+0.j 0.+0.j 0.+0.j]\n",
      " [0.+0.j 0.+0.j 1.+0.j 0.+0.j]\n",
      " [0.+0.j 1.+0.j 0.+0.j 0.+0.j]\n",
      " [0.+0.j 0.+0.j 0.+0.j 1.+0.j]]\n",
      "Unitary of a sample circuit\n",
      "[[0.+0.j 0.+0.j 1.+0.j 0.+0.j]\n",
      " [1.+0.j 0.+0.j 0.+0.j 0.+0.j]\n",
      " [0.+0.j 0.+0.j 0.+0.j 1.+0.j]\n",
      " [0.+0.j 1.+0.j 0.+0.j 0.+0.j]]\n"
     ]
    }
   ],
   "source": [
    "print('Unitary of the X gate')\n",
    "print(cirq.unitary(cirq.X))\n",
    "\n",
    "print('Unitary of SWAP operator on two qubits.')\n",
    "q0, q1 = cirq.LineQubit.range(2)\n",
    "print(cirq.unitary(cirq.SWAP(q0, q1)))\n",
    "\n",
    "print('Unitary of a sample circuit')\n",
    "print(cirq.unitary(cirq.Circuit(cirq.X(q0), cirq.SWAP(q0, q1))))"
   ]
  },
  {
   "cell_type": "code",
   "execution_count": 12,
   "metadata": {
    "colab": {
     "base_uri": "https://localhost:8080/"
    },
    "id": "wzChmShzR5F_",
    "outputId": "e13dbe3c-4852-42a6-b5d1-2f1839eb1c15"
   },
   "outputs": [
    {
     "name": "stdout",
     "output_type": "stream",
     "text": [
      "[[ 0.70710678  0.70710678]\n",
      " [-0.70710678  0.70710678]]\n"
     ]
    }
   ],
   "source": [
    "#You can also convert Unitary to custom gates as shown in the link above:\n",
    "import numpy as np\n",
    "\"\"\"Define a custom single-qubit gate.\"\"\"\n",
    "class MyGate(cirq.Gate):\n",
    "    def __init__(self):\n",
    "        super(MyGate, self)\n",
    "\n",
    "    def _num_qubits_(self):\n",
    "        return 1\n",
    "\n",
    "    def _unitary_(self):\n",
    "        return np.array([\n",
    "            [1.0,  1.0],\n",
    "            [-1.0, 1.0]\n",
    "        ]) / np.sqrt(2)\n",
    "\n",
    "    def _circuit_diagram_info_(self, args):\n",
    "        return \"G\"\n",
    "\n",
    "my_gate = MyGate()\n",
    "print(cirq.unitary(my_gate))"
   ]
  },
  {
   "cell_type": "markdown",
   "metadata": {
    "id": "xLdhLAMURmMx"
   },
   "source": [
    "##Noise\n",
    "\n",
    "Cirq allows us to add noise to circuits at multiple levels.\n",
    "\n",
    "we can add noise to the entire circuit, while taking measurements (documentation of both these might be incomplete wasnt able to make it run) and add noise to intividual bits and connections.\n",
    "\n",
    "We can see cirq implementation of a couple of types noise below.\n",
    "\n",
    "[Full Documentation on Noise](https://quantumai.google/cirq/noise/representing_noise)"
   ]
  },
  {
   "cell_type": "markdown",
   "metadata": {
    "id": "775a6df1be6d"
   },
   "source": [
    "### Bit flip\n",
    "\n",
    "`cirq.BitFlipChannel` (or `cirq.bit_flip`) is equivalent to applying `cirq.X` with a given probability. This channel is best used to represent state-agnostic bit flip errors in the body of a circuit."
   ]
  },
  {
   "cell_type": "code",
   "execution_count": 13,
   "metadata": {
    "colab": {
     "base_uri": "https://localhost:8080/"
    },
    "id": "60f9f3b43759",
    "outputId": "117422e1-5c8c-4dbc-d017-a5d07a29c9d4"
   },
   "outputs": [
    {
     "name": "stdout",
     "output_type": "stream",
     "text": [
      "Counter({1: 504, 0: 496})\n"
     ]
    }
   ],
   "source": [
    "q0 = cirq.LineQubit(0)\n",
    "circuit = cirq.Circuit(\n",
    "    cirq.bit_flip(p=0.5).on(q0),\n",
    "    cirq.measure(q0, key='result')\n",
    ")\n",
    "result = cirq.Simulator(seed=0).run(circuit, repetitions=1000)\n",
    "print(result.histogram(key='result'))"
   ]
  },
  {
   "cell_type": "markdown",
   "metadata": {
    "id": "352e1b654056"
   },
   "source": [
    "### Amplitude damping\n",
    "\n",
    "`cirq.AmplitudeDampingChannel` (or `cirq.amplitude_damp`) performs a $|1\\rangle \\rightarrow |0\\rangle$ transformation with some probability `gamma`, leaving the existing $|0\\rangle$ state alone. This channel is best used to represent an idealized form of energy dissipation, where qubits decay from $|1\\rangle$ to $|0\\rangle$."
   ]
  },
  {
   "cell_type": "code",
   "execution_count": 14,
   "metadata": {
    "colab": {
     "base_uri": "https://localhost:8080/"
    },
    "id": "2e8b3868bf6c",
    "outputId": "8ed0c8ea-2f35-49f5-d657-63ba00916aab"
   },
   "outputs": [
    {
     "name": "stdout",
     "output_type": "stream",
     "text": [
      "Counter({1: 795, 0: 205})\n"
     ]
    }
   ],
   "source": [
    "q0 = cirq.LineQubit(0)\n",
    "circuit = cirq.Circuit(\n",
    "    cirq.X(q0),\n",
    "    cirq.amplitude_damp(gamma=0.2).on(q0),\n",
    "    cirq.measure(q0, key='result')\n",
    ")\n",
    "result = cirq.Simulator(seed=0).run(circuit, repetitions=1000)\n",
    "print(result.histogram(key='result'))"
   ]
  },
  {
   "cell_type": "markdown",
   "metadata": {
    "id": "xZ68bWEjoMKt"
   },
   "source": [
    "## Simulation\n",
    "\n",
    "Once we have built our circuits with the necesary noise we can get the simulated results of running our circuit using cirq's \"Simulator()\" (20 qubit limit)\n",
    "\n",
    "[Documentation](https://quantumai.google/cirq/simulate/simulation)\n",
    "\n",
    "There are two different approaches to using a simulator:\n",
    "\n",
    "`simulate()`:  Offers a detailed, comprehensive look at the quantum state (wavefunction) after circuit execution. It is for when you need to look \"under the hood\" of your quantum circuit. It's output typically includes probabilities, phase information, and can even show how entanglements and superpositions are created within the circuit.\n",
    "`run()`: Outputs measurement results as bit strings, simulating the practical outcome of running a quantum circuit on a physical device.\n",
    "\n"
   ]
  },
  {
   "cell_type": "code",
   "execution_count": 15,
   "metadata": {
    "colab": {
     "base_uri": "https://localhost:8080/"
    },
    "id": "y4UWcwFwWtUw",
    "outputId": "67ddc531-83b0-4c45-8a84-8661245995fb"
   },
   "outputs": [
    {
     "name": "stdout",
     "output_type": "stream",
     "text": [
      "measurements: (no measurements)\n",
      "\n",
      "qubits: (cirq.LineQubit(0),)\n",
      "output vector: 0.707|0⟩ + 0.707|1⟩\n",
      "\n",
      "phase:\n",
      "output vector: |⟩\n"
     ]
    }
   ],
   "source": [
    "#simple hadamard\n",
    "simple_hadamard = cirq.Circuit()\n",
    "q0 = cirq.LineQubit(0)\n",
    "simple_hadamard.append(cirq.H(q0))\n",
    "s = cirq.Simulator()\n",
    "results = s.simulate(simple_hadamard)\n",
    "print(results)\n"
   ]
  },
  {
   "cell_type": "code",
   "execution_count": 16,
   "metadata": {
    "colab": {
     "base_uri": "https://localhost:8080/"
    },
    "id": "FOmgT7ulXqQE",
    "outputId": "7ddf42f0-0029-4781-9012-3eb6c56feda5"
   },
   "outputs": [
    {
     "name": "stdout",
     "output_type": "stream",
     "text": [
      "measurements: (no measurements)\n",
      "\n",
      "qubits: (cirq.LineQubit(0),)\n",
      "output vector: |0⟩\n",
      "\n",
      "phase:\n",
      "output vector: |⟩\n"
     ]
    }
   ],
   "source": [
    "#adding one more hadamard (retirn to |0>)\n",
    "simple_hadamard.append(cirq.H(q0))\n",
    "results = s.simulate(simple_hadamard)\n",
    "print(results)"
   ]
  },
  {
   "cell_type": "markdown",
   "metadata": {
    "id": "23VaIf0pWkBr"
   },
   "source": [
    "We can take a look at the example simulation a 2-qubit \"Bell State\" shown in the documentation:"
   ]
  },
  {
   "cell_type": "code",
   "execution_count": 17,
   "metadata": {
    "colab": {
     "base_uri": "https://localhost:8080/"
    },
    "id": "AwC4SL6CHpXm",
    "outputId": "458647b6-ac73-445d-b527-4b045fb59f03"
   },
   "outputs": [
    {
     "name": "stdout",
     "output_type": "stream",
     "text": [
      "Simulate the circuit:\n",
      "measurements: (no measurements)\n",
      "\n",
      "qubits: (cirq.LineQubit(0), cirq.LineQubit(1))\n",
      "output vector: 0.707|00⟩ + 0.707|11⟩\n",
      "\n",
      "phase:\n",
      "output vector: |⟩\n"
     ]
    }
   ],
   "source": [
    "# Create a circuit to generate a Bell State:\n",
    "# 1/sqrt(2) * ( |00⟩ + |11⟩ )\n",
    "bell_circuit = cirq.Circuit()\n",
    "q0, q1 = cirq.LineQubit.range(2)\n",
    "bell_circuit.append(cirq.H(q0))\n",
    "bell_circuit.append(cirq.CNOT(q0, q1))\n",
    "\n",
    "# Initialize Simulator\n",
    "s = cirq.Simulator()\n",
    "\n",
    "print('Simulate the circuit:')\n",
    "results = s.simulate(bell_circuit)\n",
    "print(results)\n",
    "\n",
    "# For sampling, we need to add a measurement at the end\n",
    "bell_circuit.append(cirq.measure(q0, q1, key='result'))\n",
    "\n",
    "# Sample the circuit\n",
    "sample = s.run(bell_circuit, repetitions=1000)\n"
   ]
  },
  {
   "cell_type": "code",
   "execution_count": 18,
   "metadata": {
    "colab": {
     "base_uri": "https://localhost:8080/"
    },
    "id": "8i9CU6pAWNNs",
    "outputId": "59120d71-2764-4f4f-ec15-7ee34100c8e6"
   },
   "outputs": [
    {
     "name": "stdout",
     "output_type": "stream",
     "text": [
      "result=0011100010110110011010110000011001011101011110000000101011000111110110101001100010110010100100110100000000010110100011001011010010110000011110011000111000001010000000111110001110110001011010110100111111111010001101110101101100011010100101000100111000111110100000011111111111110000001001010110011110001001000011110100100001100000100110001000000111000110011010011100000001010110010111101101000001111111110010101001100000001111010011011101101010101111011101000011101000110110000100100011000111101101010011100000100100100101000101000100101011000111110110011110001101101011110110111111011011001011011100101000100001011110011100010001100100011100110111110001111100011110111011000100000110111101100000001111000101001001111101001101111011001111010100111111110010111110110010110110000000100111000011101110001001110000111000100000100000110011100000001111011110011001100010001110110110110011011010010011010110000110110110110101010010011111101011110001101101111000010110010000001111001101000101010011011010110010, 0011100010110110011010110000011001011101011110000000101011000111110110101001100010110010100100110100000000010110100011001011010010110000011110011000111000001010000000111110001110110001011010110100111111111010001101110101101100011010100101000100111000111110100000011111111111110000001001010110011110001001000011110100100001100000100110001000000111000110011010011100000001010110010111101101000001111111110010101001100000001111010011011101101010101111011101000011101000110110000100100011000111101101010011100000100100100101000101000100101011000111110110011110001101101011110110111111011011001011011100101000100001011110011100010001100100011100110111110001111100011110111011000100000110111101100000001111000101001001111101001101111011001111010100111111110010111110110010110110000000100111000011101110001001110000111000100000100000110011100000001111011110011001100010001110110110110011011010010011010110000110110110110101010010011111101011110001101101111000010110010000001111001101000101010011011010110010\n"
     ]
    }
   ],
   "source": [
    "print(sample)"
   ]
  },
  {
   "cell_type": "markdown",
   "metadata": {
    "id": "be79fa541b8a"
   },
   "source": [
    "## Visualizing Results\n",
    "\n",
    "When you use `run()` to get a sample distribution of measurements, you can directly graph the simulated samples as a histogram with `cirq.plot_state_histogram`."
   ]
  },
  {
   "cell_type": "code",
   "execution_count": 19,
   "metadata": {
    "colab": {
     "base_uri": "https://localhost:8080/",
     "height": 472
    },
    "id": "69dca44091f4",
    "outputId": "fde2177b-3bfa-426e-8605-2af5f27daf56"
   },
   "outputs": [
    {
     "data": {
      "image/png": "[encoded data removed]",
      "text/plain": [
       "<Figure size 432x288 with 1 Axes>"
      ]
     },
     "metadata": {
      "needs_background": "light"
     },
     "output_type": "display_data"
    }
   ],
   "source": [
    "import matplotlib.pyplot as plt\n",
    "\n",
    "cirq.plot_state_histogram(sample, plt.subplot())\n",
    "plt.show()"
   ]
  },
  {
   "cell_type": "markdown",
   "metadata": {
    "id": "NAsmTqTAFEtQ"
   },
   "source": [
    "Here I've created the quantum teleportation circuit and simulated it using cirq."
   ]
  },
  {
   "cell_type": "markdown",
   "metadata": {
    "id": "NzBf7MNmdk8o"
   },
   "source": [
    "[creating classical comm line](https://quantumai.google/cirq/build/classical_control)"
   ]
  },
  {
   "cell_type": "code",
   "execution_count": 20,
   "metadata": {
    "id": "GWSKNK2HO-fo"
   },
   "outputs": [],
   "source": [
    "def quantum_teleportation_circuit(gate):\n",
    "    circuit = cirq.Circuit()\n",
    "    alice = cirq.NamedQubit('alice')\n",
    "    msg = cirq.NamedQubit('msg')\n",
    "    bob = cirq.NamedQubit('bob')\n",
    "\n",
    "    #entangles qubit betweeen  Alice and Bob\n",
    "    circuit.append([cirq.H(alice), cirq.CNOT(alice, bob)])\n",
    "\n",
    "\n",
    "    # Creates a message to send.\n",
    "    circuit.append(gate(msg))\n",
    "\n",
    "\n",
    "    # Bell measurement of the Message and Alice's entangled qubit.\n",
    "    circuit.append([cirq.CNOT(msg, alice), cirq.H(msg), cirq.measure(msg,alice)])\n",
    "\n",
    "\n",
    "    # Uses the two classical bits from the Bell measurement to recover the\n",
    "    # original quantum Message on Bob's entangled qubit.\n",
    "    circuit.append([cirq.CNOT(alice, bob), cirq.CZ(msg,bob)])\n",
    "\n",
    "    return circuit"
   ]
  },
  {
   "cell_type": "code",
   "execution_count": 21,
   "metadata": {
    "colab": {
     "base_uri": "https://localhost:8080/"
    },
    "id": "1MMnJ2w3ggph",
    "outputId": "1ea0ad5c-3c65-4fff-9848-5ac0a8bb3064"
   },
   "outputs": [
    {
     "name": "stdout",
     "output_type": "stream",
     "text": [
      "alice: ───H───@───X───────M───@───────\n",
      "              │   │       │   │\n",
      "bob: ─────────X───┼───────┼───X───@───\n",
      "                  │       │       │\n",
      "msg: ─────X───────@───H───M───────@───\n"
     ]
    }
   ],
   "source": [
    "# gate for msg qubit Pauili X\n",
    "\n",
    "gate = cirq.X\n",
    "\n",
    "#create circuit\n",
    "circuit = quantum_teleportation_circuit(gate)\n",
    "print(circuit)"
   ]
  },
  {
   "cell_type": "code",
   "execution_count": 22,
   "metadata": {
    "colab": {
     "base_uri": "https://localhost:8080/"
    },
    "id": "C1LjA7F5g1ap",
    "outputId": "12959ef1-9600-4f9d-e3e7-ae2a3903a382"
   },
   "outputs": [
    {
     "name": "stdout",
     "output_type": "stream",
     "text": [
      "bloch sphere\n",
      "[ 0.  0. -1.]\n"
     ]
    }
   ],
   "source": [
    "#block sphere\n",
    "import numpy as np\n",
    "message = cirq.Circuit(gate.on(cirq.NamedQubit('msg'))).final_state_vector()\n",
    "message_bloch_vector = cirq.bloch_vector_from_state_vector(message,index=0)\n",
    "\n",
    "print(\"bloch sphere\")\n",
    "print(message_bloch_vector)"
   ]
  },
  {
   "cell_type": "code",
   "execution_count": 23,
   "metadata": {
    "colab": {
     "base_uri": "https://localhost:8080/"
    },
    "id": "Oft6ROIAhvPH",
    "outputId": "1804061e-2350-4132-9148-412a67216deb"
   },
   "outputs": [
    {
     "name": "stdout",
     "output_type": "stream",
     "text": [
      "alice: ───H───@───X───────M───@───────\n",
      "              │   │       │   │\n",
      "bob: ─────────X───┼───────┼───X───@───\n",
      "                  │       │       │\n",
      "msg: ─────Z───────@───H───M───────@───\n"
     ]
    }
   ],
   "source": [
    "# gate for msg qubit Pauili Z\n",
    "gate = cirq.Z\n",
    "\n",
    "#create circuit\n",
    "circuit = quantum_teleportation_circuit(gate)\n",
    "print(circuit)"
   ]
  },
  {
   "cell_type": "code",
   "execution_count": 24,
   "metadata": {
    "colab": {
     "base_uri": "https://localhost:8080/"
    },
    "id": "uGs45imOh-bw",
    "outputId": "bb54f5e9-2eff-45fc-ff3a-466cf96cbf0c"
   },
   "outputs": [
    {
     "name": "stdout",
     "output_type": "stream",
     "text": [
      "bloch sphere\n",
      "[0. 0. 1.]\n"
     ]
    }
   ],
   "source": [
    "message = cirq.Circuit(gate.on(cirq.NamedQubit('msg'))).final_state_vector()\n",
    "message_bloch_vector = cirq.bloch_vector_from_state_vector(message,index=0)\n",
    "\n",
    "print(\"bloch sphere\")\n",
    "print(message_bloch_vector)"
   ]
  },
  {
   "cell_type": "markdown",
   "metadata": {
    "id": "EGqwNaf3iNaV"
   },
   "source": [
    "Tried Noisy circuit but got errors"
   ]
  },
  {
   "cell_type": "code",
   "execution_count": null,
   "metadata": {
    "id": "mpZ6SuPFh_Vl"
   },
   "outputs": [],
   "source": []
  }
 ],
 "metadata": {
  "colab": {
   "provenance": []
  },
  "kernelspec": {
   "display_name": "Python 3",
   "language": "python",
   "name": "python3"
  },
  "language_info": {
   "codemirror_mode": {
    "name": "ipython",
    "version": 3
   },
   "file_extension": ".py",
   "mimetype": "text/x-python",
   "name": "python",
   "nbconvert_exporter": "python",
   "pygments_lexer": "ipython3",
   "version": "3.7.6"
  }
 },
 "nbformat": 4,
 "nbformat_minor": 1
}
