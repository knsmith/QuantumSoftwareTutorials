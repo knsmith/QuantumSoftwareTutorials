{
  "cells": [
    {
      "cell_type": "markdown",
      "metadata": {
        "id": "Me7G0WVTHwHg"
      },
      "source": [
        "# Cirq basic\n"
      ]
    },
    {
      "cell_type": "code",
      "source": [],
      "metadata": {
        "id": "-C3oi_RRSGiy"
      },
      "execution_count": null,
      "outputs": []
    },
    {
      "cell_type": "markdown",
      "metadata": {
        "id": "67gUU740MSXd"
      },
      "source": [
        "we will look at the basics of how to use Cirq. I will talk about how to use qubits, different devices, gates, operations, unitary matrices, adding noise and run a couple of circuits\n"
      ]
    },
    {
      "cell_type": "markdown",
      "metadata": {
        "id": "1dOjJlgrNUuz"
      },
      "source": [
        "installing Cirq"
      ]
    },
    {
      "cell_type": "code",
      "execution_count": 1,
      "metadata": {
        "id": "bd9529db1c0b",
        "colab": {
          "base_uri": "https://localhost:8080/"
        },
        "outputId": "91349823-0b5a-4cb1-896d-970a9b90d04b"
      },
      "outputs": [
        {
          "output_type": "stream",
          "name": "stdout",
          "text": [
            "\u001b[2K     \u001b[90m━━━━━━━━━━━━━━━━━━━━━━━━━━━━━━━━━━━━━━━━\u001b[0m \u001b[32m1.8/1.8 MB\u001b[0m \u001b[31m8.3 MB/s\u001b[0m eta \u001b[36m0:00:00\u001b[0m\n",
            "\u001b[2K     \u001b[90m━━━━━━━━━━━━━━━━━━━━━━━━━━━━━━━━━━━━━━━━\u001b[0m \u001b[32m143.1/143.1 kB\u001b[0m \u001b[31m10.1 MB/s\u001b[0m eta \u001b[36m0:00:00\u001b[0m\n",
            "\u001b[2K     \u001b[90m━━━━━━━━━━━━━━━━━━━━━━━━━━━━━━━━━━━━━━━━\u001b[0m \u001b[32m598.8/598.8 kB\u001b[0m \u001b[31m11.2 MB/s\u001b[0m eta \u001b[36m0:00:00\u001b[0m\n",
            "\u001b[2K     \u001b[90m━━━━━━━━━━━━━━━━━━━━━━━━━━━━━━━━━━━━━━━━\u001b[0m \u001b[32m60.9/60.9 kB\u001b[0m \u001b[31m2.4 MB/s\u001b[0m eta \u001b[36m0:00:00\u001b[0m\n",
            "\u001b[2K     \u001b[90m━━━━━━━━━━━━━━━━━━━━━━━━━━━━━━━━━━━━━━━━\u001b[0m \u001b[32m66.2/66.2 kB\u001b[0m \u001b[31m2.5 MB/s\u001b[0m eta \u001b[36m0:00:00\u001b[0m\n",
            "\u001b[2K     \u001b[90m━━━━━━━━━━━━━━━━━━━━━━━━━━━━━━━━━━━━━━━━\u001b[0m \u001b[32m596.5/596.5 kB\u001b[0m \u001b[31m17.8 MB/s\u001b[0m eta \u001b[36m0:00:00\u001b[0m\n",
            "\u001b[2K     \u001b[90m━━━━━━━━━━━━━━━━━━━━━━━━━━━━━━━━━━━━━━━━\u001b[0m \u001b[32m223.8/223.8 kB\u001b[0m \u001b[31m10.6 MB/s\u001b[0m eta \u001b[36m0:00:00\u001b[0m\n",
            "\u001b[2K     \u001b[90m━━━━━━━━━━━━━━━━━━━━━━━━━━━━━━━━━━━━━━━━\u001b[0m \u001b[32m229.9/229.9 kB\u001b[0m \u001b[31m17.2 MB/s\u001b[0m eta \u001b[36m0:00:00\u001b[0m\n",
            "\u001b[?25h  Preparing metadata (setup.py) ... \u001b[?25l\u001b[?25hdone\n",
            "\u001b[2K     \u001b[90m━━━━━━━━━━━━━━━━━━━━━━━━━━━━━━━━━━━━━━━━\u001b[0m \u001b[32m151.7/151.7 kB\u001b[0m \u001b[31m11.0 MB/s\u001b[0m eta \u001b[36m0:00:00\u001b[0m\n",
            "\u001b[2K     \u001b[90m━━━━━━━━━━━━━━━━━━━━━━━━━━━━━━━━━━━━━━━━\u001b[0m \u001b[32m45.6/45.6 kB\u001b[0m \u001b[31m4.2 MB/s\u001b[0m eta \u001b[36m0:00:00\u001b[0m\n",
            "\u001b[?25h  Preparing metadata (setup.py) ... \u001b[?25l\u001b[?25hdone\n",
            "\u001b[2K     \u001b[90m━━━━━━━━━━━━━━━━━━━━━━━━━━━━━━━━━━━━━━━━\u001b[0m \u001b[32m1.6/1.6 MB\u001b[0m \u001b[31m27.6 MB/s\u001b[0m eta \u001b[36m0:00:00\u001b[0m\n",
            "\u001b[2K     \u001b[90m━━━━━━━━━━━━━━━━━━━━━━━━━━━━━━━━━━━━━━━━\u001b[0m \u001b[32m151.7/151.7 kB\u001b[0m \u001b[31m13.5 MB/s\u001b[0m eta \u001b[36m0:00:00\u001b[0m\n",
            "\u001b[2K     \u001b[90m━━━━━━━━━━━━━━━━━━━━━━━━━━━━━━━━━━━━━━━━\u001b[0m \u001b[32m151.7/151.7 kB\u001b[0m \u001b[31m10.6 MB/s\u001b[0m eta \u001b[36m0:00:00\u001b[0m\n",
            "\u001b[2K     \u001b[90m━━━━━━━━━━━━━━━━━━━━━━━━━━━━━━━━━━━━━━━━\u001b[0m \u001b[32m147.4/147.4 kB\u001b[0m \u001b[31m9.6 MB/s\u001b[0m eta \u001b[36m0:00:00\u001b[0m\n",
            "\u001b[2K     \u001b[90m━━━━━━━━━━━━━━━━━━━━━━━━━━━━━━━━━━━━━━━━\u001b[0m \u001b[32m147.4/147.4 kB\u001b[0m \u001b[31m9.1 MB/s\u001b[0m eta \u001b[36m0:00:00\u001b[0m\n",
            "\u001b[2K     \u001b[90m━━━━━━━━━━━━━━━━━━━━━━━━━━━━━━━━━━━━━━━━\u001b[0m \u001b[32m147.4/147.4 kB\u001b[0m \u001b[31m9.6 MB/s\u001b[0m eta \u001b[36m0:00:00\u001b[0m\n",
            "\u001b[2K     \u001b[90m━━━━━━━━━━━━━━━━━━━━━━━━━━━━━━━━━━━━━━━━\u001b[0m \u001b[32m142.7/142.7 kB\u001b[0m \u001b[31m12.4 MB/s\u001b[0m eta \u001b[36m0:00:00\u001b[0m\n",
            "\u001b[2K     \u001b[90m━━━━━━━━━━━━━━━━━━━━━━━━━━━━━━━━━━━━━━━━\u001b[0m \u001b[32m88.3/88.3 kB\u001b[0m \u001b[31m7.3 MB/s\u001b[0m eta \u001b[36m0:00:00\u001b[0m\n",
            "\u001b[2K     \u001b[90m━━━━━━━━━━━━━━━━━━━━━━━━━━━━━━━━━━━━━━━━\u001b[0m \u001b[32m85.5/85.5 kB\u001b[0m \u001b[31m8.0 MB/s\u001b[0m eta \u001b[36m0:00:00\u001b[0m\n",
            "\u001b[2K     \u001b[90m━━━━━━━━━━━━━━━━━━━━━━━━━━━━━━━━━━━━━━━━\u001b[0m \u001b[32m85.1/85.1 kB\u001b[0m \u001b[31m7.1 MB/s\u001b[0m eta \u001b[36m0:00:00\u001b[0m\n",
            "\u001b[2K     \u001b[90m━━━━━━━━━━━━━━━━━━━━━━━━━━━━━━━━━━━━━━━━\u001b[0m \u001b[32m84.7/84.7 kB\u001b[0m \u001b[31m6.1 MB/s\u001b[0m eta \u001b[36m0:00:00\u001b[0m\n",
            "\u001b[2K     \u001b[90m━━━━━━━━━━━━━━━━━━━━━━━━━━━━━━━━━━━━━━━━\u001b[0m \u001b[32m83.6/83.6 kB\u001b[0m \u001b[31m5.6 MB/s\u001b[0m eta \u001b[36m0:00:00\u001b[0m\n",
            "\u001b[2K     \u001b[90m━━━━━━━━━━━━━━━━━━━━━━━━━━━━━━━━━━━━━━━━\u001b[0m \u001b[32m83.3/83.3 kB\u001b[0m \u001b[31m6.9 MB/s\u001b[0m eta \u001b[36m0:00:00\u001b[0m\n",
            "\u001b[2K     \u001b[90m━━━━━━━━━━━━━━━━━━━━━━━━━━━━━━━━━━━━━━━━\u001b[0m \u001b[32m83.4/83.4 kB\u001b[0m \u001b[31m7.9 MB/s\u001b[0m eta \u001b[36m0:00:00\u001b[0m\n",
            "\u001b[2K     \u001b[90m━━━━━━━━━━━━━━━━━━━━━━━━━━━━━━━━━━━━━━━━\u001b[0m \u001b[32m83.2/83.2 kB\u001b[0m \u001b[31m5.0 MB/s\u001b[0m eta \u001b[36m0:00:00\u001b[0m\n",
            "\u001b[2K     \u001b[90m━━━━━━━━━━━━━━━━━━━━━━━━━━━━━━━━━━━━━━━━\u001b[0m \u001b[32m82.5/82.5 kB\u001b[0m \u001b[31m5.8 MB/s\u001b[0m eta \u001b[36m0:00:00\u001b[0m\n",
            "\u001b[2K     \u001b[90m━━━━━━━━━━━━━━━━━━━━━━━━━━━━━━━━━━━━━━━━\u001b[0m \u001b[32m81.0/81.0 kB\u001b[0m \u001b[31m7.7 MB/s\u001b[0m eta \u001b[36m0:00:00\u001b[0m\n",
            "\u001b[2K     \u001b[90m━━━━━━━━━━━━━━━━━━━━━━━━━━━━━━━━━━━━━━━━\u001b[0m \u001b[32m81.0/81.0 kB\u001b[0m \u001b[31m5.7 MB/s\u001b[0m eta \u001b[36m0:00:00\u001b[0m\n",
            "\u001b[2K     \u001b[90m━━━━━━━━━━━━━━━━━━━━━━━━━━━━━━━━━━━━━━━━\u001b[0m \u001b[32m80.8/80.8 kB\u001b[0m \u001b[31m6.1 MB/s\u001b[0m eta \u001b[36m0:00:00\u001b[0m\n",
            "\u001b[2K     \u001b[90m━━━━━━━━━━━━━━━━━━━━━━━━━━━━━━━━━━━━━━━━\u001b[0m \u001b[32m80.7/80.7 kB\u001b[0m \u001b[31m4.6 MB/s\u001b[0m eta \u001b[36m0:00:00\u001b[0m\n",
            "\u001b[2K     \u001b[90m━━━━━━━━━━━━━━━━━━━━━━━━━━━━━━━━━━━━━━━━\u001b[0m \u001b[32m81.5/81.5 kB\u001b[0m \u001b[31m5.6 MB/s\u001b[0m eta \u001b[36m0:00:00\u001b[0m\n",
            "\u001b[2K     \u001b[90m━━━━━━━━━━━━━━━━━━━━━━━━━━━━━━━━━━━━━━━━\u001b[0m \u001b[32m90.4/90.4 kB\u001b[0m \u001b[31m6.8 MB/s\u001b[0m eta \u001b[36m0:00:00\u001b[0m\n",
            "\u001b[2K     \u001b[90m━━━━━━━━━━━━━━━━━━━━━━━━━━━━━━━━━━━━━━━━\u001b[0m \u001b[32m117.7/117.7 kB\u001b[0m \u001b[31m7.6 MB/s\u001b[0m eta \u001b[36m0:00:00\u001b[0m\n",
            "\u001b[2K     \u001b[90m━━━━━━━━━━━━━━━━━━━━━━━━━━━━━━━━━━━━━━━━\u001b[0m \u001b[32m60.6/60.6 kB\u001b[0m \u001b[31m4.6 MB/s\u001b[0m eta \u001b[36m0:00:00\u001b[0m\n",
            "\u001b[2K     \u001b[90m━━━━━━━━━━━━━━━━━━━━━━━━━━━━━━━━━━━━━━━━\u001b[0m \u001b[32m71.5/71.5 kB\u001b[0m \u001b[31m5.4 MB/s\u001b[0m eta \u001b[36m0:00:00\u001b[0m\n",
            "\u001b[2K     \u001b[90m━━━━━━━━━━━━━━━━━━━━━━━━━━━━━━━━━━━━━━━━\u001b[0m \u001b[32m3.1/3.1 MB\u001b[0m \u001b[31m48.2 MB/s\u001b[0m eta \u001b[36m0:00:00\u001b[0m\n",
            "\u001b[2K     \u001b[90m━━━━━━━━━━━━━━━━━━━━━━━━━━━━━━━━━━━━━━━━\u001b[0m \u001b[32m1.7/1.7 MB\u001b[0m \u001b[31m38.4 MB/s\u001b[0m eta \u001b[36m0:00:00\u001b[0m\n",
            "\u001b[2K     \u001b[90m━━━━━━━━━━━━━━━━━━━━━━━━━━━━━━━━━━━━━━━━\u001b[0m \u001b[32m117.8/117.8 kB\u001b[0m \u001b[31m1.3 MB/s\u001b[0m eta \u001b[36m0:00:00\u001b[0m\n",
            "\u001b[2K     \u001b[90m━━━━━━━━━━━━━━━━━━━━━━━━━━━━━━━━━━━━━━━━\u001b[0m \u001b[32m69.6/69.6 kB\u001b[0m \u001b[31m4.0 MB/s\u001b[0m eta \u001b[36m0:00:00\u001b[0m\n",
            "\u001b[2K     \u001b[90m━━━━━━━━━━━━━━━━━━━━━━━━━━━━━━━━━━━━━━━━\u001b[0m \u001b[32m526.7/526.7 kB\u001b[0m \u001b[31m23.7 MB/s\u001b[0m eta \u001b[36m0:00:00\u001b[0m\n",
            "\u001b[2K     \u001b[90m━━━━━━━━━━━━━━━━━━━━━━━━━━━━━━━━━━━━━━━━\u001b[0m \u001b[32m58.3/58.3 kB\u001b[0m \u001b[31m5.1 MB/s\u001b[0m eta \u001b[36m0:00:00\u001b[0m\n",
            "\u001b[?25h  Building wheel for lark (setup.py) ... \u001b[?25l\u001b[?25hdone\n",
            "  Building wheel for rpcq (setup.py) ... \u001b[?25l\u001b[?25hdone\n",
            "\u001b[31mERROR: pip's dependency resolver does not currently take into account all the packages that are installed. This behaviour is the source of the following dependency conflicts.\n",
            "referencing 0.35.1 requires attrs>=22.2.0, but you have attrs 21.4.0 which is incompatible.\u001b[0m\u001b[31m\n",
            "\u001b[0m"
          ]
        }
      ],
      "source": [
        "!pip install --quiet cirq\n",
        "\n",
        "import cirq\n",
        "\n",
        "import cirq_google"
      ]
    },
    {
      "cell_type": "markdown",
      "metadata": {
        "id": "xr-MMoXgNsUQ"
      },
      "source": [
        "## Qubits\n",
        "\n",
        "Cirq has 3 ways to initialise qubits\n",
        "\n",
        "  .NamedQubits: here we can give names to the qubits. \\\n",
        "  .LineQubits: Here we can create qubits using arrays. \\\n",
        "  .GridQubits: Here qubits are a part of a grid which we can manipulate ([source](https://quantumai.google/reference/python/cirq/GridQubit)).\n",
        "\n",
        "\n",
        "Here are some examples of defining each type of qubit."
      ]
    },
    {
      "cell_type": "code",
      "execution_count": 3,
      "metadata": {
        "id": "PsgSo-H0Os8X",
        "colab": {
          "base_uri": "https://localhost:8080/"
        },
        "outputId": "f51e46ea-bbc6-454e-ddf1-00a65bc9e33b"
      },
      "outputs": [
        {
          "output_type": "stream",
          "name": "stdout",
          "text": [
            "[cirq.GridQubit(0, 0), cirq.GridQubit(0, 1), cirq.GridQubit(0, 2), cirq.GridQubit(0, 3), cirq.GridQubit(1, 0), cirq.GridQubit(1, 1), cirq.GridQubit(1, 2), cirq.GridQubit(1, 3)]\n"
          ]
        }
      ],
      "source": [
        "# named qubits (primarily used when we want to give names to qubits for algorithms)\n",
        "q0 = cirq.NamedQubit('alice')\n",
        "q1 = cirq.NamedQubit('bob')\n",
        "\n",
        "\n",
        "# we can create individual qubits that are part of a lined arch.\n",
        "q2 = cirq.LineQubit(2)\n",
        "\n",
        "# we can even use the python Range function to create multiple at once\n",
        "q0, q1, q2 = cirq.LineQubit.range(3)\n",
        "\n",
        "# We can create qubits that are a part of a grid (more useful when working on actual hardware).\n",
        "q4_5 = cirq.GridQubit(4, 5)\n",
        "\n",
        "# Or using shapes like square, rectangle. (you can also use custom shapes)\n",
        "qubits = cirq.GridQubit.rect(rows = 2, cols = 4 )\n",
        "print(qubits)"
      ]
    },
    {
      "cell_type": "markdown",
      "metadata": {
        "id": "4zE6AutyQhQ6"
      },
      "source": [
        "There are also pre-packaged sets of qubits called [Devices](https://quantumai.google/cirq/hardware/devices).  These follow the architecture of famous hardware that can be imported. Cirq also lets us make api calls to popular hardware such as AQT, Azure etc (check devices documantation) and use their mappings."
      ]
    },
    {
      "cell_type": "code",
      "execution_count": null,
      "metadata": {
        "id": "B0Dwgu-lQLpq",
        "colab": {
          "base_uri": "https://localhost:8080/"
        },
        "outputId": "5e72f3e3-d69c-489f-f1df-ae7c889c415a"
      },
      "outputs": [
        {
          "output_type": "stream",
          "name": "stdout",
          "text": [
            "                                             (0, 5)───(0, 6)\n",
            "                                             │        │\n",
            "                                             │        │\n",
            "                                    (1, 4)───(1, 5)───(1, 6)───(1, 7)\n",
            "                                    │        │        │        │\n",
            "                                    │        │        │        │\n",
            "                           (2, 3)───(2, 4)───(2, 5)───(2, 6)───(2, 7)───(2, 8)\n",
            "                           │        │        │        │        │        │\n",
            "                           │        │        │        │        │        │\n",
            "                  (3, 2)───(3, 3)───(3, 4)───(3, 5)───(3, 6)───(3, 7)───(3, 8)───(3, 9)\n",
            "                  │        │        │        │        │        │        │        │\n",
            "                  │        │        │        │        │        │        │        │\n",
            "         (4, 1)───(4, 2)───(4, 3)───(4, 4)───(4, 5)───(4, 6)───(4, 7)───(4, 8)───(4, 9)\n",
            "         │        │        │        │        │        │        │        │\n",
            "         │        │        │        │        │        │        │        │\n",
            "(5, 0)───(5, 1)───(5, 2)───(5, 3)───(5, 4)───(5, 5)───(5, 6)───(5, 7)───(5, 8)\n",
            "         │        │        │        │        │        │        │\n",
            "         │        │        │        │        │        │        │\n",
            "         (6, 1)───(6, 2)───(6, 3)───(6, 4)───(6, 5)───(6, 6)───(6, 7)\n",
            "                  │        │        │        │        │\n",
            "                  │        │        │        │        │\n",
            "                  (7, 2)───(7, 3)───(7, 4)───(7, 5)───(7, 6)\n",
            "                           │        │        │\n",
            "                           │        │        │\n",
            "                           (8, 3)───(8, 4)───(8, 5)\n",
            "                                    │\n",
            "                                    │\n",
            "                                    (9, 4)\n"
          ]
        }
      ],
      "source": [
        "#this is the diamond-shaped grid with 54 qubits that mimics the sycamore device from google.\n",
        "\n",
        "print(cirq_google.Sycamore)"
      ]
    },
    {
      "cell_type": "markdown",
      "metadata": {
        "id": "j1QTjyxLSe5c"
      },
      "source": [
        "## Gates and operations\n",
        "\n",
        "Now we can use the qubits to create operations that can be used to create circuits [Documentation](https://quantumai.google/cirq/build/gates).\n",
        "\n",
        "There are single gate operations such as Hadamard, Pauli X Y and Z gates and a lot more which are applied to single gates. \\\n",
        "\n",
        "\n",
        "There's also Multi gate operations such as CNOT, SWAP, CZ. \\\n",
        "\n",
        "\n",
        "There's a Measurement operation as well which measures the qubit. \\\n",
        "\n",
        "\n",
        "examples:"
      ]
    },
    {
      "cell_type": "code",
      "execution_count": 9,
      "metadata": {
        "id": "wDW-yU-fesDl",
        "colab": {
          "base_uri": "https://localhost:8080/"
        },
        "outputId": "03002679-7bd5-4e6e-e63d-75932586c283"
      },
      "outputs": [
        {
          "output_type": "stream",
          "name": "stdout",
          "text": [
            "q0, q1: q(0) q(1)\n",
            "Z(q(0))\n",
            "CNOT(q(0), q(1))\n",
            "SWAP(q(0), q(1))\n"
          ]
        }
      ],
      "source": [
        "Hadamard = cirq.H\n",
        "PauliZ = cirq.Z\n",
        "SWAPGate = cirq.SWAP\n",
        "\n",
        "#we can even create roots of gates such as X  to get sqrt(X) these can be used for more granular rotations compared to PauliX\n",
        "SqrtPauliX = cirq.X**0.5\n",
        "\n",
        "# Example operations\n",
        "q0,q1 = cirq.LineQubit.range(2)\n",
        "print(\"q0, q1:\",q0,q1)\n",
        "z_op = cirq.Z(q0)\n",
        "print(z_op)\n",
        "not_op = cirq.CNOT(q0, q1)\n",
        "print(not_op)\n",
        "sqrt_iswap_op = cirq.SQRT_ISWAP(q0, q1)\n",
        "\n",
        "# You can also use the gates you specified earlier.\n",
        "swap = SWAPGate(q0, q1)\n",
        "pauliZ = PauliZ(q0)\n",
        "print(swap)"
      ]
    },
    {
      "cell_type": "markdown",
      "source": [
        "cirq also lets us create custom gates. You can find more [here](https://quantumai.google/cirq/build/custom_gates)"
      ],
      "metadata": {
        "id": "tu71Zds4J21a"
      }
    },
    {
      "cell_type": "markdown",
      "metadata": {
        "id": "BnBGLMVvWVkz"
      },
      "source": [
        "## Circuits and moments\n",
        "\n",
        "To see how these gates work in a circuit we will now build circuits. Cirq also has this concept of moments. These can be thought of as time slices that seperate when each gate is executed in a circuit (better explained via example)(Think of these as times t1, t2 etc where we are interested in whats happening in the circuit or want to control which gates occur first.). \\\n",
        "\n",
        "Cirq explains a Quantum \"Circuit\" as a collection of the aforementioned \"Moments\" and moments themselves as a collections of gate operations on the qubits. \\\n",
        "\n",
        " A `Moment` is a collection of `Operation`s that all act during the same time slice. A `Moment` can be thought of as a vertical slice of a quantum circuit diagram. \\\n",
        "\n",
        "Cirq is optimised and by default will attempt to slide your operation into the earliest possible `Moment` when you insert it so if you want something different then we must pay attention to where we are placing moments.\n",
        "\n",
        "Circuits doccumentation in detail [here](https://quantumai.google/reference/python/cirq/Circuit)"
      ]
    },
    {
      "cell_type": "code",
      "execution_count": 10,
      "metadata": {
        "id": "HEuqEZcXkz3Q",
        "colab": {
          "base_uri": "https://localhost:8080/"
        },
        "outputId": "4f9a6474-ddc1-4d18-ba82-2ecb1f210acd"
      },
      "outputs": [
        {
          "output_type": "stream",
          "name": "stdout",
          "text": [
            "0: ───H───\n",
            "\n",
            "1: ───H───\n",
            "\n",
            "2: ───H───\n"
          ]
        }
      ],
      "source": [
        "#creating a simple circuit with 3 qubits and applyinh a Hadamard to each of them\n",
        "circuit = cirq.Circuit()\n",
        "qubits = cirq.LineQubit.range(3)\n",
        "circuit.append(cirq.H(qubits[0]))\n",
        "circuit.append(cirq.H(qubits[1]))\n",
        "circuit.append(cirq.H(qubits[2]))\n",
        "print(circuit)"
      ]
    },
    {
      "cell_type": "code",
      "execution_count": 11,
      "metadata": {
        "id": "bQVcMTfK5dFu",
        "colab": {
          "base_uri": "https://localhost:8080/"
        },
        "outputId": "3d11ce23-a5bb-4fe1-aa3d-1d0298889dfc"
      },
      "outputs": [
        {
          "output_type": "stream",
          "name": "stdout",
          "text": [
            "0: ───H───\n",
            "\n",
            "1: ───H───\n",
            "\n",
            "2: ───H───\n"
          ]
        }
      ],
      "source": [
        "#using python list comprehention to make it easier\n",
        "circuit = cirq.Circuit()\n",
        "ops = [cirq.H(q) for q in cirq.LineQubit.range(3)]\n",
        "circuit.append(ops)\n",
        "print(circuit)"
      ]
    },
    {
      "cell_type": "code",
      "source": [
        "circuit = cirq.Circuit()\n",
        "circuit.append([cirq.SWAP(q0, q1), cirq.H(q2)])\n",
        "print(circuit)"
      ],
      "metadata": {
        "colab": {
          "base_uri": "https://localhost:8080/"
        },
        "id": "4GeSahJrMdhO",
        "outputId": "eed2c97b-2450-49af-f83b-23b814c78ac7"
      },
      "execution_count": 14,
      "outputs": [
        {
          "output_type": "stream",
          "name": "stdout",
          "text": [
            "0: ───×───\n",
            "      │\n",
            "1: ───×───\n",
            "\n",
            "2: ───H───\n"
          ]
        }
      ]
    },
    {
      "cell_type": "markdown",
      "metadata": {
        "id": "a6bd4d3152d5"
      },
      "source": [
        "All the Hadamards are made to occure at the same time in the circuits 1 and 2 above. in circuit 3 Hadamard Op on q2 is pushed ot the left. Cirq pushes non overlapping operations to the left by default. For overlaping gates they are put one after the other like in circuit 3."
      ]
    },
    {
      "cell_type": "code",
      "source": [
        "circuit3 = cirq.Circuit()\n",
        "circuit3.append([cirq.SWAP(q0, q1), cirq.H(q1),  cirq.H(q2),cirq.CNOT(q1,q2)])\n",
        "print(circuit3)"
      ],
      "metadata": {
        "colab": {
          "base_uri": "https://localhost:8080/"
        },
        "id": "olj1mATaM-88",
        "outputId": "579e34ca-3b75-4fa3-8f35-a5b19bbb53da"
      },
      "execution_count": 24,
      "outputs": [
        {
          "output_type": "stream",
          "name": "stdout",
          "text": [
            "0: ───×───────────\n",
            "      │\n",
            "1: ───×───H───@───\n",
            "              │\n",
            "2: ───H───────X───\n"
          ]
        }
      ]
    },
    {
      "cell_type": "markdown",
      "metadata": {
        "id": "3FC9bdlXmShh"
      },
      "source": [
        "What if we want the hadamards in circuit 3 to occur together (no reason). This is where the \"Moments\"\" are usefull.\n",
        "\n",
        "you can create the circuit moment-by-moment or use a different `InsertStrategy`, explained clearly [Here](https://quantumai.google/cirq/build/circuits).\n",
        "\n",
        "basically we add time slices to our circuits and organise our circuit using them.\n",
        "\n",
        ""
      ]
    },
    {
      "cell_type": "code",
      "execution_count": null,
      "metadata": {
        "id": "4AEahodTnYiI",
        "colab": {
          "base_uri": "https://localhost:8080/"
        },
        "outputId": "ef3e6eda-1a7e-4748-f878-324e8229b0ef"
      },
      "outputs": [
        {
          "output_type": "stream",
          "name": "stdout",
          "text": [
            "0: ───H───────────\n",
            "\n",
            "1: ───────H───────\n",
            "\n",
            "2: ───────────H───\n"
          ]
        }
      ],
      "source": [
        "# Creates each gate in a separate moment by passing an iterable of Moments instead of Operations.\n",
        "print(cirq.Circuit(cirq.Moment([cirq.H(q)]) for q in cirq.LineQubit.range(3)))"
      ]
    },
    {
      "cell_type": "code",
      "source": [
        "# for circuit 3 (Moving both hadamard together)\n",
        "from cirq.circuits import InsertStrategy\n",
        "\n",
        "circuit32 = cirq.Circuit()\n",
        "moment = cirq.Moment(cirq.H(q1),  cirq.H(q2))\n",
        "circuit32.append([cirq.SWAP(q0, q1), moment,cirq.CNOT(q1,q2)])\n",
        "print(circuit32)"
      ],
      "metadata": {
        "colab": {
          "base_uri": "https://localhost:8080/"
        },
        "id": "_YjeAkz8O4mH",
        "outputId": "53abf443-0252-4873-b496-b3d92544d359"
      },
      "execution_count": 32,
      "outputs": [
        {
          "output_type": "stream",
          "name": "stdout",
          "text": [
            "0: ───×───────────\n",
            "      │\n",
            "1: ───×───H───@───\n",
            "              │\n",
            "2: ───────H───X───\n"
          ]
        }
      ]
    },
    {
      "cell_type": "markdown",
      "metadata": {
        "id": "M8oLYwusz4XE"
      },
      "source": [
        "## Unitary matrices\n",
        "\n",
        "Many quantum operations have unitary matrix representations.  This matrix can be accessed by applying `cirq.unitary(operation)` to that `operation`.  This can be applied to gates, operations, and circuits that support this protocol and will return the unitary matrix that represents the object."
      ]
    },
    {
      "cell_type": "code",
      "execution_count": 38,
      "metadata": {
        "id": "xn9nnBA70s23",
        "colab": {
          "base_uri": "https://localhost:8080/"
        },
        "outputId": "6f6f3af7-b5c1-4e65-e9a9-a4b121301017"
      },
      "outputs": [
        {
          "output_type": "stream",
          "name": "stdout",
          "text": [
            "Unitary of the X gate\n",
            "[[0.+0.j 1.+0.j]\n",
            " [1.+0.j 0.+0.j]]\n",
            "Unitary of SWAP operator on two qubits.\n",
            "[[1.+0.j 0.+0.j 0.+0.j 0.+0.j]\n",
            " [0.+0.j 0.+0.j 1.+0.j 0.+0.j]\n",
            " [0.+0.j 1.+0.j 0.+0.j 0.+0.j]\n",
            " [0.+0.j 0.+0.j 0.+0.j 1.+0.j]]\n",
            "Unitary of a sample circuit\n",
            "[[0.+0.j 0.+0.j 1.+0.j 0.+0.j]\n",
            " [1.+0.j 0.+0.j 0.+0.j 0.+0.j]\n",
            " [0.+0.j 0.+0.j 0.+0.j 1.+0.j]\n",
            " [0.+0.j 1.+0.j 0.+0.j 0.+0.j]]\n"
          ]
        }
      ],
      "source": [
        "print('Unitary of the X gate')\n",
        "print(cirq.unitary(cirq.X))\n",
        "\n",
        "print('Unitary of SWAP operator on two qubits.')\n",
        "q0, q1 = cirq.LineQubit.range(2)\n",
        "print(cirq.unitary(cirq.SWAP(q0, q1)))\n",
        "\n",
        "print('Unitary of a sample circuit')\n",
        "print(cirq.unitary(cirq.Circuit(cirq.X(q0), cirq.SWAP(q0, q1))))"
      ]
    },
    {
      "cell_type": "code",
      "source": [
        "#You can also convert Unitary to custom gates as shown in the link above:\n",
        "import numpy as np\n",
        "\"\"\"Define a custom single-qubit gate.\"\"\"\n",
        "class MyGate(cirq.Gate):\n",
        "    def __init__(self):\n",
        "        super(MyGate, self)\n",
        "\n",
        "    def _num_qubits_(self):\n",
        "        return 1\n",
        "\n",
        "    def _unitary_(self):\n",
        "        return np.array([\n",
        "            [1.0,  1.0],\n",
        "            [-1.0, 1.0]\n",
        "        ]) / np.sqrt(2)\n",
        "\n",
        "    def _circuit_diagram_info_(self, args):\n",
        "        return \"G\"\n",
        "\n",
        "my_gate = MyGate()\n",
        "print(cirq.unitary(my_gate))"
      ],
      "metadata": {
        "colab": {
          "base_uri": "https://localhost:8080/"
        },
        "id": "wzChmShzR5F_",
        "outputId": "e13dbe3c-4852-42a6-b5d1-2f1839eb1c15"
      },
      "execution_count": 39,
      "outputs": [
        {
          "output_type": "stream",
          "name": "stdout",
          "text": [
            "[[ 0.70710678  0.70710678]\n",
            " [-0.70710678  0.70710678]]\n"
          ]
        }
      ]
    },
    {
      "cell_type": "markdown",
      "source": [
        "##Noise\n",
        "\n",
        "Cirq allows us to add noise to circuits at multiple levels.\n",
        "\n",
        "we can add noise to the entire circuit, while taking measurements (documentation of both these might be incomplete wasnt able to make it run) and add noise to intividual bits and connections.\n",
        "\n",
        "We can see cirq implementation of a couple of types noise below.\n",
        "\n",
        "[Full Documentation on Noise](https://quantumai.google/cirq/noise/representing_noise)"
      ],
      "metadata": {
        "id": "xLdhLAMURmMx"
      }
    },
    {
      "cell_type": "markdown",
      "metadata": {
        "id": "775a6df1be6d"
      },
      "source": [
        "### Bit flip\n",
        "\n",
        "`cirq.BitFlipChannel` (or `cirq.bit_flip`) is equivalent to applying `cirq.X` with a given probability. This channel is best used to represent state-agnostic bit flip errors in the body of a circuit."
      ]
    },
    {
      "cell_type": "code",
      "execution_count": 41,
      "metadata": {
        "id": "60f9f3b43759",
        "colab": {
          "base_uri": "https://localhost:8080/"
        },
        "outputId": "117422e1-5c8c-4dbc-d017-a5d07a29c9d4"
      },
      "outputs": [
        {
          "output_type": "stream",
          "name": "stdout",
          "text": [
            "Counter({1: 504, 0: 496})\n"
          ]
        }
      ],
      "source": [
        "q0 = cirq.LineQubit(0)\n",
        "circuit = cirq.Circuit(\n",
        "    cirq.bit_flip(p=0.5).on(q0),\n",
        "    cirq.measure(q0, key='result')\n",
        ")\n",
        "result = cirq.Simulator(seed=0).run(circuit, repetitions=1000)\n",
        "print(result.histogram(key='result'))"
      ]
    },
    {
      "cell_type": "markdown",
      "metadata": {
        "id": "352e1b654056"
      },
      "source": [
        "### Amplitude damping\n",
        "\n",
        "`cirq.AmplitudeDampingChannel` (or `cirq.amplitude_damp`) performs a $|1\\rangle \\rightarrow |0\\rangle$ transformation with some probability `gamma`, leaving the existing $|0\\rangle$ state alone. This channel is best used to represent an idealized form of energy dissipation, where qubits decay from $|1\\rangle$ to $|0\\rangle$."
      ]
    },
    {
      "cell_type": "code",
      "execution_count": 43,
      "metadata": {
        "id": "2e8b3868bf6c",
        "colab": {
          "base_uri": "https://localhost:8080/"
        },
        "outputId": "8ed0c8ea-2f35-49f5-d657-63ba00916aab"
      },
      "outputs": [
        {
          "output_type": "stream",
          "name": "stdout",
          "text": [
            "Counter({1: 795, 0: 205})\n"
          ]
        }
      ],
      "source": [
        "q0 = cirq.LineQubit(0)\n",
        "circuit = cirq.Circuit(\n",
        "    cirq.X(q0),\n",
        "    cirq.amplitude_damp(gamma=0.2).on(q0),\n",
        "    cirq.measure(q0, key='result')\n",
        ")\n",
        "result = cirq.Simulator(seed=0).run(circuit, repetitions=1000)\n",
        "print(result.histogram(key='result'))"
      ]
    },
    {
      "cell_type": "markdown",
      "metadata": {
        "id": "xZ68bWEjoMKt"
      },
      "source": [
        "## Simulation\n",
        "\n",
        "Once we have built our circuits with the necesary noise we can get the simulated results of running our circuit using cirq's \"Simulator()\" (20 qubit limit)\n",
        "\n",
        "[Documentation](https://quantumai.google/cirq/simulate/simulation)\n",
        "\n",
        "There are two different approaches to using a simulator:\n",
        "\n",
        "`simulate()`:  Offers a detailed, comprehensive look at the quantum state (wavefunction) after circuit execution. It is for when you need to look \"under the hood\" of your quantum circuit. It's output typically includes probabilities, phase information, and can even show how entanglements and superpositions are created within the circuit.\n",
        "`run()`: Outputs measurement results as bit strings, simulating the practical outcome of running a quantum circuit on a physical device.\n",
        "\n"
      ]
    },
    {
      "cell_type": "code",
      "source": [
        "#simple hadamard\n",
        "simple_hadamard = cirq.Circuit()\n",
        "q0 = cirq.LineQubit(0)\n",
        "simple_hadamard.append(cirq.H(q0))\n",
        "s = cirq.Simulator()\n",
        "results = s.simulate(simple_hadamard)\n",
        "print(results)\n"
      ],
      "metadata": {
        "colab": {
          "base_uri": "https://localhost:8080/"
        },
        "id": "y4UWcwFwWtUw",
        "outputId": "67ddc531-83b0-4c45-8a84-8661245995fb"
      },
      "execution_count": 48,
      "outputs": [
        {
          "output_type": "stream",
          "name": "stdout",
          "text": [
            "measurements: (no measurements)\n",
            "\n",
            "qubits: (cirq.LineQubit(0),)\n",
            "output vector: 0.707|0⟩ + 0.707|1⟩\n",
            "\n",
            "phase:\n",
            "output vector: |⟩\n"
          ]
        }
      ]
    },
    {
      "cell_type": "code",
      "source": [
        "#adding one more hadamard (retirn to |0>)\n",
        "simple_hadamard.append(cirq.H(q0))\n",
        "results = s.simulate(simple_hadamard)\n",
        "print(results)"
      ],
      "metadata": {
        "colab": {
          "base_uri": "https://localhost:8080/"
        },
        "id": "FOmgT7ulXqQE",
        "outputId": "7ddf42f0-0029-4781-9012-3eb6c56feda5"
      },
      "execution_count": 49,
      "outputs": [
        {
          "output_type": "stream",
          "name": "stdout",
          "text": [
            "measurements: (no measurements)\n",
            "\n",
            "qubits: (cirq.LineQubit(0),)\n",
            "output vector: |0⟩\n",
            "\n",
            "phase:\n",
            "output vector: |⟩\n"
          ]
        }
      ]
    },
    {
      "cell_type": "markdown",
      "source": [
        "We can take a look at the example simulation a 2-qubit \"Bell State\" shown in the documentation:"
      ],
      "metadata": {
        "id": "23VaIf0pWkBr"
      }
    },
    {
      "cell_type": "code",
      "execution_count": 44,
      "metadata": {
        "id": "AwC4SL6CHpXm",
        "colab": {
          "base_uri": "https://localhost:8080/"
        },
        "outputId": "458647b6-ac73-445d-b527-4b045fb59f03"
      },
      "outputs": [
        {
          "output_type": "stream",
          "name": "stdout",
          "text": [
            "Simulate the circuit:\n",
            "measurements: (no measurements)\n",
            "\n",
            "qubits: (cirq.LineQubit(0), cirq.LineQubit(1))\n",
            "output vector: 0.707|00⟩ + 0.707|11⟩\n",
            "\n",
            "phase:\n",
            "output vector: |⟩\n"
          ]
        }
      ],
      "source": [
        "# Create a circuit to generate a Bell State:\n",
        "# 1/sqrt(2) * ( |00⟩ + |11⟩ )\n",
        "bell_circuit = cirq.Circuit()\n",
        "q0, q1 = cirq.LineQubit.range(2)\n",
        "bell_circuit.append(cirq.H(q0))\n",
        "bell_circuit.append(cirq.CNOT(q0, q1))\n",
        "\n",
        "# Initialize Simulator\n",
        "s = cirq.Simulator()\n",
        "\n",
        "print('Simulate the circuit:')\n",
        "results = s.simulate(bell_circuit)\n",
        "print(results)\n",
        "\n",
        "# For sampling, we need to add a measurement at the end\n",
        "bell_circuit.append(cirq.measure(q0, q1, key='result'))\n",
        "\n",
        "# Sample the circuit\n",
        "sample = s.run(bell_circuit, repetitions=1000)\n"
      ]
    },
    {
      "cell_type": "code",
      "source": [
        "print(sample)"
      ],
      "metadata": {
        "colab": {
          "base_uri": "https://localhost:8080/"
        },
        "id": "8i9CU6pAWNNs",
        "outputId": "59120d71-2764-4f4f-ec15-7ee34100c8e6"
      },
      "execution_count": 45,
      "outputs": [
        {
          "output_type": "stream",
          "name": "stdout",
          "text": [
            "result=1101100111001001111110101000110000111101111011111001001000101111110011110011011100000101000000010100101110111001000111100000000100111001001010000101111101101001010000000111100001110100010011101111110001100101110110110100011111111111000101001110010010010000001110000011001011010110110100111011101010010100110011101010110111101010111110001010001110001100100100000110010000101110010000110100010001100011110010000110101011001000010100000100110011110100100100001010110101111001111001011111111100100101101110101111101011101111000001100101101000001010000111100001010101001001110101011001000011110110111010101000011010000111010100101100010010100000010010100111011000000111001110111000010101111101001110000010001000101010010111111010111010101110010111001110101011011010110101000110010000000000010001110100101111011111001001100000001111000001010011000000011010110010010100100010011100110100110001100011111001011001010011010100010111110101000000110101010100000111000000101111100011010001101000110010111101110110, 1101100111001001111110101000110000111101111011111001001000101111110011110011011100000101000000010100101110111001000111100000000100111001001010000101111101101001010000000111100001110100010011101111110001100101110110110100011111111111000101001110010010010000001110000011001011010110110100111011101010010100110011101010110111101010111110001010001110001100100100000110010000101110010000110100010001100011110010000110101011001000010100000100110011110100100100001010110101111001111001011111111100100101101110101111101011101111000001100101101000001010000111100001010101001001110101011001000011110110111010101000011010000111010100101100010010100000010010100111011000000111001110111000010101111101001110000010001000101010010111111010111010101110010111001110101011011010110101000110010000000000010001110100101111011111001001100000001111000001010011000000011010110010010100100010011100110100110001100011111001011001010011010100010111110101000000110101010100000111000000101111100011010001101000110010111101110110\n"
          ]
        }
      ]
    },
    {
      "cell_type": "markdown",
      "metadata": {
        "id": "be79fa541b8a"
      },
      "source": [
        "## Visualizing Results\n",
        "\n",
        "When you use `run()` to get a sample distribution of measurements, you can directly graph the simulated samples as a histogram with `cirq.plot_state_histogram`."
      ]
    },
    {
      "cell_type": "code",
      "execution_count": 47,
      "metadata": {
        "id": "69dca44091f4",
        "colab": {
          "base_uri": "https://localhost:8080/",
          "height": 472
        },
        "outputId": "fde2177b-3bfa-426e-8605-2af5f27daf56"
      },
      "outputs": [
        {
          "output_type": "display_data",
          "data": {
            "text/plain": [
              "<Figure size 640x480 with 1 Axes>"
            ],
            "image/png": "[encoded data removed]"
          },
          "metadata": {}
        }
      ],
      "source": [
        "import matplotlib.pyplot as plt\n",
        "\n",
        "cirq.plot_state_histogram(sample, plt.subplot())\n",
        "plt.show()"
      ]
    },
    {
      "cell_type": "markdown",
      "source": [
        "Here I've created the quantum teleportation circuit and simulated it using cirq."
      ],
      "metadata": {
        "id": "NAsmTqTAFEtQ"
      }
    },
    {
      "cell_type": "markdown",
      "source": [
        "[creating classical comm line](https://quantumai.google/cirq/build/classical_control)"
      ],
      "metadata": {
        "id": "NzBf7MNmdk8o"
      }
    },
    {
      "cell_type": "code",
      "source": [
        "def quantum_teleportation_circuit(gate):\n",
        "    circuit = cirq.Circuit()\n",
        "    alice = cirq.NamedQubit('alice')\n",
        "    msg = cirq.NamedQubit('msg')\n",
        "    bob = cirq.NamedQubit('bob')\n",
        "\n",
        "    #entangles qubit betweeen  Alice and Bob\n",
        "    circuit.append([cirq.H(alice), cirq.CNOT(alice, bob)])\n",
        "\n",
        "\n",
        "    # Creates a message to send.\n",
        "    circuit.append(gate(msg))\n",
        "\n",
        "\n",
        "    # Bell measurement of the Message and Alice's entangled qubit.\n",
        "    circuit.append([cirq.CNOT(msg, alice), cirq.H(msg), cirq.measure(msg,alice)])\n",
        "\n",
        "\n",
        "    # Uses the two classical bits from the Bell measurement to recover the\n",
        "    # original quantum Message on Bob's entangled qubit.\n",
        "    circuit.append([cirq.CNOT(alice, bob), cirq.CZ(msg,bob)])\n",
        "\n",
        "    return circuit"
      ],
      "metadata": {
        "id": "GWSKNK2HO-fo"
      },
      "execution_count": 64,
      "outputs": []
    },
    {
      "cell_type": "code",
      "source": [
        "# gate for msg qubit Pauili X\n",
        "\n",
        "gate = cirq.X\n",
        "\n",
        "#create circuit\n",
        "circuit = quantum_teleportation_circuit(gate)\n",
        "print(circuit)"
      ],
      "metadata": {
        "colab": {
          "base_uri": "https://localhost:8080/"
        },
        "id": "1MMnJ2w3ggph",
        "outputId": "1ea0ad5c-3c65-4fff-9848-5ac0a8bb3064"
      },
      "execution_count": 71,
      "outputs": [
        {
          "output_type": "stream",
          "name": "stdout",
          "text": [
            "alice: ───H───@───X───────M───@───────\n",
            "              │   │       │   │\n",
            "bob: ─────────X───┼───────┼───X───@───\n",
            "                  │       │       │\n",
            "msg: ─────X───────@───H───M───────@───\n"
          ]
        }
      ]
    },
    {
      "cell_type": "code",
      "source": [
        "#block sphere\n",
        "import numpy as np\n",
        "message = cirq.Circuit(gate.on(cirq.NamedQubit('msg'))).final_state_vector()\n",
        "message_bloch_vector = cirq.bloch_vector_from_state_vector(message,index=0)\n",
        "\n",
        "print(\"bloch sphere\")\n",
        "print(message_bloch_vector)"
      ],
      "metadata": {
        "colab": {
          "base_uri": "https://localhost:8080/"
        },
        "id": "C1LjA7F5g1ap",
        "outputId": "12959ef1-9600-4f9d-e3e7-ae2a3903a382"
      },
      "execution_count": 72,
      "outputs": [
        {
          "output_type": "stream",
          "name": "stdout",
          "text": [
            "bloch sphere\n",
            "[ 0.  0. -1.]\n"
          ]
        }
      ]
    },
    {
      "cell_type": "code",
      "source": [
        "# gate for msg qubit Pauili Z\n",
        "gate = cirq.Z\n",
        "\n",
        "#create circuit\n",
        "circuit = quantum_teleportation_circuit(gate)\n",
        "print(circuit)"
      ],
      "metadata": {
        "colab": {
          "base_uri": "https://localhost:8080/"
        },
        "id": "Oft6ROIAhvPH",
        "outputId": "1804061e-2350-4132-9148-412a67216deb"
      },
      "execution_count": 75,
      "outputs": [
        {
          "output_type": "stream",
          "name": "stdout",
          "text": [
            "alice: ───H───@───X───────M───@───────\n",
            "              │   │       │   │\n",
            "bob: ─────────X───┼───────┼───X───@───\n",
            "                  │       │       │\n",
            "msg: ─────Z───────@───H───M───────@───\n"
          ]
        }
      ]
    },
    {
      "cell_type": "code",
      "source": [
        "message = cirq.Circuit(gate.on(cirq.NamedQubit('msg'))).final_state_vector()\n",
        "message_bloch_vector = cirq.bloch_vector_from_state_vector(message,index=0)\n",
        "\n",
        "print(\"bloch sphere\")\n",
        "print(message_bloch_vector)"
      ],
      "metadata": {
        "colab": {
          "base_uri": "https://localhost:8080/"
        },
        "id": "uGs45imOh-bw",
        "outputId": "bb54f5e9-2eff-45fc-ff3a-466cf96cbf0c"
      },
      "execution_count": 76,
      "outputs": [
        {
          "output_type": "stream",
          "name": "stdout",
          "text": [
            "bloch sphere\n",
            "[0. 0. 1.]\n"
          ]
        }
      ]
    },
    {
      "cell_type": "markdown",
      "source": [
        "Tried Noisy circuit but got errors"
      ],
      "metadata": {
        "id": "EGqwNaf3iNaV"
      }
    },
    {
      "cell_type": "code",
      "source": [],
      "metadata": {
        "id": "mpZ6SuPFh_Vl"
      },
      "execution_count": null,
      "outputs": []
    }
  ],
  "metadata": {
    "colab": {
      "provenance": []
    },
    "kernelspec": {
      "display_name": "Python 3",
      "name": "python3"
    }
  },
  "nbformat": 4,
  "nbformat_minor": 0
}