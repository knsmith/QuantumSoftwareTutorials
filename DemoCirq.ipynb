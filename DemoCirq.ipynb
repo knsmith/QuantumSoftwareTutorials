{
 "cells": [
  {
   "cell_type": "markdown",
   "metadata": {
    "id": "Me7G0WVTHwHg"
   },
   "source": [
    "# Cirq basic\n"
   ]
  },
  {
   "cell_type": "code",
   "execution_count": null,
   "metadata": {
    "id": "-C3oi_RRSGiy"
   },
   "outputs": [],
   "source": []
  },
  {
   "cell_type": "markdown",
   "metadata": {
    "id": "67gUU740MSXd"
   },
   "source": [
    "we will look at the basics of how to use Cirq. I will talk about how to use qubits, different devices, gates, operations, unitary matrices, adding noise and run a couple of circuits\n"
   ]
  },
  {
   "cell_type": "markdown",
   "metadata": {
    "id": "1dOjJlgrNUuz"
   },
   "source": [
    "installing Cirq"
   ]
  },
  {
   "cell_type": "code",
   "execution_count": null,
   "metadata": {
    "colab": {
     "base_uri": "https://localhost:8080/"
    },
    "id": "bd9529db1c0b",
    "outputId": "91349823-0b5a-4cb1-896d-970a9b90d04b"
   },
   "outputs": [],
   "source": [
    "!pip install --quiet cirq\n",
    "!pip install cirq-google\n",
    "\n",
    "import cirq\n",
    "\n",
    "import cirq_google"
   ]
  },
  {
   "cell_type": "markdown",
   "metadata": {
    "id": "xr-MMoXgNsUQ"
   },
   "source": [
    "## Qubits\n",
    "\n",
    "Cirq has 3 ways to initialise qubits\n",
    "\n",
    "  .NamedQubits: here we can give names to the qubits. \\\n",
    "  .LineQubits: Here we can create qubits using arrays. \\\n",
    "  .GridQubits: Here qubits are a part of a grid which we can manipulate ([source](https://quantumai.google/reference/python/cirq/GridQubit)).\n",
    "\n",
    "\n",
    "Here are some examples of defining each type of qubit."
   ]
  },
  {
   "cell_type": "code",
   "execution_count": null,
   "metadata": {
    "colab": {
     "base_uri": "https://localhost:8080/"
    },
    "id": "PsgSo-H0Os8X",
    "outputId": "f51e46ea-bbc6-454e-ddf1-00a65bc9e33b"
   },
   "outputs": [],
   "source": [
    "# named qubits (primarily used when we want to give names to qubits for algorithms)\n",
    "q0 = cirq.NamedQubit('alice')\n",
    "q1 = cirq.NamedQubit('bob')\n",
    "\n",
    "\n",
    "# we can create individual qubits that are part of a lined arch.\n",
    "q2 = cirq.LineQubit(2)\n",
    "\n",
    "# we can even use the python Range function to create multiple at once\n",
    "q0, q1, q2 = cirq.LineQubit.range(3)\n",
    "\n",
    "# We can create qubits that are a part of a grid (more useful when working on actual hardware).\n",
    "q4_5 = cirq.GridQubit(4, 5)\n",
    "\n",
    "# Or using shapes like square, rectangle. (you can also use custom shapes)\n",
    "qubits = cirq.GridQubit.rect(rows = 2, cols = 4 )\n",
    "print(qubits)"
   ]
  },
  {
   "cell_type": "markdown",
   "metadata": {
    "id": "4zE6AutyQhQ6"
   },
   "source": [
    "There are also pre-packaged sets of qubits called [Devices](https://quantumai.google/cirq/hardware/devices).  These follow the architecture of famous hardware that can be imported. Cirq also lets us make api calls to popular hardware such as AQT, Azure etc (check devices documantation) and use their mappings."
   ]
  },
  {
   "cell_type": "code",
   "execution_count": null,
   "metadata": {
    "colab": {
     "base_uri": "https://localhost:8080/"
    },
    "id": "B0Dwgu-lQLpq",
    "outputId": "5e72f3e3-d69c-489f-f1df-ae7c889c415a"
   },
   "outputs": [],
   "source": [
    "#this is the diamond-shaped grid with 54 qubits that mimics the sycamore device from google.\n",
    "\n",
    "print(cirq_google.Sycamore)"
   ]
  },
  {
   "cell_type": "markdown",
   "metadata": {
    "id": "j1QTjyxLSe5c"
   },
   "source": [
    "## Gates and operations\n",
    "\n",
    "Now we can use the qubits to create operations that can be used to create circuits [Documentation](https://quantumai.google/cirq/build/gates).\n",
    "\n",
    "There are single gate operations such as Hadamard, Pauli X Y and Z gates and a lot more which are applied to single gates. \\\n",
    "\n",
    "\n",
    "There's also Multi gate operations such as CNOT, SWAP, CZ. \\\n",
    "\n",
    "\n",
    "There's a Measurement operation as well which measures the qubit. \\\n",
    "\n",
    "\n",
    "examples:"
   ]
  },
  {
   "cell_type": "code",
   "execution_count": null,
   "metadata": {
    "colab": {
     "base_uri": "https://localhost:8080/"
    },
    "id": "wDW-yU-fesDl",
    "outputId": "03002679-7bd5-4e6e-e63d-75932586c283"
   },
   "outputs": [],
   "source": [
    "Hadamard = cirq.H\n",
    "PauliZ = cirq.Z\n",
    "SWAPGate = cirq.SWAP\n",
    "\n",
    "#we can even create roots of gates such as X  to get sqrt(X) these can be used for more granular rotations compared to PauliX\n",
    "SqrtPauliX = cirq.X**0.5\n",
    "\n",
    "# Example operations\n",
    "q0,q1 = cirq.LineQubit.range(2)\n",
    "print(\"q0, q1:\",q0,q1)\n",
    "z_op = cirq.Z(q0)\n",
    "print(z_op)\n",
    "not_op = cirq.CNOT(q0, q1)\n",
    "print(not_op)\n",
    "sqrt_iswap_op = cirq.SQRT_ISWAP(q0, q1)\n",
    "\n",
    "# You can also use the gates you specified earlier.\n",
    "swap = SWAPGate(q0, q1)\n",
    "pauliZ = PauliZ(q0)\n",
    "print(swap)"
   ]
  },
  {
   "cell_type": "markdown",
   "metadata": {
    "id": "tu71Zds4J21a"
   },
   "source": [
    "cirq also lets us create custom gates. You can find more [here](https://quantumai.google/cirq/build/custom_gates)"
   ]
  },
  {
   "cell_type": "markdown",
   "metadata": {
    "id": "BnBGLMVvWVkz"
   },
   "source": [
    "## Circuits and moments\n",
    "\n",
    "To see how these gates work in a circuit we will now build circuits. Cirq also has this concept of moments. These can be thought of as time slices that seperate when each gate is executed in a circuit (better explained via example)(Think of these as times t1, t2 etc where we are interested in whats happening in the circuit or want to control which gates occur first.). \\\n",
    "\n",
    "Cirq explains a Quantum \"Circuit\" as a collection of the aforementioned \"Moments\" and moments themselves as a collections of gate operations on the qubits. \\\n",
    "\n",
    " A `Moment` is a collection of `Operation`s that all act during the same time slice. A `Moment` can be thought of as a vertical slice of a quantum circuit diagram. \\\n",
    "\n",
    "Cirq is optimised and by default will attempt to slide your operation into the earliest possible `Moment` when you insert it so if you want something different then we must pay attention to where we are placing moments.\n",
    "\n",
    "Circuits doccumentation in detail [here](https://quantumai.google/reference/python/cirq/Circuit)"
   ]
  },
  {
   "cell_type": "code",
   "execution_count": null,
   "metadata": {
    "colab": {
     "base_uri": "https://localhost:8080/"
    },
    "id": "HEuqEZcXkz3Q",
    "outputId": "4f9a6474-ddc1-4d18-ba82-2ecb1f210acd"
   },
   "outputs": [],
   "source": [
    "#creating a simple circuit with 3 qubits and applyinh a Hadamard to each of them\n",
    "circuit = cirq.Circuit()\n",
    "qubits = cirq.LineQubit.range(3)\n",
    "circuit.append(cirq.H(qubits[0]))\n",
    "circuit.append(cirq.H(qubits[1]))\n",
    "circuit.append(cirq.H(qubits[2]))\n",
    "print(circuit)"
   ]
  },
  {
   "cell_type": "code",
   "execution_count": null,
   "metadata": {
    "colab": {
     "base_uri": "https://localhost:8080/"
    },
    "id": "bQVcMTfK5dFu",
    "outputId": "3d11ce23-a5bb-4fe1-aa3d-1d0298889dfc"
   },
   "outputs": [],
   "source": [
    "#using python list comprehention to make it easier\n",
    "circuit = cirq.Circuit()\n",
    "ops = [cirq.H(q) for q in cirq.LineQubit.range(3)]\n",
    "circuit.append(ops)\n",
    "print(circuit)"
   ]
  },
  {
   "cell_type": "code",
   "execution_count": null,
   "metadata": {
    "colab": {
     "base_uri": "https://localhost:8080/"
    },
    "id": "4GeSahJrMdhO",
    "outputId": "eed2c97b-2450-49af-f83b-23b814c78ac7"
   },
   "outputs": [],
   "source": [
    "circuit = cirq.Circuit()\n",
    "circuit.append([cirq.SWAP(q0, q1), cirq.H(q2)])\n",
    "print(circuit)"
   ]
  },
  {
   "cell_type": "markdown",
   "metadata": {
    "id": "a6bd4d3152d5"
   },
   "source": [
    "All the Hadamards are made to occure at the same time in the circuits 1 and 2 above. in circuit 3 Hadamard Op on q2 is pushed ot the left. Cirq pushes non overlapping operations to the left by default. For overlaping gates they are put one after the other like in circuit 3."
   ]
  },
  {
   "cell_type": "code",
   "execution_count": null,
   "metadata": {
    "colab": {
     "base_uri": "https://localhost:8080/"
    },
    "id": "olj1mATaM-88",
    "outputId": "579e34ca-3b75-4fa3-8f35-a5b19bbb53da"
   },
   "outputs": [],
   "source": [
    "circuit3 = cirq.Circuit()\n",
    "circuit3.append([cirq.SWAP(q0, q1), cirq.H(q1),  cirq.H(q2),cirq.CNOT(q1,q2)])\n",
    "print(circuit3)"
   ]
  },
  {
   "cell_type": "markdown",
   "metadata": {
    "id": "3FC9bdlXmShh"
   },
   "source": [
    "What if we want the hadamards in circuit 3 to occur together (no reason). This is where the \"Moments\"\" are usefull.\n",
    "\n",
    "you can create the circuit moment-by-moment or use a different `InsertStrategy`, explained clearly [Here](https://quantumai.google/cirq/build/circuits).\n",
    "\n",
    "basically we add time slices to our circuits and organise our circuit using them.\n",
    "\n"
   ]
  },
  {
   "cell_type": "code",
   "execution_count": null,
   "metadata": {
    "colab": {
     "base_uri": "https://localhost:8080/"
    },
    "id": "4AEahodTnYiI",
    "outputId": "ef3e6eda-1a7e-4748-f878-324e8229b0ef"
   },
   "outputs": [],
   "source": [
    "# Creates each gate in a separate moment by passing an iterable of Moments instead of Operations.\n",
    "print(cirq.Circuit(cirq.Moment([cirq.H(q)]) for q in cirq.LineQubit.range(3)))"
   ]
  },
  {
   "cell_type": "code",
   "execution_count": null,
   "metadata": {
    "colab": {
     "base_uri": "https://localhost:8080/"
    },
    "id": "_YjeAkz8O4mH",
    "outputId": "53abf443-0252-4873-b496-b3d92544d359"
   },
   "outputs": [],
   "source": [
    "# for circuit 3 (Moving both hadamard together)\n",
    "from cirq.circuits import InsertStrategy\n",
    "\n",
    "circuit32 = cirq.Circuit()\n",
    "moment = cirq.Moment(cirq.H(q1),  cirq.H(q2))\n",
    "circuit32.append([cirq.SWAP(q0, q1), moment,cirq.CNOT(q1,q2)])\n",
    "print(circuit32)"
   ]
  },
  {
   "cell_type": "markdown",
   "metadata": {
    "id": "M8oLYwusz4XE"
   },
   "source": [
    "## Unitary matrices\n",
    "\n",
    "Many quantum operations have unitary matrix representations.  This matrix can be accessed by applying `cirq.unitary(operation)` to that `operation`.  This can be applied to gates, operations, and circuits that support this protocol and will return the unitary matrix that represents the object."
   ]
  },
  {
   "cell_type": "code",
   "execution_count": null,
   "metadata": {
    "colab": {
     "base_uri": "https://localhost:8080/"
    },
    "id": "xn9nnBA70s23",
    "outputId": "6f6f3af7-b5c1-4e65-e9a9-a4b121301017"
   },
   "outputs": [],
   "source": [
    "print('Unitary of the X gate')\n",
    "print(cirq.unitary(cirq.X))\n",
    "\n",
    "print('Unitary of SWAP operator on two qubits.')\n",
    "q0, q1 = cirq.LineQubit.range(2)\n",
    "print(cirq.unitary(cirq.SWAP(q0, q1)))\n",
    "\n",
    "print('Unitary of a sample circuit')\n",
    "print(cirq.unitary(cirq.Circuit(cirq.X(q0), cirq.SWAP(q0, q1))))"
   ]
  },
  {
   "cell_type": "code",
   "execution_count": null,
   "metadata": {
    "colab": {
     "base_uri": "https://localhost:8080/"
    },
    "id": "wzChmShzR5F_",
    "outputId": "e13dbe3c-4852-42a6-b5d1-2f1839eb1c15"
   },
   "outputs": [],
   "source": [
    "#You can also convert Unitary to custom gates as shown in the link above:\n",
    "import numpy as np\n",
    "\"\"\"Define a custom single-qubit gate.\"\"\"\n",
    "class MyGate(cirq.Gate):\n",
    "    def __init__(self):\n",
    "        super(MyGate, self)\n",
    "\n",
    "    def _num_qubits_(self):\n",
    "        return 1\n",
    "\n",
    "    def _unitary_(self):\n",
    "        return np.array([\n",
    "            [1.0,  1.0],\n",
    "            [-1.0, 1.0]\n",
    "        ]) / np.sqrt(2)\n",
    "\n",
    "    def _circuit_diagram_info_(self, args):\n",
    "        return \"G\"\n",
    "\n",
    "my_gate = MyGate()\n",
    "print(cirq.unitary(my_gate))"
   ]
  },
  {
   "cell_type": "markdown",
   "metadata": {
    "id": "xLdhLAMURmMx"
   },
   "source": [
    "##Noise\n",
    "\n",
    "Cirq allows us to add noise to circuits at multiple levels.\n",
    "\n",
    "we can add noise to the entire circuit, while taking measurements (documentation of both these might be incomplete wasnt able to make it run) and add noise to intividual bits and connections.\n",
    "\n",
    "We can see cirq implementation of a couple of types noise below.\n",
    "\n",
    "[Full Documentation on Noise](https://quantumai.google/cirq/noise/representing_noise)"
   ]
  },
  {
   "cell_type": "markdown",
   "metadata": {
    "id": "775a6df1be6d"
   },
   "source": [
    "### Bit flip\n",
    "\n",
    "`cirq.BitFlipChannel` (or `cirq.bit_flip`) is equivalent to applying `cirq.X` with a given probability. This channel is best used to represent state-agnostic bit flip errors in the body of a circuit."
   ]
  },
  {
   "cell_type": "code",
   "execution_count": null,
   "metadata": {
    "colab": {
     "base_uri": "https://localhost:8080/"
    },
    "id": "60f9f3b43759",
    "outputId": "117422e1-5c8c-4dbc-d017-a5d07a29c9d4"
   },
   "outputs": [],
   "source": [
    "q0 = cirq.LineQubit(0)\n",
    "circuit = cirq.Circuit(\n",
    "    cirq.bit_flip(p=0.5).on(q0),\n",
    "    cirq.measure(q0, key='result')\n",
    ")\n",
    "result = cirq.Simulator(seed=0).run(circuit, repetitions=1000)\n",
    "print(result.histogram(key='result'))"
   ]
  },
  {
   "cell_type": "markdown",
   "metadata": {
    "id": "352e1b654056"
   },
   "source": [
    "### Amplitude damping\n",
    "\n",
    "`cirq.AmplitudeDampingChannel` (or `cirq.amplitude_damp`) performs a $|1\\rangle \\rightarrow |0\\rangle$ transformation with some probability `gamma`, leaving the existing $|0\\rangle$ state alone. This channel is best used to represent an idealized form of energy dissipation, where qubits decay from $|1\\rangle$ to $|0\\rangle$."
   ]
  },
  {
   "cell_type": "code",
   "execution_count": null,
   "metadata": {
    "colab": {
     "base_uri": "https://localhost:8080/"
    },
    "id": "2e8b3868bf6c",
    "outputId": "8ed0c8ea-2f35-49f5-d657-63ba00916aab"
   },
   "outputs": [],
   "source": [
    "q0 = cirq.LineQubit(0)\n",
    "circuit = cirq.Circuit(\n",
    "    cirq.X(q0),\n",
    "    cirq.amplitude_damp(gamma=0.2).on(q0),\n",
    "    cirq.measure(q0, key='result')\n",
    ")\n",
    "result = cirq.Simulator(seed=0).run(circuit, repetitions=1000)\n",
    "print(result.histogram(key='result'))"
   ]
  },
  {
   "cell_type": "markdown",
   "metadata": {
    "id": "xZ68bWEjoMKt"
   },
   "source": [
    "## Simulation\n",
    "\n",
    "Once we have built our circuits with the necesary noise we can get the simulated results of running our circuit using cirq's \"Simulator()\" (20 qubit limit)\n",
    "\n",
    "[Documentation](https://quantumai.google/cirq/simulate/simulation)\n",
    "\n",
    "There are two different approaches to using a simulator:\n",
    "\n",
    "`simulate()`:  Offers a detailed, comprehensive look at the quantum state (wavefunction) after circuit execution. It is for when you need to look \"under the hood\" of your quantum circuit. It's output typically includes probabilities, phase information, and can even show how entanglements and superpositions are created within the circuit.\n",
    "`run()`: Outputs measurement results as bit strings, simulating the practical outcome of running a quantum circuit on a physical device.\n",
    "\n"
   ]
  },
  {
   "cell_type": "code",
   "execution_count": null,
   "metadata": {
    "colab": {
     "base_uri": "https://localhost:8080/"
    },
    "id": "y4UWcwFwWtUw",
    "outputId": "67ddc531-83b0-4c45-8a84-8661245995fb"
   },
   "outputs": [],
   "source": [
    "#simple hadamard\n",
    "simple_hadamard = cirq.Circuit()\n",
    "q0 = cirq.LineQubit(0)\n",
    "simple_hadamard.append(cirq.H(q0))\n",
    "s = cirq.Simulator()\n",
    "results = s.simulate(simple_hadamard)\n",
    "print(results)\n"
   ]
  },
  {
   "cell_type": "code",
   "execution_count": null,
   "metadata": {
    "colab": {
     "base_uri": "https://localhost:8080/"
    },
    "id": "FOmgT7ulXqQE",
    "outputId": "7ddf42f0-0029-4781-9012-3eb6c56feda5"
   },
   "outputs": [],
   "source": [
    "#adding one more hadamard (retirn to |0>)\n",
    "simple_hadamard.append(cirq.H(q0))\n",
    "results = s.simulate(simple_hadamard)\n",
    "print(results)"
   ]
  },
  {
   "cell_type": "markdown",
   "metadata": {
    "id": "23VaIf0pWkBr"
   },
   "source": [
    "We can take a look at the example simulation a 2-qubit \"Bell State\" shown in the documentation:"
   ]
  },
  {
   "cell_type": "code",
   "execution_count": null,
   "metadata": {
    "colab": {
     "base_uri": "https://localhost:8080/"
    },
    "id": "AwC4SL6CHpXm",
    "outputId": "458647b6-ac73-445d-b527-4b045fb59f03"
   },
   "outputs": [],
   "source": [
    "# Create a circuit to generate a Bell State:\n",
    "# 1/sqrt(2) * ( |00⟩ + |11⟩ )\n",
    "bell_circuit = cirq.Circuit()\n",
    "q0, q1 = cirq.LineQubit.range(2)\n",
    "bell_circuit.append(cirq.H(q0))\n",
    "bell_circuit.append(cirq.CNOT(q0, q1))\n",
    "\n",
    "# Initialize Simulator\n",
    "s = cirq.Simulator()\n",
    "\n",
    "print('Simulate the circuit:')\n",
    "results = s.simulate(bell_circuit)\n",
    "print(results)\n",
    "\n",
    "# For sampling, we need to add a measurement at the end\n",
    "bell_circuit.append(cirq.measure(q0, q1, key='result'))\n",
    "\n",
    "# Sample the circuit\n",
    "sample = s.run(bell_circuit, repetitions=1000)\n"
   ]
  },
  {
   "cell_type": "code",
   "execution_count": null,
   "metadata": {
    "colab": {
     "base_uri": "https://localhost:8080/"
    },
    "id": "8i9CU6pAWNNs",
    "outputId": "59120d71-2764-4f4f-ec15-7ee34100c8e6"
   },
   "outputs": [],
   "source": [
    "print(sample)"
   ]
  },
  {
   "cell_type": "markdown",
   "metadata": {
    "id": "be79fa541b8a"
   },
   "source": [
    "## Visualizing Results\n",
    "\n",
    "When you use `run()` to get a sample distribution of measurements, you can directly graph the simulated samples as a histogram with `cirq.plot_state_histogram`."
   ]
  },
  {
   "cell_type": "code",
   "execution_count": null,
   "metadata": {
    "colab": {
     "base_uri": "https://localhost:8080/",
     "height": 472
    },
    "id": "69dca44091f4",
    "outputId": "fde2177b-3bfa-426e-8605-2af5f27daf56"
   },
   "outputs": [],
   "source": [
    "import matplotlib.pyplot as plt\n",
    "\n",
    "cirq.plot_state_histogram(sample, plt.subplot())\n",
    "plt.show()"
   ]
  },
  {
   "cell_type": "markdown",
   "metadata": {
    "id": "NAsmTqTAFEtQ"
   },
   "source": [
    "Here I've created the quantum teleportation circuit and simulated it using cirq."
   ]
  },
  {
   "cell_type": "markdown",
   "metadata": {
    "id": "NzBf7MNmdk8o"
   },
   "source": [
    "[creating classical comm line](https://quantumai.google/cirq/build/classical_control)"
   ]
  },
  {
   "cell_type": "code",
   "execution_count": null,
   "metadata": {
    "id": "GWSKNK2HO-fo"
   },
   "outputs": [],
   "source": [
    "def quantum_teleportation_circuit(gate):\n",
    "    circuit = cirq.Circuit()\n",
    "    alice = cirq.NamedQubit('alice')\n",
    "    msg = cirq.NamedQubit('msg')\n",
    "    bob = cirq.NamedQubit('bob')\n",
    "\n",
    "    #entangles qubit betweeen  Alice and Bob\n",
    "    circuit.append([cirq.H(alice), cirq.CNOT(alice, bob)])\n",
    "\n",
    "\n",
    "    # Creates a message to send.\n",
    "    circuit.append(gate(msg))\n",
    "\n",
    "\n",
    "    # Bell measurement of the Message and Alice's entangled qubit.\n",
    "    circuit.append([cirq.CNOT(msg, alice), cirq.H(msg), cirq.measure(msg,alice)])\n",
    "\n",
    "\n",
    "    # Uses the two classical bits from the Bell measurement to recover the\n",
    "    # original quantum Message on Bob's entangled qubit.\n",
    "    circuit.append([cirq.CNOT(alice, bob), cirq.CZ(msg,bob)])\n",
    "\n",
    "    return circuit"
   ]
  },
  {
   "cell_type": "code",
   "execution_count": null,
   "metadata": {
    "colab": {
     "base_uri": "https://localhost:8080/"
    },
    "id": "1MMnJ2w3ggph",
    "outputId": "1ea0ad5c-3c65-4fff-9848-5ac0a8bb3064"
   },
   "outputs": [],
   "source": [
    "# gate for msg qubit Pauili X\n",
    "\n",
    "gate = cirq.X\n",
    "\n",
    "#create circuit\n",
    "circuit = quantum_teleportation_circuit(gate)\n",
    "print(circuit)"
   ]
  },
  {
   "cell_type": "code",
   "execution_count": null,
   "metadata": {
    "colab": {
     "base_uri": "https://localhost:8080/"
    },
    "id": "C1LjA7F5g1ap",
    "outputId": "12959ef1-9600-4f9d-e3e7-ae2a3903a382"
   },
   "outputs": [],
   "source": [
    "#block sphere\n",
    "import numpy as np\n",
    "message = cirq.Circuit(gate.on(cirq.NamedQubit('msg'))).final_state_vector()\n",
    "message_bloch_vector = cirq.bloch_vector_from_state_vector(message,index=0)\n",
    "\n",
    "print(\"bloch sphere\")\n",
    "print(message_bloch_vector)"
   ]
  },
  {
   "cell_type": "code",
   "execution_count": null,
   "metadata": {
    "colab": {
     "base_uri": "https://localhost:8080/"
    },
    "id": "Oft6ROIAhvPH",
    "outputId": "1804061e-2350-4132-9148-412a67216deb"
   },
   "outputs": [],
   "source": [
    "# gate for msg qubit Pauili Z\n",
    "gate = cirq.Z\n",
    "\n",
    "#create circuit\n",
    "circuit = quantum_teleportation_circuit(gate)\n",
    "print(circuit)"
   ]
  },
  {
   "cell_type": "code",
   "execution_count": null,
   "metadata": {
    "colab": {
     "base_uri": "https://localhost:8080/"
    },
    "id": "uGs45imOh-bw",
    "outputId": "bb54f5e9-2eff-45fc-ff3a-466cf96cbf0c"
   },
   "outputs": [],
   "source": [
    "message = cirq.Circuit(gate.on(cirq.NamedQubit('msg'))).final_state_vector()\n",
    "message_bloch_vector = cirq.bloch_vector_from_state_vector(message,index=0)\n",
    "\n",
    "print(\"bloch sphere\")\n",
    "print(message_bloch_vector)"
   ]
  },
  {
   "cell_type": "markdown",
   "metadata": {
    "id": "EGqwNaf3iNaV"
   },
   "source": [
    "Tried Noisy circuit but got errors"
   ]
  },
  {
   "cell_type": "code",
   "execution_count": null,
   "metadata": {
    "id": "mpZ6SuPFh_Vl"
   },
   "outputs": [],
   "source": []
  }
 ],
 "metadata": {
  "colab": {
   "provenance": []
  },
  "kernelspec": {
   "display_name": "Python 3",
   "language": "python",
   "name": "python3"
  },
  "language_info": {
   "codemirror_mode": {
    "name": "ipython",
    "version": 3
   },
   "file_extension": ".py",
   "mimetype": "text/x-python",
   "name": "python",
   "nbconvert_exporter": "python",
   "pygments_lexer": "ipython3",
   "version": "3.7.6"
  }
 },
 "nbformat": 4,
 "nbformat_minor": 1
}
