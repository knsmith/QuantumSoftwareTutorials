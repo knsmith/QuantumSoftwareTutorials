{
 "cells": [
  {
   "cell_type": "code",
   "execution_count": 1,
   "id": "03797961",
   "metadata": {},
   "outputs": [],
   "source": [
    "from qutip import *\n",
    "import numpy as np\n",
    "import matplotlib.pyplot as plt"
   ]
  },
  {
   "cell_type": "markdown",
   "id": "9a653b40-6aec-43bb-b77f-aa797e669d82",
   "metadata": {},
   "source": [
    "This QuTip tutorial is based on QuTip documentation that can be found at https://qutip.org/documentation.html and a collection of tutorials that can be found at https://qutip.org/qutip-tutorials/.\n",
    "\n",
    "QuTip can be installed using\n",
    "pip install qubit"
   ]
  },
  {
   "cell_type": "markdown",
   "id": "aa256abd-0c26-4c5c-81d6-4c0eab32125d",
   "metadata": {},
   "source": [
    "### Any quantum object is represented using the class Qobj"
   ]
  },
  {
   "cell_type": "code",
   "execution_count": 2,
   "id": "72381979",
   "metadata": {},
   "outputs": [],
   "source": [
    "x=np.array([[1],[2],[3],[4],[5]])"
   ]
  },
  {
   "cell_type": "code",
   "execution_count": 3,
   "id": "50f4c9cc-9cec-4a17-932e-e10220a5cab6",
   "metadata": {
    "scrolled": true
   },
   "outputs": [
    {
     "data": {
      "text/latex": [
       "Quantum object: dims=[[5], [1]], shape=(5, 1), type='ket', dtype=Dense$$\\left(\\begin{array}{cc}1\\\\2\\\\3\\\\4\\\\5\\end{array}\\right)$$"
      ],
      "text/plain": [
       "Quantum object: dims=[[5], [1]], shape=(5, 1), type='ket', dtype=Dense\n",
       "Qobj data =\n",
       "[[1.]\n",
       " [2.]\n",
       " [3.]\n",
       " [4.]\n",
       " [5.]]"
      ]
     },
     "execution_count": 3,
     "metadata": {},
     "output_type": "execute_result"
    }
   ],
   "source": [
    "Qobj(x)"
   ]
  },
  {
   "cell_type": "markdown",
   "id": "7cd2c39a-a56f-466a-832f-f74f8d7ec15f",
   "metadata": {},
   "source": [
    "Any array can be given as an input to the class Qobj"
   ]
  },
  {
   "cell_type": "code",
   "execution_count": 4,
   "id": "f7698b2c",
   "metadata": {},
   "outputs": [],
   "source": [
    "r=np.random.rand(4,4)"
   ]
  },
  {
   "cell_type": "code",
   "execution_count": 5,
   "id": "5e82a9c5",
   "metadata": {},
   "outputs": [
    {
     "data": {
      "text/latex": [
       "Quantum object: dims=[[4], [4]], shape=(4, 4), type='oper', dtype=Dense, isherm=False$$\\left(\\begin{array}{cc}0.916 & 0.905 & 0.860 & 0.924\\\\0.507 & 0.447 & 0.464 & 0.692\\\\0.935 & 0.131 & 0.485 & 0.512\\\\0.222 & 0.556 & 0.871 & 0.602\\end{array}\\right)$$"
      ],
      "text/plain": [
       "Quantum object: dims=[[4], [4]], shape=(4, 4), type='oper', dtype=Dense, isherm=False\n",
       "Qobj data =\n",
       "[[0.91588323 0.90515282 0.85952766 0.92426583]\n",
       " [0.50679091 0.44652699 0.4643506  0.69229197]\n",
       " [0.93532317 0.13096937 0.48493923 0.51165565]\n",
       " [0.22234974 0.55596774 0.87063436 0.60181976]]"
      ]
     },
     "execution_count": 5,
     "metadata": {},
     "output_type": "execute_result"
    }
   ],
   "source": [
    "Qobj(r)"
   ]
  },
  {
   "cell_type": "markdown",
   "id": "54314589-c837-467b-b72b-ce0ef0c89507",
   "metadata": {},
   "source": [
    "### Some basic quantum objects...\n",
    "\n",
    "QuTip has a lot of in-built quantum objects. The identity matrix of dimension $n$ can be produced with qeye(n)"
   ]
  },
  {
   "cell_type": "code",
   "execution_count": 6,
   "id": "de14aed7-12e4-46df-b872-e2ecf3181e4b",
   "metadata": {},
   "outputs": [
    {
     "data": {
      "text/latex": [
       "Quantum object: dims=[[4], [4]], shape=(4, 4), type='oper', dtype=Dia, isherm=True$$\\left(\\begin{array}{cc}1 & 0 & 0 & 0\\\\0 & 1 & 0 & 0\\\\0 & 0 & 1 & 0\\\\0 & 0 & 0 & 1\\end{array}\\right)$$"
      ],
      "text/plain": [
       "Quantum object: dims=[[4], [4]], shape=(4, 4), type='oper', dtype=Dia, isherm=True\n",
       "Qobj data =\n",
       "[[1. 0. 0. 0.]\n",
       " [0. 1. 0. 0.]\n",
       " [0. 0. 1. 0.]\n",
       " [0. 0. 0. 1.]]"
      ]
     },
     "execution_count": 6,
     "metadata": {},
     "output_type": "execute_result"
    }
   ],
   "source": [
    "qeye(4)"
   ]
  },
  {
   "cell_type": "markdown",
   "id": "86a15f92-4ff2-4c69-8567-23e9bb131e3e",
   "metadata": {},
   "source": [
    "The Pauli matrices are given by sigmax(), sigmay() and sigmaz()"
   ]
  },
  {
   "cell_type": "code",
   "execution_count": 7,
   "id": "2b2adb98-cbb0-49ec-a940-51cfdb5b9b71",
   "metadata": {},
   "outputs": [
    {
     "data": {
      "text/latex": [
       "Quantum object: dims=[[2], [2]], shape=(2, 2), type='oper', dtype=CSR, isherm=True$$\\left(\\begin{array}{cc}0 & -1j\\\\1j & 0\\end{array}\\right)$$"
      ],
      "text/plain": [
       "Quantum object: dims=[[2], [2]], shape=(2, 2), type='oper', dtype=CSR, isherm=True\n",
       "Qobj data =\n",
       "[[0.+0.j 0.-1.j]\n",
       " [0.+1.j 0.+0.j]]"
      ]
     },
     "execution_count": 7,
     "metadata": {},
     "output_type": "execute_result"
    }
   ],
   "source": [
    "sigmay()"
   ]
  },
  {
   "cell_type": "code",
   "execution_count": 8,
   "id": "05b8cbc9-2a07-4a69-aa32-d3c11f9bd673",
   "metadata": {},
   "outputs": [
    {
     "data": {
      "text/latex": [
       "Quantum object: dims=[[2], [2]], shape=(2, 2), type='oper', dtype=CSR, isherm=False$$\\left(\\begin{array}{cc}0 & 1\\\\0 & 0\\end{array}\\right)$$"
      ],
      "text/plain": [
       "Quantum object: dims=[[2], [2]], shape=(2, 2), type='oper', dtype=CSR, isherm=False\n",
       "Qobj data =\n",
       "[[0. 1.]\n",
       " [0. 0.]]"
      ]
     },
     "execution_count": 8,
     "metadata": {},
     "output_type": "execute_result"
    }
   ],
   "source": [
    "sigmap()"
   ]
  },
  {
   "cell_type": "markdown",
   "id": "c5168576-14aa-4682-b5f9-97bb6b5e3c34",
   "metadata": {},
   "source": [
    "Higher dimesnionsal representations of SU(2) can be obtained by using the function jmat(). The first argument of this function gives us the matrices corresponding to the spin-j representation of SU(2). The second argument defines the kind of matrix we're interested in. For instance, we can get the spin-y matrix of the  spin-5/2 representation with"
   ]
  },
  {
   "cell_type": "code",
   "execution_count": 9,
   "id": "7b996ef4-6bf6-4db1-8ed1-2c4e5dcb8202",
   "metadata": {},
   "outputs": [
    {
     "data": {
      "text/latex": [
       "Quantum object: dims=[[6], [6]], shape=(6, 6), type='oper', dtype=CSR, isherm=True$$\\left(\\begin{array}{cc}0 & -1.118j & 0 & 0 & 0 & 0\\\\1.118j & 0 & -1.414j & 0 & 0 & 0\\\\0 & 1.414j & 0 & -1.500j & 0 & 0\\\\0 & 0 & 1.500j & 0 & -1.414j & 0\\\\0 & 0 & 0 & 1.414j & 0 & -1.118j\\\\0 & 0 & 0 & 0 & 1.118j & 0\\end{array}\\right)$$"
      ],
      "text/plain": [
       "Quantum object: dims=[[6], [6]], shape=(6, 6), type='oper', dtype=CSR, isherm=True\n",
       "Qobj data =\n",
       "[[0.+0.j         0.-1.11803399j 0.+0.j         0.+0.j\n",
       "  0.+0.j         0.+0.j        ]\n",
       " [0.+1.11803399j 0.+0.j         0.-1.41421356j 0.+0.j\n",
       "  0.+0.j         0.+0.j        ]\n",
       " [0.+0.j         0.+1.41421356j 0.+0.j         0.-1.5j\n",
       "  0.+0.j         0.+0.j        ]\n",
       " [0.+0.j         0.+0.j         0.+1.5j        0.+0.j\n",
       "  0.-1.41421356j 0.+0.j        ]\n",
       " [0.+0.j         0.+0.j         0.+0.j         0.+1.41421356j\n",
       "  0.+0.j         0.-1.11803399j]\n",
       " [0.+0.j         0.+0.j         0.+0.j         0.+0.j\n",
       "  0.+1.11803399j 0.+0.j        ]]"
      ]
     },
     "execution_count": 9,
     "metadata": {},
     "output_type": "execute_result"
    }
   ],
   "source": [
    "jmat(5/2.0,'y')"
   ]
  },
  {
   "cell_type": "markdown",
   "id": "47e828e5-f94a-4e47-9a09-5e87c490affe",
   "metadata": {},
   "source": [
    "QuTip also has in-built functions to produce Fock states of any dimension"
   ]
  },
  {
   "cell_type": "code",
   "execution_count": 10,
   "id": "66b6aa09-000c-4770-bcb8-51919b2ad197",
   "metadata": {},
   "outputs": [
    {
     "data": {
      "text/latex": [
       "Quantum object: dims=[[4], [1]], shape=(4, 1), type='ket', dtype=Dense$$\\left(\\begin{array}{cc}0\\\\0\\\\1\\\\0\\end{array}\\right)$$"
      ],
      "text/plain": [
       "Quantum object: dims=[[4], [1]], shape=(4, 1), type='ket', dtype=Dense\n",
       "Qobj data =\n",
       "[[0.]\n",
       " [0.]\n",
       " [1.]\n",
       " [0.]]"
      ]
     },
     "execution_count": 10,
     "metadata": {},
     "output_type": "execute_result"
    }
   ],
   "source": [
    "basis(4,2)"
   ]
  },
  {
   "cell_type": "code",
   "execution_count": 11,
   "id": "6e358094-3860-4f93-8a16-0ac071468dde",
   "metadata": {},
   "outputs": [
    {
     "data": {
      "text/latex": [
       "Quantum object: dims=[[4], [1]], shape=(4, 1), type='ket', dtype=Dense$$\\left(\\begin{array}{cc}1\\\\0\\\\0\\\\0\\end{array}\\right)$$"
      ],
      "text/plain": [
       "Quantum object: dims=[[4], [1]], shape=(4, 1), type='ket', dtype=Dense\n",
       "Qobj data =\n",
       "[[1.]\n",
       " [0.]\n",
       " [0.]\n",
       " [0.]]"
      ]
     },
     "execution_count": 11,
     "metadata": {},
     "output_type": "execute_result"
    }
   ],
   "source": [
    "fock(4)"
   ]
  },
  {
   "cell_type": "code",
   "execution_count": 12,
   "id": "39a3d80e-41d4-4827-aac1-ab8069cdae8d",
   "metadata": {},
   "outputs": [
    {
     "data": {
      "text/latex": [
       "Quantum object: dims=[[5], [1]], shape=(5, 1), type='ket', dtype=Dense$$\\left(\\begin{array}{cc}0.186\\\\(-0.228-0.228j)\\\\0.605j\\\\(0.222-0.222j)\\\\-0.630\\end{array}\\right)$$"
      ],
      "text/plain": [
       "Quantum object: dims=[[5], [1]], shape=(5, 1), type='ket', dtype=Dense\n",
       "Qobj data =\n",
       "[[ 1.86485193e-01+1.67040222e-17j]\n",
       " [-2.27571703e-01-2.27571703e-01j]\n",
       " [-5.02018222e-18+6.05218435e-01j]\n",
       " [ 2.22415436e-01-2.22415436e-01j]\n",
       " [-6.29618064e-01-1.07361049e-17j]]"
      ]
     },
     "execution_count": 12,
     "metadata": {},
     "output_type": "execute_result"
    }
   ],
   "source": [
    "coherent(5,2+1j*2)"
   ]
  },
  {
   "cell_type": "markdown",
   "id": "7ad514e8-e810-4c9e-b92d-8f5c9e581e43",
   "metadata": {},
   "source": [
    "There are many more in-built objects of the class Qobj that one can explore like position(n) and momentum(n) that gives us an d-dimensional truncation of the inifnite dimensional position and momentum operators respectively. We refer the interested reader to https://qutip.org/documentation.html for a comprehensive list of in-built functions."
   ]
  },
  {
   "cell_type": "code",
   "execution_count": 13,
   "id": "0e0d5d57-69c5-4bf6-970b-c752f3d108a3",
   "metadata": {},
   "outputs": [
    {
     "data": {
      "text/latex": [
       "Quantum object: dims=[[4], [4]], shape=(4, 4), type='oper', dtype=Dia, isherm=True$$\\left(\\begin{array}{cc}0 & -0.707j & 0 & 0\\\\0.707j & 0 & -1j & 0\\\\0 & 1j & 0 & -1.225j\\\\0 & 0 & 1.225j & 0\\end{array}\\right)$$"
      ],
      "text/plain": [
       "Quantum object: dims=[[4], [4]], shape=(4, 4), type='oper', dtype=Dia, isherm=True\n",
       "Qobj data =\n",
       "[[0.+0.j         0.-0.70710678j 0.+0.j         0.+0.j        ]\n",
       " [0.+0.70710678j 0.+0.j         0.-1.j         0.+0.j        ]\n",
       " [0.+0.j         0.+1.j         0.+0.j         0.-1.22474487j]\n",
       " [0.+0.j         0.+0.j         0.+1.22474487j 0.+0.j        ]]"
      ]
     },
     "execution_count": 13,
     "metadata": {},
     "output_type": "execute_result"
    }
   ],
   "source": [
    "momentum(4)"
   ]
  },
  {
   "cell_type": "markdown",
   "id": "02b0d607-a6e9-4f6d-bd21-e604fae9eebb",
   "metadata": {},
   "source": [
    "### Operations on Qobj\n",
    "\n",
    "One can perform algebraic operations on objects of the class Qobj. As an example, below, we define a quantum object y."
   ]
  },
  {
   "cell_type": "code",
   "execution_count": 14,
   "id": "087ffd17-1efd-4b2c-8801-3ab165f8226f",
   "metadata": {},
   "outputs": [],
   "source": [
    "y=Qobj([[1+2*1j],[2-2*1j],[3],[4],[5]])"
   ]
  },
  {
   "cell_type": "code",
   "execution_count": 15,
   "id": "4f0a5bd3-5f0f-4470-a61c-91ec59a14e5f",
   "metadata": {},
   "outputs": [
    {
     "data": {
      "text/latex": [
       "Quantum object: dims=[[5], [1]], shape=(5, 1), type='ket', dtype=Dense$$\\left(\\begin{array}{cc}(1+2j)\\\\(2-2j)\\\\3\\\\4\\\\5\\end{array}\\right)$$"
      ],
      "text/plain": [
       "Quantum object: dims=[[5], [1]], shape=(5, 1), type='ket', dtype=Dense\n",
       "Qobj data =\n",
       "[[1.+2.j]\n",
       " [2.-2.j]\n",
       " [3.+0.j]\n",
       " [4.+0.j]\n",
       " [5.+0.j]]"
      ]
     },
     "execution_count": 15,
     "metadata": {},
     "output_type": "execute_result"
    }
   ],
   "source": [
    "y"
   ]
  },
  {
   "cell_type": "markdown",
   "id": "80130b02-6cd6-4a99-82ec-f5ab2b706c7d",
   "metadata": {},
   "source": [
    "The hermitian conjugate of this object can simply be obtained by"
   ]
  },
  {
   "cell_type": "code",
   "execution_count": 16,
   "id": "020693ee-222d-454b-a403-884791ddefc6",
   "metadata": {},
   "outputs": [
    {
     "data": {
      "text/latex": [
       "Quantum object: dims=[[1], [5]], shape=(1, 5), type='bra', dtype=Dense$$\\left(\\begin{array}{cc}(1-2j) & (2+2j) & 3 & 4 & 5\\end{array}\\right)$$"
      ],
      "text/plain": [
       "Quantum object: dims=[[1], [5]], shape=(1, 5), type='bra', dtype=Dense\n",
       "Qobj data =\n",
       "[[1.-2.j 2.+2.j 3.-0.j 4.-0.j 5.-0.j]]"
      ]
     },
     "execution_count": 16,
     "metadata": {},
     "output_type": "execute_result"
    }
   ],
   "source": [
    "y.dag()"
   ]
  },
  {
   "cell_type": "markdown",
   "id": "f89cbb6c-1393-4b2c-bbbe-aef6bcb294d6",
   "metadata": {},
   "source": [
    "One can compute the matrix product of quantum objects by simply using the * operation as one does for numbers. Below, we compute the expectation value of the position operator for y."
   ]
  },
  {
   "cell_type": "code",
   "execution_count": 17,
   "id": "93297568-3e49-43db-b27f-dde1571a444e",
   "metadata": {},
   "outputs": [
    {
     "data": {
      "text/plain": [
       "(95.13399228357576+0j)"
      ]
     },
     "execution_count": 17,
     "metadata": {},
     "output_type": "execute_result"
    }
   ],
   "source": [
    "(y.dag())*position(5)*y"
   ]
  },
  {
   "cell_type": "markdown",
   "id": "1a1a72fc-0f1e-4fab-9e65-aae778cc6ae7",
   "metadata": {},
   "source": [
    "One can obtain tensor products of quantum objects by simply using the tensor() function"
   ]
  },
  {
   "cell_type": "code",
   "execution_count": 18,
   "id": "df2d0605-71e0-4817-abf5-9a3d88e85d19",
   "metadata": {},
   "outputs": [
    {
     "data": {
      "text/latex": [
       "Quantum object: dims=[[2, 2], [2, 2]], shape=(4, 4), type='oper', dtype=CSR, isherm=True$$\\left(\\begin{array}{cc}0 & 0 & 0 & -1j\\\\0 & 0 & 1j & 0\\\\0 & -1j & 0 & 0\\\\1j & 0 & 0 & 0\\end{array}\\right)$$"
      ],
      "text/plain": [
       "Quantum object: dims=[[2, 2], [2, 2]], shape=(4, 4), type='oper', dtype=CSR, isherm=True\n",
       "Qobj data =\n",
       "[[0.+0.j 0.+0.j 0.+0.j 0.-1.j]\n",
       " [0.+0.j 0.+0.j 0.+1.j 0.+0.j]\n",
       " [0.+0.j 0.-1.j 0.+0.j 0.+0.j]\n",
       " [0.+1.j 0.+0.j 0.+0.j 0.+0.j]]"
      ]
     },
     "execution_count": 18,
     "metadata": {},
     "output_type": "execute_result"
    }
   ],
   "source": [
    "tensor(sigmax(),sigmay())"
   ]
  },
  {
   "cell_type": "code",
   "execution_count": 19,
   "id": "1dcd462d-a0d6-4afb-88d8-7c7f410dc0fc",
   "metadata": {},
   "outputs": [
    {
     "data": {
      "text/latex": [
       "Quantum object: dims=[[2], [2]], shape=(2, 2), type='oper', dtype=CSR, isherm=True$$\\left(\\begin{array}{cc}1 & 0\\\\0 & -1\\end{array}\\right)$$"
      ],
      "text/plain": [
       "Quantum object: dims=[[2], [2]], shape=(2, 2), type='oper', dtype=CSR, isherm=True\n",
       "Qobj data =\n",
       "[[ 1.  0.]\n",
       " [ 0. -1.]]"
      ]
     },
     "execution_count": 19,
     "metadata": {},
     "output_type": "execute_result"
    }
   ],
   "source": [
    "sz=sigmaz()\n",
    "sz"
   ]
  },
  {
   "cell_type": "markdown",
   "id": "fbf4d1db-43fc-44c8-a1ca-611942d15f5c",
   "metadata": {},
   "source": [
    "Qobj also has a collection of in-built attribute functions that allow one to check if the object of interest in hermitian or unitary, to compute the eigenstates, eigenvalues etc. Below, we take 10-dimensional truncations of the position and momentum operators for our playground. "
   ]
  },
  {
   "cell_type": "code",
   "execution_count": 20,
   "id": "e9897874-8075-4a2c-b53e-e213127394b6",
   "metadata": {},
   "outputs": [],
   "source": [
    "p=momentum(10)\n",
    "x=position(10)"
   ]
  },
  {
   "cell_type": "code",
   "execution_count": 21,
   "id": "29c9b745-e40d-4a85-b38d-48609be454ff",
   "metadata": {},
   "outputs": [
    {
     "data": {
      "text/plain": [
       "True"
      ]
     },
     "execution_count": 21,
     "metadata": {},
     "output_type": "execute_result"
    }
   ],
   "source": [
    "x.isherm"
   ]
  },
  {
   "cell_type": "code",
   "execution_count": 22,
   "id": "1a2b38da-2b69-4e1f-ac28-207f128f9cca",
   "metadata": {},
   "outputs": [
    {
     "data": {
      "text/plain": [
       "False"
      ]
     },
     "execution_count": 22,
     "metadata": {},
     "output_type": "execute_result"
    }
   ],
   "source": [
    "x.isunitary"
   ]
  },
  {
   "cell_type": "markdown",
   "id": "7a8d51fa-e98e-48ca-9bf8-bc171ca6b1a2",
   "metadata": {},
   "source": [
    "Consider the commutator of the Pauli matrices $\\sigma_x$ and $\\sigma_y$."
   ]
  },
  {
   "cell_type": "code",
   "execution_count": 23,
   "id": "96b45d6f-8a29-4dcd-ac1d-d0ff62e025dc",
   "metadata": {},
   "outputs": [
    {
     "data": {
      "text/latex": [
       "Quantum object: dims=[[2], [2]], shape=(2, 2), type='oper', dtype=CSR, isherm=False$$\\left(\\begin{array}{cc}2j & 0\\\\0 & -2j\\end{array}\\right)$$"
      ],
      "text/plain": [
       "Quantum object: dims=[[2], [2]], shape=(2, 2), type='oper', dtype=CSR, isherm=False\n",
       "Qobj data =\n",
       "[[0.+2.j 0.+0.j]\n",
       " [0.+0.j 0.-2.j]]"
      ]
     },
     "execution_count": 23,
     "metadata": {},
     "output_type": "execute_result"
    }
   ],
   "source": [
    "sigmax()*sigmay()-sigmay()*sigmax()"
   ]
  },
  {
   "cell_type": "markdown",
   "id": "5f0c512b-7dd3-4ded-956d-07cbe0eaf2b4",
   "metadata": {},
   "source": [
    "We see that the result is proportional to $\\sigma_z$ as expected. QuTip has an inbuilt function to calculate the commutator of two quantum objects "
   ]
  },
  {
   "cell_type": "code",
   "execution_count": 24,
   "id": "df3036d3-d025-4986-8328-3495ca4a42db",
   "metadata": {},
   "outputs": [
    {
     "data": {
      "text/latex": [
       "Quantum object: dims=[[2], [2]], shape=(2, 2), type='oper', dtype=CSR, isherm=False$$\\left(\\begin{array}{cc}2j & 0\\\\0 & -2j\\end{array}\\right)$$"
      ],
      "text/plain": [
       "Quantum object: dims=[[2], [2]], shape=(2, 2), type='oper', dtype=CSR, isherm=False\n",
       "Qobj data =\n",
       "[[0.+2.j 0.+0.j]\n",
       " [0.+0.j 0.-2.j]]"
      ]
     },
     "execution_count": 24,
     "metadata": {},
     "output_type": "execute_result"
    }
   ],
   "source": [
    "commutator(sigmax(),sigmay())"
   ]
  },
  {
   "cell_type": "markdown",
   "id": "4ae3d4a3-a209-41d5-b2f0-5683eeeaed58",
   "metadata": {},
   "source": [
    "One can compute the anti-commutator by adding an extra argument to the function"
   ]
  },
  {
   "cell_type": "code",
   "execution_count": 25,
   "id": "45e3a0ac-17a6-4e2a-b3c5-eb4adef06981",
   "metadata": {},
   "outputs": [
    {
     "data": {
      "text/latex": [
       "Quantum object: dims=[[2], [2]], shape=(2, 2), type='oper', dtype=CSR, isherm=True$$\\left(\\begin{array}{cc}0 & 0\\\\0 & 0\\end{array}\\right)$$"
      ],
      "text/plain": [
       "Quantum object: dims=[[2], [2]], shape=(2, 2), type='oper', dtype=CSR, isherm=True\n",
       "Qobj data =\n",
       "[[0. 0.]\n",
       " [0. 0.]]"
      ]
     },
     "execution_count": 25,
     "metadata": {},
     "output_type": "execute_result"
    }
   ],
   "source": [
    "commutator(sigmax(),sigmay(),\"anti\")"
   ]
  },
  {
   "cell_type": "markdown",
   "id": "714008e5-fa38-4739-bb0e-6392ddfd12b9",
   "metadata": {},
   "source": [
    "We can compute the commutator of position and momentum to be:"
   ]
  },
  {
   "cell_type": "code",
   "execution_count": 26,
   "id": "3674ca44-2cba-4381-aa55-55e4f3dbecc6",
   "metadata": {},
   "outputs": [
    {
     "data": {
      "text/latex": [
       "Quantum object: dims=[[10], [10]], shape=(10, 10), type='oper', dtype=Dia, isherm=False$$\\left(\\begin{array}{cc}1j & 0 & 0 & 0 & 0 & 0 & 0 & 0 & 0 & 0\\\\0 & 1j & 0 & 0 & 0 & 0 & 0 & 0 & 0 & 0\\\\0 & 0 & 1.000j & 0 & 0 & 0 & 0 & 0 & 0 & 0\\\\0 & 0 & 0 & 1j & 0 & 0 & 0 & 0 & 0 & 0\\\\0 & 0 & 0 & 0 & 1j & 0 & 0 & 0 & 0 & 0\\\\0 & 0 & 0 & 0 & 0 & 1.000j & 0 & 0 & 0 & 0\\\\0 & 0 & 0 & 0 & 0 & 0 & 1j & 0 & 0 & 0\\\\0 & 0 & 0 & 0 & 0 & 0 & 0 & 1j & 0 & 0\\\\0 & 0 & 0 & 0 & 0 & 0 & 0 & 0 & 1.000j & 0\\\\0 & 0 & 0 & 0 & 0 & 0 & 0 & 0 & 0 & -9j\\end{array}\\right)$$"
      ],
      "text/plain": [
       "Quantum object: dims=[[10], [10]], shape=(10, 10), type='oper', dtype=Dia, isherm=False\n",
       "Qobj data =\n",
       "[[0.+1.j 0.+0.j 0.+0.j 0.+0.j 0.+0.j 0.+0.j 0.+0.j 0.+0.j 0.+0.j 0.+0.j]\n",
       " [0.+0.j 0.+1.j 0.+0.j 0.+0.j 0.+0.j 0.+0.j 0.+0.j 0.+0.j 0.+0.j 0.+0.j]\n",
       " [0.+0.j 0.+0.j 0.+1.j 0.+0.j 0.+0.j 0.+0.j 0.+0.j 0.+0.j 0.+0.j 0.+0.j]\n",
       " [0.+0.j 0.+0.j 0.+0.j 0.+1.j 0.+0.j 0.+0.j 0.+0.j 0.+0.j 0.+0.j 0.+0.j]\n",
       " [0.+0.j 0.+0.j 0.+0.j 0.+0.j 0.+1.j 0.+0.j 0.+0.j 0.+0.j 0.+0.j 0.+0.j]\n",
       " [0.+0.j 0.+0.j 0.+0.j 0.+0.j 0.+0.j 0.+1.j 0.+0.j 0.+0.j 0.+0.j 0.+0.j]\n",
       " [0.+0.j 0.+0.j 0.+0.j 0.+0.j 0.+0.j 0.+0.j 0.+1.j 0.+0.j 0.+0.j 0.+0.j]\n",
       " [0.+0.j 0.+0.j 0.+0.j 0.+0.j 0.+0.j 0.+0.j 0.+0.j 0.+1.j 0.+0.j 0.+0.j]\n",
       " [0.+0.j 0.+0.j 0.+0.j 0.+0.j 0.+0.j 0.+0.j 0.+0.j 0.+0.j 0.+1.j 0.+0.j]\n",
       " [0.+0.j 0.+0.j 0.+0.j 0.+0.j 0.+0.j 0.+0.j 0.+0.j 0.+0.j 0.+0.j 0.-9.j]]"
      ]
     },
     "execution_count": 26,
     "metadata": {},
     "output_type": "execute_result"
    }
   ],
   "source": [
    "commutator(x,p)"
   ]
  },
  {
   "cell_type": "markdown",
   "id": "bae5cc37-9233-4215-bb6d-ab34dd4bce4b",
   "metadata": {},
   "source": [
    "The commutator of the infinite dimensional position and momentum operators is 1j times the identity operator. Above, we get a diagonal matrix with all entries except the lasta one equal to 1j. This isn't surprising as we're working with truncated finite dimensional expressions for the position and momentum operators."
   ]
  },
  {
   "cell_type": "markdown",
   "id": "7247fc0a-b643-4174-a673-2e0abd039890",
   "metadata": {},
   "source": [
    "We can also compute the eigenstates and eigenvectors of a quantum object when applicate. "
   ]
  },
  {
   "cell_type": "code",
   "execution_count": 27,
   "id": "cc1e72aa-e5cc-4e7c-8464-742b150ba1c7",
   "metadata": {},
   "outputs": [],
   "source": [
    "x2=Qobj([[2,1,0,0],[1,2,0,0],[0,0,3,0],[0,0,0,3]])"
   ]
  },
  {
   "cell_type": "code",
   "execution_count": 28,
   "id": "4a10ec43-8291-4979-9a2d-e50cc5ba416b",
   "metadata": {},
   "outputs": [
    {
     "data": {
      "text/plain": [
       "(array([1., 3., 3., 3.]),\n",
       " array([Quantum object: dims=[[4], [1]], shape=(4, 1), type='ket', dtype=Dense\n",
       "        Qobj data =\n",
       "        [[ 0.70710678]\n",
       "         [-0.70710678]\n",
       "         [ 0.        ]\n",
       "         [ 0.        ]]                                                       ,\n",
       "        Quantum object: dims=[[4], [1]], shape=(4, 1), type='ket', dtype=Dense\n",
       "        Qobj data =\n",
       "        [[0.70710678]\n",
       "         [0.70710678]\n",
       "         [0.        ]\n",
       "         [0.        ]]                                                        ,\n",
       "        Quantum object: dims=[[4], [1]], shape=(4, 1), type='ket', dtype=Dense\n",
       "        Qobj data =\n",
       "        [[0.]\n",
       "         [0.]\n",
       "         [1.]\n",
       "         [0.]]                                                                ,\n",
       "        Quantum object: dims=[[4], [1]], shape=(4, 1), type='ket', dtype=Dense\n",
       "        Qobj data =\n",
       "        [[0.]\n",
       "         [0.]\n",
       "         [0.]\n",
       "         [1.]]                                                                ],\n",
       "       dtype=object))"
      ]
     },
     "execution_count": 28,
     "metadata": {},
     "output_type": "execute_result"
    }
   ],
   "source": [
    "x2.eigenstates()"
   ]
  },
  {
   "cell_type": "markdown",
   "id": "b855a9c4-69e3-4863-a705-4637e8cd4993",
   "metadata": {},
   "source": [
    "### Simple Harmonic Oscillator"
   ]
  },
  {
   "cell_type": "markdown",
   "id": "b76f50c2-f564-4ab2-8914-d2f2ac25d990",
   "metadata": {},
   "source": [
    "As a fun aside, we analyze the quantum simple harmonic oscillator. The Hamiltonian, which represents the energy of the system, is given by"
   ]
  },
  {
   "cell_type": "code",
   "execution_count": 29,
   "id": "63621b1b-3dc0-4117-a170-e6d5bebeecfd",
   "metadata": {},
   "outputs": [],
   "source": [
    "Hsim=(1/2)*p*p+(1/2)*x*x"
   ]
  },
  {
   "cell_type": "markdown",
   "id": "c285069e-4acb-4d75-b8f0-ed139effcb7d",
   "metadata": {},
   "source": [
    "Here, x and p are the 10-dimensional approximations of position and momentum operators that we defined previously. We set the mass and frequency to be equal to 1. QuTip natively sets $\\hbar=1$."
   ]
  },
  {
   "cell_type": "code",
   "execution_count": 30,
   "id": "5736aa8d-4ff1-4314-bbde-4eaa99c44f45",
   "metadata": {},
   "outputs": [
    {
     "data": {
      "text/plain": [
       "True"
      ]
     },
     "execution_count": 30,
     "metadata": {},
     "output_type": "execute_result"
    }
   ],
   "source": [
    "Hsim.isherm"
   ]
  },
  {
   "cell_type": "code",
   "execution_count": 31,
   "id": "99a068fb-526d-4f2d-ba69-dd32c8e69da6",
   "metadata": {},
   "outputs": [
    {
     "data": {
      "text/plain": [
       "False"
      ]
     },
     "execution_count": 31,
     "metadata": {},
     "output_type": "execute_result"
    }
   ],
   "source": [
    "Hsim.isunitary"
   ]
  },
  {
   "cell_type": "markdown",
   "id": "b05993ab-13cd-4876-a8ef-3bcef1948bac",
   "metadata": {},
   "source": [
    "We see that our Hamiltonian is hermitian, but not unitary, as expected. The energy spectrum of the Hamiltonian can be obtained by calculating the eigenvalues of the Hamiltonian."
   ]
  },
  {
   "cell_type": "code",
   "execution_count": 32,
   "id": "491f1c11-7099-44cf-9279-0885760ef0a1",
   "metadata": {},
   "outputs": [
    {
     "data": {
      "text/plain": [
       "array([0.5, 1.5, 2.5, 3.5, 4.5, 4.5, 5.5, 6.5, 7.5, 8.5])"
      ]
     },
     "execution_count": 32,
     "metadata": {},
     "output_type": "execute_result"
    }
   ],
   "source": [
    "Hsim.eigenenergies()"
   ]
  },
  {
   "cell_type": "markdown",
   "id": "b747a4a0-ffff-4fa4-9463-2a9cecd0553b",
   "metadata": {},
   "source": [
    "We see that we only get 9 eigenvalues of the Hamiltonian even though the dimension of the operator was 10. This is because we're working with a 10 dimensional approximation of the infinite dimensional operator. As such, the last eigenvalue won't be accurate."
   ]
  },
  {
   "cell_type": "markdown",
   "id": "1b82ce1a-9d7f-47bd-b863-aa3ebb9beebf",
   "metadata": {},
   "source": [
    "We can also obtain the eigenstates of the system. This automatically also gives us the eigenvalues"
   ]
  },
  {
   "cell_type": "code",
   "execution_count": 33,
   "id": "f680d7d3-485f-4fd6-b152-d8dd40c7bf20",
   "metadata": {},
   "outputs": [
    {
     "data": {
      "text/plain": [
       "(array([0.5, 1.5, 2.5, 3.5, 4.5, 4.5, 5.5, 6.5, 7.5, 8.5]),\n",
       " array([Quantum object: dims=[[10], [1]], shape=(10, 1), type='ket', dtype=Dense\n",
       "        Qobj data =\n",
       "        [[1.]\n",
       "         [0.]\n",
       "         [0.]\n",
       "         [0.]\n",
       "         [0.]\n",
       "         [0.]\n",
       "         [0.]\n",
       "         [0.]\n",
       "         [0.]\n",
       "         [0.]]                                                                  ,\n",
       "        Quantum object: dims=[[10], [1]], shape=(10, 1), type='ket', dtype=Dense\n",
       "        Qobj data =\n",
       "        [[0.]\n",
       "         [1.]\n",
       "         [0.]\n",
       "         [0.]\n",
       "         [0.]\n",
       "         [0.]\n",
       "         [0.]\n",
       "         [0.]\n",
       "         [0.]\n",
       "         [0.]]                                                                  ,\n",
       "        Quantum object: dims=[[10], [1]], shape=(10, 1), type='ket', dtype=Dense\n",
       "        Qobj data =\n",
       "        [[0.]\n",
       "         [0.]\n",
       "         [1.]\n",
       "         [0.]\n",
       "         [0.]\n",
       "         [0.]\n",
       "         [0.]\n",
       "         [0.]\n",
       "         [0.]\n",
       "         [0.]]                                                                  ,\n",
       "        Quantum object: dims=[[10], [1]], shape=(10, 1), type='ket', dtype=Dense\n",
       "        Qobj data =\n",
       "        [[0.]\n",
       "         [0.]\n",
       "         [0.]\n",
       "         [1.]\n",
       "         [0.]\n",
       "         [0.]\n",
       "         [0.]\n",
       "         [0.]\n",
       "         [0.]\n",
       "         [0.]]                                                                  ,\n",
       "        Quantum object: dims=[[10], [1]], shape=(10, 1), type='ket', dtype=Dense\n",
       "        Qobj data =\n",
       "        [[0.]\n",
       "         [0.]\n",
       "         [0.]\n",
       "         [0.]\n",
       "         [1.]\n",
       "         [0.]\n",
       "         [0.]\n",
       "         [0.]\n",
       "         [0.]\n",
       "         [0.]]                                                                  ,\n",
       "        Quantum object: dims=[[10], [1]], shape=(10, 1), type='ket', dtype=Dense\n",
       "        Qobj data =\n",
       "        [[0.]\n",
       "         [0.]\n",
       "         [0.]\n",
       "         [0.]\n",
       "         [0.]\n",
       "         [0.]\n",
       "         [0.]\n",
       "         [0.]\n",
       "         [0.]\n",
       "         [1.]]                                                                  ,\n",
       "        Quantum object: dims=[[10], [1]], shape=(10, 1), type='ket', dtype=Dense\n",
       "        Qobj data =\n",
       "        [[0.]\n",
       "         [0.]\n",
       "         [0.]\n",
       "         [0.]\n",
       "         [0.]\n",
       "         [1.]\n",
       "         [0.]\n",
       "         [0.]\n",
       "         [0.]\n",
       "         [0.]]                                                                  ,\n",
       "        Quantum object: dims=[[10], [1]], shape=(10, 1), type='ket', dtype=Dense\n",
       "        Qobj data =\n",
       "        [[0.]\n",
       "         [0.]\n",
       "         [0.]\n",
       "         [0.]\n",
       "         [0.]\n",
       "         [0.]\n",
       "         [1.]\n",
       "         [0.]\n",
       "         [0.]\n",
       "         [0.]]                                                                  ,\n",
       "        Quantum object: dims=[[10], [1]], shape=(10, 1), type='ket', dtype=Dense\n",
       "        Qobj data =\n",
       "        [[0.]\n",
       "         [0.]\n",
       "         [0.]\n",
       "         [0.]\n",
       "         [0.]\n",
       "         [0.]\n",
       "         [0.]\n",
       "         [1.]\n",
       "         [0.]\n",
       "         [0.]]                                                                  ,\n",
       "        Quantum object: dims=[[10], [1]], shape=(10, 1), type='ket', dtype=Dense\n",
       "        Qobj data =\n",
       "        [[0.]\n",
       "         [0.]\n",
       "         [0.]\n",
       "         [0.]\n",
       "         [0.]\n",
       "         [0.]\n",
       "         [0.]\n",
       "         [0.]\n",
       "         [1.]\n",
       "         [0.]]                                                                  ],\n",
       "       dtype=object))"
      ]
     },
     "execution_count": 33,
     "metadata": {},
     "output_type": "execute_result"
    }
   ],
   "source": [
    "Hsim.eigenstates()"
   ]
  },
  {
   "cell_type": "markdown",
   "id": "71929656-e4e0-49a7-911d-448ff457b038",
   "metadata": {},
   "source": [
    "### Operations with density matrices\n",
    "\n",
    "QuTip also has in-built functions to construct density matrices. For instance, the density matrix for a fock state or coherent state are given by"
   ]
  },
  {
   "cell_type": "code",
   "execution_count": 34,
   "id": "43d2bf6c-0a23-4bdf-a2e5-4de2cde536a5",
   "metadata": {},
   "outputs": [
    {
     "data": {
      "text/latex": [
       "Quantum object: dims=[[4], [4]], shape=(4, 4), type='oper', dtype=Dia, isherm=True$$\\left(\\begin{array}{cc}0 & 0 & 0 & 0\\\\0 & 0 & 0 & 0\\\\0 & 0 & 1 & 0\\\\0 & 0 & 0 & 0\\end{array}\\right)$$"
      ],
      "text/plain": [
       "Quantum object: dims=[[4], [4]], shape=(4, 4), type='oper', dtype=Dia, isherm=True\n",
       "Qobj data =\n",
       "[[0. 0. 0. 0.]\n",
       " [0. 0. 0. 0.]\n",
       " [0. 0. 1. 0.]\n",
       " [0. 0. 0. 0.]]"
      ]
     },
     "execution_count": 34,
     "metadata": {},
     "output_type": "execute_result"
    }
   ],
   "source": [
    "fock_dm(4,2)"
   ]
  },
  {
   "cell_type": "code",
   "execution_count": 35,
   "id": "44b24ed9-9d58-48df-a156-f535033eb29a",
   "metadata": {},
   "outputs": [
    {
     "data": {
      "text/latex": [
       "Quantum object: dims=[[2], [2]], shape=(2, 2), type='oper', dtype=Dense, isherm=True$$\\left(\\begin{array}{cc}0.905 & (-0.207+0.207j)\\\\(-0.207-0.207j) & 0.095\\end{array}\\right)$$"
      ],
      "text/plain": [
       "Quantum object: dims=[[2], [2]], shape=(2, 2), type='oper', dtype=Dense, isherm=True\n",
       "Qobj data =\n",
       "[[ 0.9050918 +0.j         -0.20724458+0.20724458j]\n",
       " [-0.20724458-0.20724458j  0.0949082 +0.j        ]]"
      ]
     },
     "execution_count": 35,
     "metadata": {},
     "output_type": "execute_result"
    }
   ],
   "source": [
    "coherent_dm(2,2+1j*2)"
   ]
  },
  {
   "cell_type": "markdown",
   "id": "fb2a774a-c6dc-445a-a719-66e326fd96cb",
   "metadata": {},
   "source": [
    "We can also construct the density matrix corresponding to any state vector using ket2dm()"
   ]
  },
  {
   "cell_type": "code",
   "execution_count": 36,
   "id": "12d4a9da-be56-42c8-9f4d-27508f528fd7",
   "metadata": {},
   "outputs": [
    {
     "data": {
      "text/latex": [
       "Quantum object: dims=[[5], [1]], shape=(5, 1), type='ket', dtype=Dense$$\\left(\\begin{array}{cc}(1+2j)\\\\(2-2j)\\\\3\\\\4\\\\5\\end{array}\\right)$$"
      ],
      "text/plain": [
       "Quantum object: dims=[[5], [1]], shape=(5, 1), type='ket', dtype=Dense\n",
       "Qobj data =\n",
       "[[1.+2.j]\n",
       " [2.-2.j]\n",
       " [3.+0.j]\n",
       " [4.+0.j]\n",
       " [5.+0.j]]"
      ]
     },
     "execution_count": 36,
     "metadata": {},
     "output_type": "execute_result"
    }
   ],
   "source": [
    "y"
   ]
  },
  {
   "cell_type": "code",
   "execution_count": 37,
   "id": "be74d860-cd34-4920-8591-feea97aeace1",
   "metadata": {},
   "outputs": [
    {
     "data": {
      "text/latex": [
       "Quantum object: dims=[[5], [5]], shape=(5, 5), type='oper', dtype=Dense, isherm=True$$\\left(\\begin{array}{cc}5 & (-2+6j) & (3+6j) & (4+8j) & (5+10j)\\\\(-2-6j) & 8 & (6-6j) & (8-8j) & (10-10j)\\\\(3-6j) & (6+6j) & 9 & 12 & 15\\\\(4-8j) & (8+8j) & 12 & 16 & 20\\\\(5-10j) & (10+10j) & 15 & 20 & 25\\end{array}\\right)$$"
      ],
      "text/plain": [
       "Quantum object: dims=[[5], [5]], shape=(5, 5), type='oper', dtype=Dense, isherm=True\n",
       "Qobj data =\n",
       "[[ 5. +0.j -2. +6.j  3. +6.j  4. +8.j  5.+10.j]\n",
       " [-2. -6.j  8. +0.j  6. -6.j  8. -8.j 10.-10.j]\n",
       " [ 3. -6.j  6. +6.j  9. +0.j 12. +0.j 15. +0.j]\n",
       " [ 4. -8.j  8. +8.j 12. +0.j 16. +0.j 20. +0.j]\n",
       " [ 5.-10.j 10.+10.j 15. +0.j 20. +0.j 25. +0.j]]"
      ]
     },
     "execution_count": 37,
     "metadata": {},
     "output_type": "execute_result"
    }
   ],
   "source": [
    "ket2dm(y)"
   ]
  },
  {
   "cell_type": "markdown",
   "id": "39647d61-a45b-4ea1-b5aa-0d0fb38de0cd",
   "metadata": {},
   "source": [
    "This is just equal to y*y.dag()"
   ]
  },
  {
   "cell_type": "code",
   "execution_count": 38,
   "id": "8f1e3448-6df3-4b1a-81c8-6c994e46ec61",
   "metadata": {},
   "outputs": [
    {
     "data": {
      "text/latex": [
       "Quantum object: dims=[[5], [5]], shape=(5, 5), type='oper', dtype=Dense, isherm=True$$\\left(\\begin{array}{cc}5 & (-2+6j) & (3+6j) & (4+8j) & (5+10j)\\\\(-2-6j) & 8 & (6-6j) & (8-8j) & (10-10j)\\\\(3-6j) & (6+6j) & 9 & 12 & 15\\\\(4-8j) & (8+8j) & 12 & 16 & 20\\\\(5-10j) & (10+10j) & 15 & 20 & 25\\end{array}\\right)$$"
      ],
      "text/plain": [
       "Quantum object: dims=[[5], [5]], shape=(5, 5), type='oper', dtype=Dense, isherm=True\n",
       "Qobj data =\n",
       "[[ 5. +0.j -2. +6.j  3. +6.j  4. +8.j  5.+10.j]\n",
       " [-2. -6.j  8. +0.j  6. -6.j  8. -8.j 10.-10.j]\n",
       " [ 3. -6.j  6. +6.j  9. +0.j 12. +0.j 15. +0.j]\n",
       " [ 4. -8.j  8. +8.j 12. +0.j 16. +0.j 20. +0.j]\n",
       " [ 5.-10.j 10.+10.j 15. +0.j 20. +0.j 25. +0.j]]"
      ]
     },
     "execution_count": 38,
     "metadata": {},
     "output_type": "execute_result"
    }
   ],
   "source": [
    "y*y.dag()"
   ]
  },
  {
   "cell_type": "markdown",
   "id": "b09c7917-283d-4f95-827b-9c11e06c3116",
   "metadata": {},
   "source": [
    "One can also compute partial traces for density matrices using ptrace(). Below, we define an arbitrary matrix and compute the partial trace along qubit 0"
   ]
  },
  {
   "cell_type": "code",
   "execution_count": 39,
   "id": "5a5367ff-3ddb-4596-a5a3-1f135b164911",
   "metadata": {},
   "outputs": [
    {
     "data": {
      "text/latex": [
       "Quantum object: dims=[[2, 2], [2, 2]], shape=(4, 4), type='oper', dtype=CSR, isherm=True$$\\left(\\begin{array}{cc}0 & 0 & 1 & 0\\\\0 & 0 & 0 & 1\\\\1 & 0 & 0 & 0\\\\0 & 1 & 0 & 0\\end{array}\\right)$$"
      ],
      "text/plain": [
       "Quantum object: dims=[[2, 2], [2, 2]], shape=(4, 4), type='oper', dtype=CSR, isherm=True\n",
       "Qobj data =\n",
       "[[0. 0. 1. 0.]\n",
       " [0. 0. 0. 1.]\n",
       " [1. 0. 0. 0.]\n",
       " [0. 1. 0. 0.]]"
      ]
     },
     "execution_count": 39,
     "metadata": {},
     "output_type": "execute_result"
    }
   ],
   "source": [
    "tensor(sigmax(),qeye(2))"
   ]
  },
  {
   "cell_type": "code",
   "execution_count": 40,
   "id": "5cc6fbe0-76b8-4ba2-afeb-5d4d2fada501",
   "metadata": {},
   "outputs": [
    {
     "data": {
      "text/latex": [
       "Quantum object: dims=[[2], [2]], shape=(2, 2), type='oper', dtype=CSR, isherm=True$$\\left(\\begin{array}{cc}0 & 2\\\\2 & 0\\end{array}\\right)$$"
      ],
      "text/plain": [
       "Quantum object: dims=[[2], [2]], shape=(2, 2), type='oper', dtype=CSR, isherm=True\n",
       "Qobj data =\n",
       "[[0. 2.]\n",
       " [2. 0.]]"
      ]
     },
     "execution_count": 40,
     "metadata": {},
     "output_type": "execute_result"
    }
   ],
   "source": [
    "tensor(sigmax(),qeye(2)).ptrace(0)"
   ]
  },
  {
   "cell_type": "markdown",
   "id": "6fa8de5e-1e01-4d6f-a954-3da2800e01b8",
   "metadata": {},
   "source": [
    "QuTip also allows for more complex operations on density matrices like getting the Kraus representation of the density operators. We refer the reader to the documentation of QuTip for more details on this."
   ]
  },
  {
   "cell_type": "markdown",
   "id": "d8c09a47-4f8e-4ced-9daa-2687b678424f",
   "metadata": {},
   "source": [
    "### Circuits and Gates\n",
    "\n",
    "We now move on to a brief illustration of circuits and gates in QuTip. One needs to install qutip_qip to perform circuit operations. This can be done using pip"
   ]
  },
  {
   "cell_type": "code",
   "execution_count": 41,
   "id": "cb583606-13c2-410f-8d5c-3126920d5236",
   "metadata": {},
   "outputs": [],
   "source": [
    "from qutip_qip.circuit import *\n",
    "from qutip_qip.operations import *"
   ]
  },
  {
   "cell_type": "markdown",
   "id": "900188df-41ce-4e35-86d4-27fa6db88ae2",
   "metadata": {},
   "source": [
    "QuTip comes with a built-in set of gates. For example, the CNOT gate is given by"
   ]
  },
  {
   "cell_type": "code",
   "execution_count": 42,
   "id": "f6c52cb3-e029-46a8-960e-671335fcc6c8",
   "metadata": {},
   "outputs": [
    {
     "data": {
      "text/latex": [
       "Quantum object: dims=[[2, 2], [2, 2]], shape=(4, 4), type='oper', dtype=Dense, isherm=True$$\\left(\\begin{array}{cc}1 & 0 & 0 & 0\\\\0 & 1 & 0 & 0\\\\0 & 0 & 0 & 1\\\\0 & 0 & 1 & 0\\end{array}\\right)$$"
      ],
      "text/plain": [
       "Quantum object: dims=[[2, 2], [2, 2]], shape=(4, 4), type='oper', dtype=Dense, isherm=True\n",
       "Qobj data =\n",
       "[[1. 0. 0. 0.]\n",
       " [0. 1. 0. 0.]\n",
       " [0. 0. 0. 1.]\n",
       " [0. 0. 1. 0.]]"
      ]
     },
     "execution_count": 42,
     "metadata": {},
     "output_type": "execute_result"
    }
   ],
   "source": [
    "cnot()"
   ]
  },
  {
   "cell_type": "markdown",
   "id": "5a001ce7-c6dc-45ac-97dd-5753c58b6b6c",
   "metadata": {},
   "source": [
    "The Hadamard gate is given by"
   ]
  },
  {
   "cell_type": "code",
   "execution_count": 43,
   "id": "347c9674-d96b-4c59-b04f-da2e932f3442",
   "metadata": {},
   "outputs": [
    {
     "data": {
      "text/latex": [
       "Quantum object: dims=[[2], [2]], shape=(2, 2), type='oper', dtype=Dense, isherm=True$$\\left(\\begin{array}{cc}0.707 & 0.707\\\\0.707 & -0.707\\end{array}\\right)$$"
      ],
      "text/plain": [
       "Quantum object: dims=[[2], [2]], shape=(2, 2), type='oper', dtype=Dense, isherm=True\n",
       "Qobj data =\n",
       "[[ 0.70710678  0.70710678]\n",
       " [ 0.70710678 -0.70710678]]"
      ]
     },
     "execution_count": 43,
     "metadata": {},
     "output_type": "execute_result"
    }
   ],
   "source": [
    "snot()"
   ]
  },
  {
   "cell_type": "markdown",
   "id": "04afc4aa-1bec-41fb-b402-fb912d8bb733",
   "metadata": {},
   "source": [
    "One can get the phase get by using cphase(). One needs to provide the phase angle as an argument for this gate"
   ]
  },
  {
   "cell_type": "code",
   "execution_count": 44,
   "id": "97f76b23-74af-4115-a719-5b5ea49ec99b",
   "metadata": {},
   "outputs": [
    {
     "data": {
      "text/latex": [
       "Quantum object: dims=[[2, 2], [2, 2]], shape=(4, 4), type='oper', dtype=Dense, isherm=False$$\\left(\\begin{array}{cc}1 & 0 & 0 & 0\\\\0 & 1 & 0 & 0\\\\0 & 0 & 1 & 0\\\\0 & 0 & 0 & 1j\\end{array}\\right)$$"
      ],
      "text/plain": [
       "Quantum object: dims=[[2, 2], [2, 2]], shape=(4, 4), type='oper', dtype=Dense, isherm=False\n",
       "Qobj data =\n",
       "[[1.000000e+00+0.j 0.000000e+00+0.j 0.000000e+00+0.j 0.000000e+00+0.j]\n",
       " [0.000000e+00+0.j 1.000000e+00+0.j 0.000000e+00+0.j 0.000000e+00+0.j]\n",
       " [0.000000e+00+0.j 0.000000e+00+0.j 1.000000e+00+0.j 0.000000e+00+0.j]\n",
       " [0.000000e+00+0.j 0.000000e+00+0.j 0.000000e+00+0.j 6.123234e-17+1.j]]"
      ]
     },
     "execution_count": 44,
     "metadata": {},
     "output_type": "execute_result"
    }
   ],
   "source": [
    "cphase(np.pi / 2)"
   ]
  },
  {
   "cell_type": "markdown",
   "id": "67a2f539-8815-4822-a1ff-28a8ba8b4200",
   "metadata": {},
   "source": [
    "We also have in-built functions for performing rotations with the Pauli matrices. For example, the gate corresponding to a rotation about $\\sigma_x$ by $\\pi$ radians is given by"
   ]
  },
  {
   "cell_type": "code",
   "execution_count": 45,
   "id": "28bafbc9-b5aa-40ad-a73d-27c72b3ad9dd",
   "metadata": {},
   "outputs": [
    {
     "data": {
      "text/latex": [
       "Quantum object: dims=[[2], [2]], shape=(2, 2), type='oper', dtype=Dense, isherm=False$$\\left(\\begin{array}{cc}6.123\\times10^{ -17 } & -1j\\\\-1j & 6.123\\times10^{ -17 }\\end{array}\\right)$$"
      ],
      "text/plain": [
       "Quantum object: dims=[[2], [2]], shape=(2, 2), type='oper', dtype=Dense, isherm=False\n",
       "Qobj data =\n",
       "[[6.123234e-17+0.j 0.000000e+00-1.j]\n",
       " [0.000000e+00-1.j 6.123234e-17+0.j]]"
      ]
     },
     "execution_count": 45,
     "metadata": {},
     "output_type": "execute_result"
    }
   ],
   "source": [
    "rx(np.pi)"
   ]
  },
  {
   "cell_type": "code",
   "execution_count": 46,
   "id": "631e4517-f790-46b5-85cf-3ba2ec669796",
   "metadata": {},
   "outputs": [
    {
     "data": {
      "text/latex": [
       "Quantum object: dims=[[2], [2]], shape=(2, 2), type='oper', dtype=Dense, isherm=False$$\\left(\\begin{array}{cc}0 & 1\\\\-1 & 0\\end{array}\\right)$$"
      ],
      "text/plain": [
       "Quantum object: dims=[[2], [2]], shape=(2, 2), type='oper', dtype=Dense, isherm=False\n",
       "Qobj data =\n",
       "[[ 0.  1.]\n",
       " [-1.  0.]]"
      ]
     },
     "execution_count": 46,
     "metadata": {},
     "output_type": "execute_result"
    }
   ],
   "source": [
    "rotGen=Qobj([[0,1],[-1,0]])\n",
    "rotGen"
   ]
  },
  {
   "cell_type": "code",
   "execution_count": 47,
   "id": "f1976691-92a3-42a1-b4fc-7e054489d3d8",
   "metadata": {},
   "outputs": [
    {
     "data": {
      "text/latex": [
       "Quantum object: dims=[[2], [2]], shape=(2, 2), type='oper', dtype=Dense, isherm=False$$\\left(\\begin{array}{cc}6.123\\times10^{ -17 } & 1\\\\-1 & 6.123\\times10^{ -17 }\\end{array}\\right)$$"
      ],
      "text/plain": [
       "Quantum object: dims=[[2], [2]], shape=(2, 2), type='oper', dtype=Dense, isherm=False\n",
       "Qobj data =\n",
       "[[ 6.123234e-17  1.000000e+00]\n",
       " [-1.000000e+00  6.123234e-17]]"
      ]
     },
     "execution_count": 47,
     "metadata": {},
     "output_type": "execute_result"
    }
   ],
   "source": [
    "((np.pi/2)*rotGen).expm()"
   ]
  },
  {
   "cell_type": "markdown",
   "id": "5f1f56e6-1b93-4f6c-b30d-c9e55ab52836",
   "metadata": {},
   "source": [
    "Below, we define a two-qubit circuit and add two gates to the circuit."
   ]
  },
  {
   "cell_type": "code",
   "execution_count": 48,
   "id": "33f3ecfc-43e8-4873-afe5-a7783d4a025d",
   "metadata": {},
   "outputs": [],
   "source": [
    "q1=QubitCircuit(2)\n",
    "\n",
    "q1.add_gate(\"CNOT\",targets=[1], controls=[0])\n",
    "q1.add_gate(\"X\",targets=[1])"
   ]
  },
  {
   "cell_type": "markdown",
   "id": "9710fefb-2805-4ac1-963a-2f0827197ca4",
   "metadata": {},
   "source": [
    "The list of unitary operations corresponding to the application of the gates can be obtained by using propagators()"
   ]
  },
  {
   "cell_type": "code",
   "execution_count": 49,
   "id": "9951285c-43b7-4d30-8b58-94db7757bc90",
   "metadata": {},
   "outputs": [
    {
     "data": {
      "text/plain": [
       "[Quantum object: dims=[[2, 2], [2, 2]], shape=(4, 4), type='oper', dtype=CSR, isherm=True\n",
       " Qobj data =\n",
       " [[1. 0. 0. 0.]\n",
       "  [0. 1. 0. 0.]\n",
       "  [0. 0. 0. 1.]\n",
       "  [0. 0. 1. 0.]],\n",
       " Quantum object: dims=[[2, 2], [2, 2]], shape=(4, 4), type='oper', dtype=CSR, isherm=True\n",
       " Qobj data =\n",
       " [[0. 1. 0. 0.]\n",
       "  [1. 0. 0. 0.]\n",
       "  [0. 0. 0. 1.]\n",
       "  [0. 0. 1. 0.]]]"
      ]
     },
     "execution_count": 49,
     "metadata": {},
     "output_type": "execute_result"
    }
   ],
   "source": [
    "q1.propagators()"
   ]
  },
  {
   "cell_type": "markdown",
   "id": "35d0ea74-5050-4114-aafd-f3d76b835a5f",
   "metadata": {},
   "source": [
    "The net unitary transformation corresponding to the application of all the gates is given by"
   ]
  },
  {
   "cell_type": "code",
   "execution_count": 50,
   "id": "50efcac8-d469-475f-a685-540396238a25",
   "metadata": {},
   "outputs": [
    {
     "data": {
      "text/latex": [
       "Quantum object: dims=[[2, 2], [2, 2]], shape=(4, 4), type='oper', dtype=CSR, isherm=True$$\\left(\\begin{array}{cc}0 & 1 & 0 & 0\\\\1 & 0 & 0 & 0\\\\0 & 0 & 1 & 0\\\\0 & 0 & 0 & 1\\end{array}\\right)$$"
      ],
      "text/plain": [
       "Quantum object: dims=[[2, 2], [2, 2]], shape=(4, 4), type='oper', dtype=CSR, isherm=True\n",
       "Qobj data =\n",
       "[[0. 1. 0. 0.]\n",
       " [1. 0. 0. 0.]\n",
       " [0. 0. 1. 0.]\n",
       " [0. 0. 0. 1.]]"
      ]
     },
     "execution_count": 50,
     "metadata": {},
     "output_type": "execute_result"
    }
   ],
   "source": [
    "gate_sequence_product(q1.propagators())"
   ]
  },
  {
   "cell_type": "markdown",
   "id": "517281dc-e793-4346-a979-cd4978dea272",
   "metadata": {},
   "source": [
    "We can try to decompose any unitary gate of interest in terms of a set of basis gates by using resolve_gates(). By default, this decomposes the gate in terms of CNOT, RX, RY and RZ gates. One can change the basis set by giving the desired set of basis gates as arguments for this function. Below, we show how to do it for the SWAP gate"
   ]
  },
  {
   "cell_type": "code",
   "execution_count": 51,
   "id": "8ed15d2e-8f24-49ed-bcab-721b44c05faa",
   "metadata": {},
   "outputs": [],
   "source": [
    "q2=QubitCircuit(2)\n",
    "\n",
    "q2.add_gate(\"SWAP\", [0,1])"
   ]
  },
  {
   "cell_type": "code",
   "execution_count": 52,
   "id": "37448470-be23-4987-a1fe-fc4abb9f804c",
   "metadata": {},
   "outputs": [
    {
     "data": {
      "text/plain": [
       "[Quantum object: dims=[[2, 2], [2, 2]], shape=(4, 4), type='oper', dtype=CSR, isherm=True\n",
       " Qobj data =\n",
       " [[1. 0. 0. 0.]\n",
       "  [0. 0. 1. 0.]\n",
       "  [0. 1. 0. 0.]\n",
       "  [0. 0. 0. 1.]]]"
      ]
     },
     "execution_count": 52,
     "metadata": {},
     "output_type": "execute_result"
    }
   ],
   "source": [
    "q2.propagators()"
   ]
  },
  {
   "cell_type": "code",
   "execution_count": 53,
   "id": "8a9b6111-db95-471d-a8ad-efa12c13977e",
   "metadata": {},
   "outputs": [
    {
     "data": {
      "text/plain": [
       "[Quantum object: dims=[[2, 2], [2, 2]], shape=(4, 4), type='oper', dtype=CSR, isherm=True\n",
       " Qobj data =\n",
       " [[1. 0. 0. 0.]\n",
       "  [0. 0. 0. 1.]\n",
       "  [0. 0. 1. 0.]\n",
       "  [0. 1. 0. 0.]],\n",
       " Quantum object: dims=[[2, 2], [2, 2]], shape=(4, 4), type='oper', dtype=CSR, isherm=True\n",
       " Qobj data =\n",
       " [[1. 0. 0. 0.]\n",
       "  [0. 1. 0. 0.]\n",
       "  [0. 0. 0. 1.]\n",
       "  [0. 0. 1. 0.]],\n",
       " Quantum object: dims=[[2, 2], [2, 2]], shape=(4, 4), type='oper', dtype=CSR, isherm=True\n",
       " Qobj data =\n",
       " [[1. 0. 0. 0.]\n",
       "  [0. 0. 0. 1.]\n",
       "  [0. 0. 1. 0.]\n",
       "  [0. 1. 0. 0.]]]"
      ]
     },
     "execution_count": 53,
     "metadata": {},
     "output_type": "execute_result"
    }
   ],
   "source": [
    "(q2.resolve_gates()).propagators()"
   ]
  },
  {
   "cell_type": "markdown",
   "id": "4a98ec88-4458-4c9f-8250-5ee10e1c168f",
   "metadata": {},
   "source": [
    "As expected, we can decompose the SWAP gate as a product of CNOT gates. Below, we reproduce the CNOT gate matrices with different control qubits for comparision."
   ]
  },
  {
   "cell_type": "code",
   "execution_count": 54,
   "id": "f610efbd-8c1a-4f4b-be9b-4ef494ba5cac",
   "metadata": {},
   "outputs": [
    {
     "data": {
      "text/latex": [
       "Quantum object: dims=[[2, 2], [2, 2]], shape=(4, 4), type='oper', dtype=Dense, isherm=True$$\\left(\\begin{array}{cc}1 & 0 & 0 & 0\\\\0 & 1 & 0 & 0\\\\0 & 0 & 0 & 1\\\\0 & 0 & 1 & 0\\end{array}\\right)$$"
      ],
      "text/plain": [
       "Quantum object: dims=[[2, 2], [2, 2]], shape=(4, 4), type='oper', dtype=Dense, isherm=True\n",
       "Qobj data =\n",
       "[[1. 0. 0. 0.]\n",
       " [0. 1. 0. 0.]\n",
       " [0. 0. 0. 1.]\n",
       " [0. 0. 1. 0.]]"
      ]
     },
     "execution_count": 54,
     "metadata": {},
     "output_type": "execute_result"
    }
   ],
   "source": [
    "cnot(control=0,target=1)"
   ]
  },
  {
   "cell_type": "code",
   "execution_count": 55,
   "id": "34441b72-7c7d-4956-bf5e-bf5038c6fbaf",
   "metadata": {},
   "outputs": [
    {
     "data": {
      "text/latex": [
       "Quantum object: dims=[[2, 2], [2, 2]], shape=(4, 4), type='oper', dtype=CSR, isherm=True$$\\left(\\begin{array}{cc}1 & 0 & 0 & 0\\\\0 & 0 & 0 & 1\\\\0 & 0 & 1 & 0\\\\0 & 1 & 0 & 0\\end{array}\\right)$$"
      ],
      "text/plain": [
       "Quantum object: dims=[[2, 2], [2, 2]], shape=(4, 4), type='oper', dtype=CSR, isherm=True\n",
       "Qobj data =\n",
       "[[1. 0. 0. 0.]\n",
       " [0. 0. 0. 1.]\n",
       " [0. 0. 1. 0.]\n",
       " [0. 1. 0. 0.]]"
      ]
     },
     "execution_count": 55,
     "metadata": {},
     "output_type": "execute_result"
    }
   ],
   "source": [
    "cnot(control=1,target=0)"
   ]
  },
  {
   "cell_type": "markdown",
   "id": "56ed05ec-f8ce-4950-b35a-46e6e9286dce",
   "metadata": {},
   "source": [
    "### Evolution under a Hamiltonian"
   ]
  },
  {
   "cell_type": "markdown",
   "id": "b06c13c3-39bf-4acf-82d6-af3566eb841a",
   "metadata": {},
   "source": [
    "QuTip comes equipped with a collection of built-in solvers to calculate/simulate the evolution of a state or denstiy matrix under a Hamiltonian. As an example, we demonstrate how to do this for Jaynes-Cummins model, which consists of an atom placed inside a cavity."
   ]
  },
  {
   "cell_type": "markdown",
   "id": "2c9f610b-829c-4e79-b94d-08f4b3974e81",
   "metadata": {},
   "source": [
    "$H = w_c  a^{\\dagger} a + \\frac{1}{2}w_a \\sigma_{+} \\sigma_{-}+g\\left( a^{\\dagger} \\sigma_{-}+ a \\sigma_{+}\\right)$$"
   ]
  },
  {
   "cell_type": "markdown",
   "id": "02de29bd-e0c5-4bca-9ac3-d4358d79cc2a",
   "metadata": {},
   "source": [
    "Here, the first term corresponds to the photon field, the second term corresponds to the atom, and the third term corresponds to the interactions between cavity and the atom."
   ]
  },
  {
   "cell_type": "markdown",
   "id": "79679200-3547-4d12-826a-659a16b39348",
   "metadata": {},
   "source": [
    "We take a 10-dimensional approximation and simulate the system from time $t=0$ to $t=10$. "
   ]
  },
  {
   "cell_type": "code",
   "execution_count": 56,
   "id": "f6e820f8-d19e-41ca-8afc-db52161238ba",
   "metadata": {},
   "outputs": [],
   "source": [
    "N = 10  \n",
    "wc = 2*np.pi \n",
    "wa = np.pi\n",
    "g = np.pi\n",
    "\n",
    "tlist = np.linspace(0, 10, 1000)"
   ]
  },
  {
   "cell_type": "markdown",
   "id": "b4a26864-216f-4ca9-8d1c-1f20c9106ad6",
   "metadata": {},
   "source": [
    "We can define creation/annihilation operators and the Pauli matrices by using built-in functions. Note that the terms in the Hamiltonian involve tensor products between operators that act on the atom and operators that act of the photon field. We first simulate the system where there's no interaction between the cavity and the atom."
   ]
  },
  {
   "cell_type": "code",
   "execution_count": 57,
   "id": "ba92aa01-31f9-47b5-8390-08a4920ec305",
   "metadata": {},
   "outputs": [],
   "source": [
    "psi0 = tensor(basis(N, 0), basis(2, 0))\n",
    "\n",
    "a = tensor(destroy(N), qeye(2))\n",
    "sm = tensor(qeye(N), destroy(2).dag())\n",
    "sz = tensor(qeye(N), sigmax())\n",
    "\n",
    "H1 = wc * a.dag() * a + wa / 2 * sz"
   ]
  },
  {
   "cell_type": "markdown",
   "id": "0ae975d1-b476-433c-947e-3ab2aff5fc15",
   "metadata": {},
   "source": [
    "The solver requires us to give it the Hamiltonian of the system, the state or density matrix to evolve, the list of times to evolve it over, and a list of operators for which to calculate expectation values."
   ]
  },
  {
   "cell_type": "code",
   "execution_count": 58,
   "id": "647360ed-d5f0-4060-8990-45ce66a21270",
   "metadata": {},
   "outputs": [
    {
     "data": {
      "image/png": "[encoded data removed]",
      "text/plain": [
       "<Figure size 1000x600 with 1 Axes>"
      ]
     },
     "metadata": {},
     "output_type": "display_data"
    }
   ],
   "source": [
    "output1 = mesolve(H1, psi0, tlist,e_ops= [a.dag() * a, sm.dag() * sm])\n",
    "\n",
    "n_a = output1.expect[1]\n",
    "\n",
    "fig, axes = plt.subplots(1, 1, figsize=(10, 6))\n",
    "\n",
    "axes.plot(tlist, n_a, label=\"Atom excited state\")\n",
    "axes.legend(loc=0)\n",
    "axes.set_xlabel(\"Time\")\n",
    "axes.set_ylabel(\"Occupation probability\")\n",
    "axes.set_title(\"Vacuum Rabi oscillations\");"
   ]
  },
  {
   "cell_type": "markdown",
   "id": "f3e9e3dd-b6ef-46e6-8788-a1b6857eceae",
   "metadata": {},
   "source": [
    "We see oscillations between the ground and excited states of the atom as expected.\n",
    "\n",
    "Now, we simulate the case where there are interactions between the atom and the cavity."
   ]
  },
  {
   "cell_type": "code",
   "execution_count": 59,
   "id": "d04e4aeb-f1e7-4804-bf11-89855af284a4",
   "metadata": {},
   "outputs": [
    {
     "data": {
      "image/png": "[encoded data removed]",
      "text/plain": [
       "<Figure size 1000x600 with 1 Axes>"
      ]
     },
     "metadata": {},
     "output_type": "display_data"
    }
   ],
   "source": [
    "H2 = H = wc * a.dag() * a + wa * sm.dag() * sm + g * (a.dag() * sm + a * sm.dag())\n",
    "output2 = mesolve(H2, psi0, tlist,e_ops= [a.dag() * a, sm.dag() * sm])\n",
    "\n",
    "n2_c = output2.expect[0]\n",
    "n2_a = output2.expect[1]\n",
    "\n",
    "fig, axes = plt.subplots(1, 1, figsize=(10, 6))\n",
    "\n",
    "axes.plot(tlist, n2_c, label=\"Cavity\")\n",
    "axes.plot(tlist, n2_a, label=\"Atom excited state\")\n",
    "axes.legend(loc=0)\n",
    "axes.set_xlabel(\"Time\")\n",
    "axes.set_ylabel(\"Occupation probability\")\n",
    "axes.set_title(\"Vacuum Rabi oscillations\");"
   ]
  },
  {
   "cell_type": "code",
   "execution_count": 60,
   "id": "e6037d63-9857-430f-9bc2-43226c5ad687",
   "metadata": {},
   "outputs": [
    {
     "data": {
      "text/plain": [
       "[<matplotlib.lines.Line2D at 0x126d6eed0>]"
      ]
     },
     "execution_count": 60,
     "metadata": {},
     "output_type": "execute_result"
    },
    {
     "data": {
      "image/png": "[encoded data removed]",
      "text/plain": [
       "<Figure size 640x480 with 1 Axes>"
      ]
     },
     "metadata": {},
     "output_type": "display_data"
    }
   ],
   "source": [
    "plt.plot(tlist, n2_c+n2_a)"
   ]
  },
  {
   "cell_type": "markdown",
   "id": "d40936d1-cf3e-47d7-9cdc-163622d66b61",
   "metadata": {},
   "source": [
    "The occupation probabilities of both the atom excited states and cavity oscillate, but the net occupation probability stays constant as the energy keeps being exchanged between the atom and the cavity. We looked at the evolution of a state vector above. QuTip also allows for simulating the evolution of a density matrix. While we chose a time-independent Hamiltonian for our demonstration above, QuTip also allows for simulating the evolution of states/denstiy matrices over time-dependent Hamiltonians."
   ]
  },
  {
   "cell_type": "markdown",
   "id": "f1bf7576-f649-4ae0-a5d4-17176a5c6a73",
   "metadata": {},
   "source": [
    "### Optimal control using GRadient Ascent Pulse Engineering (GRAPE) algorithm \n",
    "\n",
    "Finally, we move on to demonstrate the implementation of the GRAPE algorithm in QuTip. For this part, we also need to install qutip.control and qutip.control.grape\n",
    "\n",
    "To implement a unitary gate on a circuit, one needs to decompose the unitary gate in terms of a set of basis gates. For instance, in a physical system with neutral atoms that can get excited by lasers, the required unitary transformation is obtained by sending a series of pulses. We saw above how a SWAP gate can be decomposed in terms of three CNOT gates. However, for an arbitrary unitary transformation, this decomposition can be highly non-trivial. The GRAPE algorithm solves this problem by assuming a series of pulses and trying to find for the optimal set through gradient descent. The qutip.control allows one to find a solution using the GRAPE algorithm."
   ]
  },
  {
   "cell_type": "code",
   "execution_count": 61,
   "id": "a43b9d33-fd77-49e4-ab0d-294c117aa981",
   "metadata": {},
   "outputs": [],
   "source": [
    "import matplotlib.pyplot as plt\n",
    "import time\n",
    "import numpy as np\n",
    "from qutip import *\n",
    "from qutip.control import *\n",
    "from qutip_qip.circuit import *\n",
    "from qutip_qip.operations import *\n",
    "from qutip.control.grape import plot_grape_control_fields, _overlap, grape_unitary_adaptive, cy_grape_unitary"
   ]
  },
  {
   "cell_type": "markdown",
   "id": "ceeeb23c-3b66-4204-aba2-1384efd3df23",
   "metadata": {},
   "source": [
    "The function for the GRAPE algorithm requires as arguments the unitary matrix that we're trying to achieve, the background Hamiltonian over which the system evolves without the pulses, the set of basis gates, the number of pulses, the initial values for the pulses and the timestamps where we're applying the pulses .\n",
    "\n",
    "For our demonstration, we choose the CNOT gate as our target unitary gate. We take the basis gates, $H_{ops}$, to be the Pauli matrices acting on each individal qubits, i.e. we take them to be $\\sigma_i \\bigotimes I$ and $I \\bigotimes \\sigma_i$. We set the number of \"pulses\" to be 500. To make the problem simple, we set the background Hamiltonian to zero. We initialize the initial values of the pulses for each gate to be random values."
   ]
  },
  {
   "cell_type": "code",
   "execution_count": 62,
   "id": "18d590c6-5998-4106-a09b-d95f8adf5925",
   "metadata": {},
   "outputs": [],
   "source": [
    "U = cnot()\n",
    "R = 500\n",
    "times = np.linspace(0,2 * np.pi , R)\n",
    "H_ops = [tensor(sigmax(), identity(2)),\n",
    "         tensor(sigmay(), identity(2)),\n",
    "         tensor(sigmaz(), identity(2)),\n",
    "         tensor(identity(2), sigmax()),\n",
    "         tensor(identity(2), sigmay()),\n",
    "         tensor(identity(2), sigmaz())]\n",
    "\n",
    "H_labels = [r'$u_{1x}$', r'$u_{1y}$', r'$u_{1z}$', r'$u_{2x}$', r'$u_{1y}$', r'$u_{2z}$']\n",
    "\n",
    "H0 = 0 * tensor(qeye(2),qeye(2))\n",
    "u0 = np.array([np.random.rand(len(times)) * 2 * np.pi * 0.05 for _ in range(len(H_ops))])\n",
    "\n",
    "\n",
    "result = cy_grape_unitary(U, H0, H_ops, R, times, u_start=u0)"
   ]
  },
  {
   "cell_type": "markdown",
   "id": "55156af8-2444-46d3-9e73-300f468733cc",
   "metadata": {},
   "source": [
    "We plot the results below."
   ]
  },
  {
   "cell_type": "code",
   "execution_count": 63,
   "id": "3fa9ea7f-1720-4d85-bc07-2e801f7cf6f0",
   "metadata": {},
   "outputs": [
    {
     "data": {
      "image/png": "[encoded data removed]",
      "text/plain": [
       "<Figure size 800x1200 with 6 Axes>"
      ]
     },
     "metadata": {},
     "output_type": "display_data"
    }
   ],
   "source": [
    "plot_grape_control_fields(times, result.u / (2 * np.pi), H_labels, uniform_axes=True);"
   ]
  },
  {
   "cell_type": "markdown",
   "id": "a19029a1-6642-4080-87f9-21125cb72a3e",
   "metadata": {},
   "source": [
    "The resultant unitary gate we got can be seen using"
   ]
  },
  {
   "cell_type": "code",
   "execution_count": 64,
   "id": "e5da2ccf-52f8-46b6-8bcd-889c97437620",
   "metadata": {},
   "outputs": [
    {
     "data": {
      "text/latex": [
       "Quantum object: dims=[[2, 2], [2, 2]], shape=(4, 4), type='oper', dtype=Dense, isherm=False$$\\left(\\begin{array}{cc}(-0.056+0.276j) & (-0.866+0.373j) & (0.018+0.048j) & (-0.097+0.141j)\\\\(-0.936+0.113j) & (0.187+0.210j) & (-0.133+0.108j) & (0.049+0.014j)\\\\(-0.049+0.014j) & (-0.133-0.108j) & (0.187-0.210j) & (0.936+0.113j)\\\\(-0.097-0.141j) & (-0.018+0.048j) & (0.866+0.373j) & (-0.056-0.276j)\\end{array}\\right)$$"
      ],
      "text/plain": [
       "Quantum object: dims=[[2, 2], [2, 2]], shape=(4, 4), type='oper', dtype=Dense, isherm=False\n",
       "Qobj data =\n",
       "[[-0.05627368+0.27609366j -0.86596776+0.37255659j  0.01796094+0.04789712j\n",
       "  -0.0972957 +0.14079704j]\n",
       " [-0.93589078+0.11316809j  0.18741771+0.21040208j -0.13305916+0.10763606j\n",
       "   0.04911516+0.01429792j]\n",
       " [-0.04911516+0.01429792j -0.13305916-0.10763606j  0.18741771-0.21040208j\n",
       "   0.93589078+0.11316809j]\n",
       " [-0.0972957 -0.14079704j -0.01796094+0.04789712j  0.86596776+0.37255659j\n",
       "  -0.05627368-0.27609366j]]"
      ]
     },
     "execution_count": 64,
     "metadata": {},
     "output_type": "execute_result"
    }
   ],
   "source": [
    "result.U_f"
   ]
  },
  {
   "cell_type": "markdown",
   "id": "acb3a3d4-74a7-4a3e-af46-74ce222ab047",
   "metadata": {},
   "source": [
    "The fidelity of our final gate is given by"
   ]
  },
  {
   "cell_type": "code",
   "execution_count": 65,
   "id": "2bbe0665-94bf-4fb8-8f86-7c388f294614",
   "metadata": {},
   "outputs": [
    {
     "data": {
      "text/plain": [
       "(0.48325064343386803+0.24305510605499253j)"
      ]
     },
     "execution_count": 65,
     "metadata": {},
     "output_type": "execute_result"
    }
   ],
   "source": [
    "_overlap(U, result.U_f)"
   ]
  },
  {
   "cell_type": "markdown",
   "id": "dce4a074-8eba-4bf8-a5be-2bf5cac68aec",
   "metadata": {},
   "source": [
    "We see that the fidelity we obtained is not very good. We can improve upon this by starting with a bigger set of basis gates, allowing for a greater number of pulses and choosing the initial values of the pulses more carefully."
   ]
  },
  {
   "cell_type": "code",
   "execution_count": null,
   "id": "368fac32-4f74-43f9-b60e-af42a706a02f",
   "metadata": {},
   "outputs": [],
   "source": []
  },
  {
   "cell_type": "code",
   "execution_count": null,
   "id": "89b98407-3fdf-4d80-a842-d2583f9b258e",
   "metadata": {},
   "outputs": [],
   "source": []
  }
 ],
 "metadata": {
  "kernelspec": {
   "display_name": "Python 3 (ipykernel)",
   "language": "python",
   "name": "python3"
  },
  "language_info": {
   "codemirror_mode": {
    "name": "ipython",
    "version": 3
   },
   "file_extension": ".py",
   "mimetype": "text/x-python",
   "name": "python",
   "nbconvert_exporter": "python",
   "pygments_lexer": "ipython3",
   "version": "3.11.7"
  }
 },
 "nbformat": 4,
 "nbformat_minor": 5
}
